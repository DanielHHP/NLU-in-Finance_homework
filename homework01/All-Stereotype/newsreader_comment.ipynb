{
 "cells": [
  {
   "cell_type": "markdown",
   "metadata": {
    "collapsed": true
   },
   "source": [
    "![](http://wiki.swarma.net/images/e/e7/集智AI学园首页左上角logo_2017.8.17.png)"
   ]
  },
  {
   "cell_type": "code",
   "execution_count": 1,
   "metadata": {},
   "outputs": [],
   "source": [
    "__author__ = 'Allan'"
   ]
  },
  {
   "cell_type": "markdown",
   "metadata": {},
   "source": [
    "# 一切都是套路"
   ]
  },
  {
   "cell_type": "markdown",
   "metadata": {},
   "source": [
    "每天看到的财经新闻充斥着种种市场信息，有些是高质量报导，有些只是照本宣科，或者是把类似的内容透过媒体反复播送给大众，以塑造公司对外形象。这些都是金融市场常见的媒体操作。所以我们这次就利用最简单的Char-RNN反复阅读财经新闻来学习藏在语言结构内的套路，看看这些看多了新闻内容的神经网络，会鹦鹉学舌出哪些经典内容。"
   ]
  },
  {
   "cell_type": "code",
   "execution_count": 2,
   "metadata": {},
   "outputs": [],
   "source": [
    "#!/usr/bin/env python\n",
    "#coding=utf-8\n",
    "import sys\n",
    "from IPython.display import Image\n",
    "\n",
    "\n",
    "import os,sys\n",
    "import numpy as np\n",
    "import random\n",
    "import codecs\n",
    "import torch as t\n",
    "from torch import nn\n",
    "import torch.nn.functional as F\n",
    "from torch.autograd import Variable\n",
    "\n",
    "\n",
    "is_cuda = t.cuda.is_available()"
   ]
  },
  {
   "cell_type": "markdown",
   "metadata": {},
   "source": [
    "### 处理“脏语料”，去除语料中的HTML标签"
   ]
  },
  {
   "cell_type": "code",
   "execution_count": 3,
   "metadata": {},
   "outputs": [],
   "source": [
    "# 非常有效的去HTML标记的方法\n",
    "# 可以去除所有的<任意字符>标签\n",
    "import re\n",
    "html_tag= re.compile(r'<[^>]+>')\n",
    "def remove_tags(text):\n",
    "    # re.sub方法可以将匹配到的内容替换为指定内容\n",
    "    # 本例中将匹配到的HTML标签替换为了''，无~\n",
    "    return html_tag.sub('', text)"
   ]
  },
  {
   "cell_type": "markdown",
   "metadata": {},
   "source": [
    "**Tips:**\n",
    "\n",
    "关于正则表达式 `r'<[^>]+>'` 的解析。\n",
    "\n",
    "- 字符串前的r代表其后的字符串内容不进行转义。\n",
    "\n",
    "- `<` 代表匹配HTML标签中的第一个<。\n",
    "\n",
    "- `[^>]+` 代表匹配除了'>'之外的任意个字符。\n",
    "\n",
    "- `>` 代表匹配HTML标签的结束符>。"
   ]
  },
  {
   "cell_type": "markdown",
   "metadata": {},
   "source": [
    "### 获取语料中的所有“字”"
   ]
  },
  {
   "cell_type": "code",
   "execution_count": 4,
   "metadata": {},
   "outputs": [
    {
     "name": "stdout",
     "output_type": "stream",
     "text": [
      "total chars:1419584\n",
      "['存', '银', '行', '不', '如', '存', '活', '期', '宝', '，']\n"
     ]
    }
   ],
   "source": [
    "corpus=[]\n",
    "# 使用 with as 的方式可以免去“手动关闭文件”的操作\n",
    "with codecs.open('news1.txt', 'r', 'utf-8') as f:\n",
    "    corpus = list(''.join(f.readlines()))\n",
    "\n",
    "print('total chars:{0}'.format(len(corpus)))\n",
    "print(corpus[:10])\n"
   ]
  },
  {
   "cell_type": "markdown",
   "metadata": {},
   "source": [
    "**Tips:**\n",
    "\n",
    "这里 `list(''.join(f.readlines()))` 是一种很巧妙的用法。\n",
    "\n",
    "`''.join(f.readlines())`中，'key'.join('seq')可以将字符串seq中每个字符间用key链接。key为空''，则把字符串按每个字进行切分，此时再转换为list，则获得了字符列表。\n",
    "\n",
    "关于`''.join`的详细说明：http://blog.csdn.net/he_jian1/article/details/40980049\n",
    "\n",
    "另外本例中打开文件用的`codecs`也是一个知识点，涉及到多国语言的编码转换，详情请见：http://www.jb51.net/article/63708.htm"
   ]
  },
  {
   "cell_type": "markdown",
   "metadata": {},
   "source": [
    "### 建立字典"
   ]
  },
  {
   "cell_type": "code",
   "execution_count": 5,
   "metadata": {
    "scrolled": true
   },
   "outputs": [
    {
     "name": "stdout",
     "output_type": "stream",
     "text": [
      "vocabs:3545\n"
     ]
    }
   ],
   "source": [
    "\n",
    "# 建立字典，我自己写的程序要5句代码才能建立字典\n",
    "# 下面建立字典的代码写的真简洁，真是学习啦！\n",
    "vocabs = sorted(list(set(''.join(corpus))))\n",
    "print('vocabs:{}'.format(len(vocabs)))\n",
    "\n",
    "# 建立通过ID查某个字\n",
    "# 以及通过字查ID的两个字典序列\n",
    "idx2char= {i: w for i, w in enumerate(vocabs)}\n",
    "char2idx = {w: i for i, w in enumerate(vocabs)}"
   ]
  },
  {
   "cell_type": "markdown",
   "metadata": {},
   "source": [
    "### 选择训练语料"
   ]
  },
  {
   "cell_type": "code",
   "execution_count": 6,
   "metadata": {},
   "outputs": [
    {
     "name": "stdout",
     "output_type": "stream",
     "text": [
      "Length of text: 204800 \n",
      "Content of Text: ['存', '银', '行', '不', '如', '存', '活', '期', '宝', '，']\n",
      "Length of encoded: 204800 \n",
      "Content of encoded: [ 876 3111 2680  172  824  876 1771 1527  900 3527]\n",
      "存\n"
     ]
    }
   ],
   "source": [
    "# n_seqs 就是一個minibatch中幾個序列\n",
    "# n_steps 類似序列長概念\n",
    "n_seqs, n_steps = 64, 32\n",
    "curr_idx = 0\n",
    "# corpus len is 141958\n",
    "# text中保存的是选择的训练语料\n",
    "text=corpus[curr_idx:curr_idx+n_seqs* n_steps*100]\n",
    "\n",
    "# 将选择的训练语料全部转化成索引，保存到encoded中\n",
    "encoded = np.array([char2idx[ch] for ch in text])\n",
    "\n",
    "print('Length of text:', len(text), '\\nContent of Text:', text[0:10])\n",
    "print('Length of encoded:', len(encoded), '\\nContent of encoded:', encoded[0:10])\n",
    "\n",
    "print(idx2char[encoded[0]])"
   ]
  },
  {
   "cell_type": "markdown",
   "metadata": {},
   "source": [
    "### 为输入x创建独热编码向量"
   ]
  },
  {
   "cell_type": "code",
   "execution_count": 7,
   "metadata": {},
   "outputs": [],
   "source": [
    "# 独热编码\n",
    "def one_hot_encode(arr, n_labels):\n",
    "    # 为arr中的每个词建立词向量做准备\n",
    "    # one_hot的行数是arr的长宽相乘，其实就是arr中的每个字\n",
    "    # one_hot的第二维是n_labels，即字典长度\n",
    "    # 即为arr中的每个字建立长度为n_labels的向量\n",
    "    # 如果windows上产生IntTensor的问题，可以参考：\n",
    "    # http://blog.csdn.net/u011276025/article/details/73826562\n",
    "    one_hot = np.zeros((np.multiply(*arr.shape), n_labels), dtype=np.float32)\n",
    "    # 下面这一句相当于一个for each循环，对我来说是非常高深的程序写法，\n",
    "    # 首先，np.arange(one_hot.shape[0])遍历的是one_hot的第一维，也就是循环arr中的每一个字\n",
    "    # arr.flatten()会遍历给出arr中每个字的索引号，也就是one_hot向量中应该置为1的位置\n",
    "    one_hot[np.arange(one_hot.shape[0]), arr.flatten()] = 1.\n",
    "    # 再转回三维\n",
    "    one_hot = one_hot.reshape((*arr.shape, n_labels))\n",
    "    return one_hot"
   ]
  },
  {
   "cell_type": "markdown",
   "metadata": {},
   "source": [
    "**Tips:**\n",
    "\n",
    "关于arr.flatten():"
   ]
  },
  {
   "cell_type": "code",
   "execution_count": 8,
   "metadata": {},
   "outputs": [
    {
     "name": "stdout",
     "output_type": "stream",
     "text": [
      "[ 876 3111 2680  172  824  876 1771 1527  900 3527]\n"
     ]
    }
   ],
   "source": [
    "a = encoded[:10]\n",
    "print(a.flatten())"
   ]
  },
  {
   "cell_type": "markdown",
   "metadata": {},
   "source": [
    "### 搭建训练批次生成器“generator”"
   ]
  },
  {
   "cell_type": "code",
   "execution_count": 9,
   "metadata": {},
   "outputs": [],
   "source": [
    "# 获取批次\n",
    "def get_batches(arr, n_seqs, n_steps):\n",
    "    '''Create a generator that returns mini-batches of size\n",
    "       n_seqs x n_steps from arr.\n",
    "    '''\n",
    "    # 针对传入序列arr，分batch\n",
    "    batch_size = n_seqs * n_steps\n",
    "    n_batches = len(arr)//batch_size\n",
    "    \n",
    "    # Keep only enough characters to make full batches\n",
    "    arr = arr[:n_batches * batch_size]\n",
    "    # Reshape into n_seqs rows\n",
    "    arr = arr.reshape((n_seqs, -1))\n",
    "    \n",
    "    for n in range(0, arr.shape[1], n_steps):\n",
    "        # The features\n",
    "        x = arr[:, n:n+n_steps]\n",
    "        # The targets, shifted by one\n",
    "        y = np.zeros_like(x)\n",
    "        try:\n",
    "            y[:, :-1], y[:, -1] = x[:, 1:], arr[:, n+n_steps]\n",
    "        except IndexError:\n",
    "            y[:, :-1], y[:, -1] = x[:, 1:], arr[:, 0]\n",
    "        yield x, y\n",
    "        \n"
   ]
  },
  {
   "cell_type": "markdown",
   "metadata": {},
   "source": [
    "**Tips:**\n",
    "\n",
    "关于`get_batches`以及`yield`和`generator`。\n",
    "\n",
    "有同学问：get_batches方法里面有for循环，生成每一个batch的时候，x,y数据不会被覆盖吗?\n",
    "\n",
    "这是Python生成器（generator）的机制，yield语句执行结束之后不会结束函数，而是回到for循环的开头，等待下一次被next调用。\n",
    "\n",
    "请看："
   ]
  },
  {
   "cell_type": "code",
   "execution_count": 10,
   "metadata": {
    "scrolled": true
   },
   "outputs": [
    {
     "name": "stdout",
     "output_type": "stream",
     "text": [
      "What get_batches returns:\n",
      " <generator object get_batches at 0x7f6ab431df68>\n",
      "x:\n",
      " [[ 876 3111 2680 ...   15   15   11]\n",
      " [  15   16   20 ... 3111 2680   16]\n",
      " [1219  135 1345 ... 2730 3527  138]\n",
      " ...\n",
      " [1520  904 2719 ...  270 2091  555]\n",
      " [3188  228 1341 ...    0    1 2950]\n",
      " [ 444 2394 2360 ... 1018 3283 3245]]\n",
      "y:\n",
      " [[3111 2680  172 ...   15   11   21]\n",
      " [  16   20   14 ... 2680   16   12]\n",
      " [ 135 1345  863 ... 3527  138 2721]\n",
      " ...\n",
      " [ 904 2719  134 ... 2091  555  457]\n",
      " [ 228 1341   20 ...    1 2950 1067]\n",
      " [2394 2360 2644 ... 3283 3245  531]]\n",
      "x:\n",
      " [[  21   17  346 ... 1466  465 2833]\n",
      " [  12   23   22 ...   22   12   37]\n",
      " [2721  454  139 ...  406  527  599]\n",
      " ...\n",
      " [ 457  135    0 ... 2829 1449 1085]\n",
      " [1067  323 2859 ... 1445  522 2330]\n",
      " [ 531  513 3527 ... 3527  382 1623]]\n",
      "y:\n",
      " [[  17  346  135 ...  465 2833 3522]\n",
      " [  23   22   16 ...   12   37   40]\n",
      " [ 454  139 3196 ...  527  599  570]\n",
      " ...\n",
      " [ 135    0    1 ... 1449 1085 3527]\n",
      " [ 323 2859 1417 ...  522 2330  641]\n",
      " [ 513 3527 2949 ...  382 1623 2530]]\n"
     ]
    }
   ],
   "source": [
    "i = 0\n",
    "print('What get_batches returns:\\n', get_batches(encoded, n_seqs, n_steps))\n",
    "\n",
    "for x, y in get_batches(encoded, n_seqs, n_steps):\n",
    "    print('x:\\n', x)\n",
    "    print('y:\\n', y)\n",
    "    i += 1\n",
    "    if i == 2:\n",
    "        break"
   ]
  },
  {
   "cell_type": "markdown",
   "metadata": {},
   "source": [
    "## Focal Loss 让深度学习不再柿子挑软的吃"
   ]
  },
  {
   "cell_type": "markdown",
   "metadata": {},
   "source": [
    "訓練初期由於神經網路想偷懶因此一開始出現的大多都是最常見的數字、標點、虛字。\n",
    "\n",
    "为什么出现常见的字就是神经网络偷懒？\n",
    "\n",
    "其實掏覽這事情的確是個擬人化的講法，但是實質上的概念是，模型不夠複雜，還停留在淺層規則。\n",
    "所以不管是甚麼狀況他就會直接給那些出現頻次本來就高的字。\n",
    "因為這是降低loss最速效的方法 但是這個方法卻會害loss難以再降下去。\n",
    "\n",
    "出现高频词就是让它的loss比其他词语的loss会小一点\n",
    "\n",
    "所以這正是為何我我要建議使用focal loss以及pull away term loss\n",
    "\n",
    "focal loss是激勵模型除了高頻詞外 也更有動機去處理低頻詞(他做了加權) pt loss則是針對不管甚麼狀況都給予類似的預測值這個行為給予懲罰。"
   ]
  },
  {
   "cell_type": "markdown",
   "metadata": {},
   "source": [
    "Focal loss的PyTorch实现：\n",
    "https://zhuanlan.zhihu.com/p/28527749\n",
    "\n",
    "Focal Loss 目标函数: Focal Loss for Dense Object Detection, https://arxiv.org/abs/1708.02002"
   ]
  },
  {
   "cell_type": "code",
   "execution_count": 11,
   "metadata": {},
   "outputs": [
    {
     "data": {
      "image/jpeg": "[encoded data removed]",
      "text/plain": [
       "<IPython.core.display.Image object>"
      ]
     },
     "execution_count": 11,
     "metadata": {},
     "output_type": "execute_result"
    }
   ],
   "source": [
    "Image(filename='focalloss.jpg')"
   ]
  },
  {
   "cell_type": "code",
   "execution_count": 12,
   "metadata": {},
   "outputs": [],
   "source": [
    "class FocalLoss(nn.Module):\n",
    "    def __init__(self, gamma=0, alpha=None, size_average=True):\n",
    "        super(FocalLoss, self).__init__()\n",
    "        self.gamma = gamma\n",
    "        self.alpha = alpha\n",
    "        if isinstance(alpha,(float)): self.alpha = t.Tensor([alpha,1-alpha])\n",
    "        if isinstance(alpha,list): self.alpha = t.Tensor(alpha)\n",
    "        self.size_average = size_average\n",
    "\n",
    "    def forward(self, input, target):\n",
    "        if input.dim()>2:\n",
    "            input = input.view(input.size(0),input.size(1),-1)  # N,C,H,W => N,C,H*W\n",
    "            input = input.transpose(1,2)    # N,C,H*W => N,H*W,C\n",
    "            input = input.contiguous().view(-1,input.size(2))   # N,H*W,C => N*H*W,C\n",
    "        target = target.view(-1,1)\n",
    "\n",
    "        logpt = F.log_softmax(input, dim=1)\n",
    "        logpt = logpt.gather(1,target)\n",
    "        logpt = logpt.view(-1)\n",
    "        pt = Variable(logpt.data.exp())\n",
    "\n",
    "        if self.alpha is not None:\n",
    "            if self.alpha.type()!=input.data.type():\n",
    "                self.alpha = self.alpha.type_as(input.data)\n",
    "            at = self.alpha.gather(0,target.data.view(-1))\n",
    "            logpt = logpt * Variable(at)\n",
    "\n",
    "        loss = -1 * (1-pt)**self.gamma * logpt\n",
    "        if self.size_average: return loss.mean()\n",
    "        else: return loss.sum()"
   ]
  },
  {
   "cell_type": "markdown",
   "metadata": {},
   "source": [
    "## Pull-away term Loss   让深度学习从此喜欢多变"
   ]
  },
  {
   "cell_type": "markdown",
   "metadata": {},
   "source": [
    "Pull-away term Loss最初是使用在基于能量的GAN(EBGAN)中被提出，主要是一个附加的损失项，用以处罚生成模型偷懒只产出过度单一的图片，他是根据输入向量的内部相似性指标，越不相似(相似度越接近零)则惩罚越低。我们可以借用来用在LSTM中来改善中文模型大量生成数字、虚字(的、了、太…)等行为"
   ]
  },
  {
   "cell_type": "code",
   "execution_count": 13,
   "metadata": {},
   "outputs": [],
   "source": [
    "def pullaway_loss(embeddings):\n",
    "    norm = t.sqrt(t.sum(embeddings ** 2.0, 1, keepdim=True))\n",
    "    normalized_embeddings = embeddings / norm\n",
    "    similarity = t.matmul(normalized_embeddings, normalized_embeddings.transpose(1, 0))\n",
    "    batch_size = embeddings.size()[0]\n",
    "    pt_loss = (t.sum(similarity) - batch_size) / (batch_size * (batch_size - 1))\n",
    "    return pt_loss\n",
    "\n",
    "\n"
   ]
  },
  {
   "cell_type": "markdown",
   "metadata": {},
   "source": [
    "### 定义CharRNN模型！"
   ]
  },
  {
   "cell_type": "code",
   "execution_count": 14,
   "metadata": {},
   "outputs": [
    {
     "data": {
      "image/png": "[encoded data removed]",
      "text/plain": [
       "<IPython.core.display.Image object>"
      ]
     },
     "execution_count": 14,
     "metadata": {},
     "output_type": "execute_result"
    }
   ],
   "source": [
    "Image(filename='charrnn.png')"
   ]
  },
  {
   "cell_type": "code",
   "execution_count": 15,
   "metadata": {},
   "outputs": [],
   "source": [
    "# 在PyTorch中，我们的深度学习模型都要集成自nn.Module\n",
    "class CharRNN(nn.Module):\n",
    "    def __init__(self, vocabs, n_steps=100, n_hidden=256, n_layers=2,\n",
    "                               drop_prob=0.5, lr=0.001):\n",
    "        super().__init__()\n",
    "        # dropout 概率\n",
    "        self.drop_prob = drop_prob\n",
    "        # 全连接层数\n",
    "        self.n_layers = n_layers\n",
    "        # LSTM网络模块中隐状态的特征维度\n",
    "        self.n_hidden = n_hidden\n",
    "        # 学习率\n",
    "        self.lr = lr\n",
    "        \n",
    "        # 传进的“字典”\n",
    "        self.vocabs = vocabs\n",
    "        # 通过索引号查字\n",
    "        self.idx2char = dict(enumerate(self.vocabs))\n",
    "        # 通过字查索引号\n",
    "        self.char2idx = {ch: ii for ii, ch in self.idx2char.items()}\n",
    "        \n",
    "        # 定义dropout\n",
    "        self.dropout = nn.Dropout(drop_prob)\n",
    "        \n",
    "        # 在本程序块的下方有LSTM的中文官方文档\n",
    "        # LSTM参数的意义可以参考\n",
    "        self.lstm = nn.LSTM(len(self.vocabs), n_hidden, n_layers, \n",
    "                            dropout=drop_prob, batch_first=True)\n",
    "        \n",
    "        # 全连接层，神经元个数与字典长度相同\n",
    "        self.fc = nn.Linear(n_hidden, len(self.vocabs))\n",
    "        \n",
    "        # 初始化权重\n",
    "        self.init_weights()\n",
    "        \n",
    "    # 正向传播\n",
    "    def forward(self, x, hc):\n",
    "        # LSTM层，h即隐状态，c是细胞状态\n",
    "        x, (h, c) = self.lstm(x, hc)\n",
    "        # dropout\n",
    "        x = self.dropout(x)\n",
    "        \n",
    "        # 把x从3维转化为2维，准备进行全连接\n",
    "        x = x.view(x.size()[0]*x.size()[1], self.n_hidden)\n",
    "        \n",
    "        # 全连接\n",
    "        x = self.fc(x)\n",
    "        \n",
    "        # 返回预测值，以及隐状态和细胞状态\n",
    "        return x, (h, c)\n",
    "    \n",
    "    def predict(self, char, h=None, cuda=False, top_k=None):\n",
    "        ''' 输入一个字去预测下一个字\n",
    "            回传预测的字以及隐状态\n",
    "        '''\n",
    "        if cuda:\n",
    "            self.cuda()\n",
    "        else:\n",
    "            self.cpu()\n",
    "        \n",
    "        if h is None:\n",
    "            h = self.init_hidden(1)\n",
    "        \n",
    "        # 获得输入的字的索引号\n",
    "        x = np.array([[self.char2idx[char]]])\n",
    "        # 将x转换为独热编码向量\n",
    "        x = one_hot_encode(x, len(self.vocabs))\n",
    "        # 将x转换为Variable input\n",
    "        inputs = Variable(t.from_numpy(x), volatile=True)\n",
    "        # 如果有GPU\n",
    "        if cuda:\n",
    "            inputs = inputs.cuda()\n",
    "        \n",
    "        # 这里为每个h创建Variable，并保存在元组里\n",
    "        # 有不了解元组的：https://www.cnblogs.com/whatisfantasy/p/5956759.html\n",
    "        h = tuple([Variable(each.data, volatile=True) for each in h])\n",
    "        \n",
    "        # 传入输入数据（一个字的独热编码向量）与隐状态到神经网络模型中\n",
    "        out, h = self.forward(inputs, h)\n",
    "        \n",
    "        # softmax\n",
    "        p = F.softmax(out, dim=1).data\n",
    "        \n",
    "        # 如果p在GPU里，先要把p取回到CPU\n",
    "        if cuda:\n",
    "            p = p.cpu()\n",
    "        \n",
    "        if top_k is None:\n",
    "            top_ch = np.arange(len(self.vocabs))\n",
    "        else:\n",
    "            # 取得预测的最大概率的top_k个字\n",
    "            # p是概率，top_ch是字的索引\n",
    "            p, top_ch = p.topk(top_k)\n",
    "            # tensor 转化为 numpy array\n",
    "            top_ch = top_ch.numpy().squeeze()\n",
    "        \n",
    "        p = p.numpy().squeeze()\n",
    "        # 概率越大的字，被使用的概率也就越大\n",
    "        char = np.random.choice(top_ch, p=p/p.sum())\n",
    "        # 返回预测的字，以及隐状态\n",
    "        return self.idx2char[char], h\n",
    "    \n",
    "    def init_weights(self):\n",
    "        ''' 初始化权重'''\n",
    "        initrange = 0.1\n",
    "        \n",
    "        self.fc.bias.data.fill_(0)\n",
    "        self.fc.weight.data.uniform_(-1, 1)\n",
    "    \n",
    "    \n",
    "    # 创建与batch_size相应数量的隐状态参数\n",
    "    # 训练的时候n_seqs为batch_size\n",
    "    # 评估的时候n_seqs为1\n",
    "    def init_hidden(self, n_seqs):\n",
    "        weight = next(self.parameters()).data\n",
    "        \n",
    "        # 根據hc的形狀來去做一個補好零來替代hc\n",
    "        # h是隐状态，c是LSTM细胞状态\n",
    "        return (Variable(weight.new(self.n_layers, n_seqs, self.n_hidden).zero_()),#h\n",
    "                Variable(weight.new(self.n_layers, n_seqs, self.n_hidden).zero_()))#c"
   ]
  },
  {
   "cell_type": "markdown",
   "metadata": {},
   "source": [
    "### 准备好让模型写点什么了吗？"
   ]
  },
  {
   "cell_type": "code",
   "execution_count": 16,
   "metadata": {},
   "outputs": [],
   "source": [
    "# 后面我们随便写点东西的时候，就拿这些公司名字做开头\n",
    "companies=['格力','科大讯飞','平安银行','神州高铁','东阿阿胶','苏宁环球','云南白药','五粮液','金螳螂','海康威视']\n",
    "\n",
    "def write_something(net, size=200, prime='马云', top_k=5):\n",
    "    if is_cuda:\n",
    "        net.cuda()\n",
    "    else:\n",
    "        net.cpu()\n",
    "\n",
    "    # 让模型变成测试模式，这主要是对dropout和batch normalization的操作在训练和测试的时候是不一样的\n",
    "    net.eval()\n",
    "\n",
    "    # 把提示词保存起来\n",
    "    words = [ch for ch in prime]\n",
    "    # 初始化隐状态\n",
    "    h = net.init_hidden(1)\n",
    "    # 遍历提示词中的每个字\n",
    "    for ch in prime:\n",
    "        # 循环预测，获取使用提示词预测的隐状态h，以及使用提示词预测出的下一个字\n",
    "        char, h = net.predict(ch, h, cuda=True, top_k=top_k)\n",
    "\n",
    "    # 把使用提示词预测出的下一个字保存起来\n",
    "    words.append(char)\n",
    "\n",
    "    # 在把每次結果逐一當作輸入再投入\n",
    "    for ii in range(size):\n",
    "        # 使用新预测出的字再进行下面的预测\n",
    "        char, h = net.predict(words[-1], h, cuda=True, top_k=top_k)\n",
    "        # 保存新预测出的字\n",
    "        words.append(char)\n",
    "\n",
    "    return ''.join(words)\n"
   ]
  },
  {
   "cell_type": "markdown",
   "metadata": {},
   "source": [
    "### 开始训练模型吧！"
   ]
  },
  {
   "cell_type": "code",
   "execution_count": 17,
   "metadata": {},
   "outputs": [],
   "source": [
    "def train(net, data, epochs=100, n_seqs=64, n_steps=32, lr=0.001, clip=5, val_frac=0.1, cuda=False, print_every=10):\n",
    "    global companies\n",
    "    ''' Traing a network \n",
    "    \n",
    "        Arguments\n",
    "        ---------\n",
    "        \n",
    "        net: CharRNN network\n",
    "        data: text data to train the network\n",
    "        epochs: Number of epochs to train\n",
    "        n_seqs: Number of mini-sequences per mini-batch, aka batch size\n",
    "        n_steps: Number of character steps per mini-batch\n",
    "        lr: learning rate\n",
    "        clip: gradient clipping\n",
    "        val_frac: Fraction of data to hold out for validation\n",
    "        cuda: Train with CUDA on a GPU\n",
    "        print_every:每隔几次打印一回训练中间状态\n",
    "    \n",
    "    '''\n",
    "    # 调用训练方法\n",
    "    net.train()\n",
    "    # 优化函数选择Adam\n",
    "    # 关于包括Adam的各种优化函数的解释可以看：\n",
    "    # https://morvanzhou.github.io/tutorials/machine-learning/ML-intro/3-06-speed-up-learning/\n",
    "    opt = t.optim.Adam(net.parameters(), lr=lr)\n",
    "    # 损失函数使用交叉熵损失函数\n",
    "    criterion = nn.CrossEntropyLoss()\n",
    "    \n",
    "    # create training and validation data\n",
    "    # 创建训练数据集、验证数据集\n",
    "    val_idx = int(len(data)*(1-val_frac))\n",
    "    data, val_data = data[:val_idx], data[val_idx:]\n",
    "    \n",
    "    if cuda:\n",
    "        net.cuda()\n",
    "    \n",
    "    counter = 0\n",
    "    n_chars = len(net.vocabs)\n",
    "    for e in range(epochs):\n",
    "        # 根据batch_size初始化隐状态\n",
    "        h = net.init_hidden(n_seqs)\n",
    "        for x, y in get_batches(data, n_seqs, n_steps):\n",
    "            counter += 1\n",
    "            \n",
    "            #  One-hot 将语料转换为pytorch张量\n",
    "            x = one_hot_encode(x, n_chars)\n",
    "            # x为onehot向量\n",
    "            # y没有进行onehot向量化，只是目标文字的索引号，比如234\n",
    "            # 这个和损失函数的定义有关，可以参考文案末尾的交叉熵损失函数说明\n",
    "            x, y = t.from_numpy(x), t.from_numpy(y)\n",
    "            \n",
    "            inputs, targets = Variable(x), Variable(y)\n",
    "            if cuda:\n",
    "                inputs, targets = inputs.cuda(), targets.cuda()\n",
    "\n",
    "            # 把hidden_state放在网络模型外处理，是为了减少不必要的梯度计算\n",
    "            # 是一种提高计算速度的小技巧\n",
    "            h = tuple([Variable(each.data) for each in h])\n",
    "\n",
    "            \n",
    "            # 清空梯度\n",
    "            net.zero_grad()\n",
    "            \n",
    "            # 正向传播\n",
    "            output, h = net.forward(inputs, h)\n",
    "\n",
    "            # 计算损失，除主损失函数外\n",
    "            # 还增加FocalLoss 以及 pullaway_loss 作为额外的损失\n",
    "            loss = criterion(output, targets.view(n_seqs*n_steps))+FocalLoss(gamma=2)(output, targets.view(n_seqs*n_steps))+0.1*pullaway_loss(output)\n",
    "                \n",
    "\n",
    "            # 反向传播，计算梯度\n",
    "            loss.backward()\n",
    "            \n",
    "            # 透过梯度截断机制可以避免梯度爆炸，老师的又一实用技巧，学习了吼吼\n",
    "            nn.utils.clip_grad_norm(net.parameters(), clip)\n",
    "\n",
    "            # 应用梯度\n",
    "            opt.step()\n",
    "            \n",
    "            # 如果不存在，则创建Models文件夹\n",
    "            model_path = os.getcwd() +'/Models/'\n",
    "            if not os.path.exists(model_path):\n",
    "                os.makedirs(model_path)\n",
    "            \n",
    "            # 每两个打印周期保存覆写保存一次最新模型\n",
    "            if counter % 2*print_every == 0:\n",
    "                t.save(net.state_dict(),'Models/CharRnn.rnn')\n",
    "            # 每一个打印周期，以epoch为序号，保存一次最新模型\n",
    "            if counter % print_every == 0:\n",
    "                t.save(net.state_dict(),'Models/CharRnn_{0}.rnn'.format(e))\n",
    "                # Get validation loss\n",
    "                # 获得验证误差\n",
    "                val_h = net.init_hidden(n_seqs)\n",
    "                val_losses = []\n",
    "                for x, y in get_batches(val_data, n_seqs, n_steps):\n",
    "                    # One-hot 将语料转换为pytorch张量\n",
    "                    x = one_hot_encode(x, n_chars)\n",
    "                    x, y = t.from_numpy(x), t.from_numpy(y)\n",
    "                    \n",
    "                    # 为隐状态设计独立变量，以简化计算流程\n",
    "                    val_h = tuple([Variable(each.data, volatile=True) for each in val_h])\n",
    "                    \n",
    "                    inputs, targets = Variable(x, volatile=True), Variable(y, volatile=True)\n",
    "                    if cuda:\n",
    "                        inputs, targets = inputs.cuda(), targets.cuda()\n",
    "\n",
    "                    # 这里与训练流程相似，但是注意并没有梯度计算和反向传播哦\n",
    "                    output, val_h = net.forward(inputs, val_h)\n",
    "                    val_loss = criterion(output, targets.view(n_seqs*n_steps))+FocalLoss(gamma=2)(output, targets.view(n_seqs*n_steps))+0.1*pullaway_loss(output)\n",
    "                \n",
    "                    val_losses.append(val_loss.data[0])\n",
    "                    \n",
    "                #打印模型训练中间状态\n",
    "                print(\"Epoch: {}/{}...\".format(e+1, epochs),\n",
    "                      \"Step: {}...\".format(counter),\n",
    "                      \"Loss: {:.4f}...\".format(loss.data[0]),\n",
    "                      \"Val Loss: {:.4f}\".format(np.mean(val_losses)))\n",
    "                # 随便选一个公司，生成一段话\n",
    "                print(write_something(net, 500, prime=random.choice(companies), top_k=5))\n"
   ]
  },
  {
   "cell_type": "code",
   "execution_count": 18,
   "metadata": {},
   "outputs": [],
   "source": [
    "if 'net' in locals():\n",
    "    del net"
   ]
  },
  {
   "cell_type": "code",
   "execution_count": 19,
   "metadata": {},
   "outputs": [],
   "source": [
    "# 这里n_hidden=512，表示per mini-batch参数数量为512 * 4\n",
    "# 乘以 4 和 LSTM 的结构有关 4重门\n",
    "net = CharRNN(vocabs, n_hidden=512, n_layers=2)\n",
    "#若是模型已经存在则还原\n",
    "if os.path.exists('Models/CharRnn.rnn'):\n",
    "    net.load_state_dict(t.load('Models/CharRnn.rnn'))\n",
    "    print('模型已经加载复原')"
   ]
  },
  {
   "cell_type": "code",
   "execution_count": 20,
   "metadata": {
    "scrolled": true
   },
   "outputs": [
    {
     "name": "stdout",
     "output_type": "stream",
     "text": [
      "Epoch: 1/25... Step: 10... Loss: 13.0648... Val Loss: 15.2478\n",
      "格力21502000002501000020002000040000020402005002405000000040020120,0102440,000000200000040000000200450001000021001504204000400400000000020000000000002400000040000140004000102200000000104520000000002210000200000400500100020501015,000010000004010000000210002000020204045020000000000002001000205000000410000000000020400400010500004002000050200002201,00020000005004000000205000000000020101500004000000200000240010000000400000224001000500010400001100100000050000500000002040002500500020000000000000000020010000\n",
      "Epoch: 1/25... Step: 20... Loss: 11.5867... Val Loss: 13.7642\n",
      "平安银行15011,2525011500121010205,1111,22001005,020100025015500201511000502001201110112010250210011021,0,112001100,002010,5010202,1102101011251012111011550,10100500,211,151,21,111,1,1,81020,0021,20,1100121251211020,1000005010,,1012110121110,51,15151,012058112210,101120,210121,111,510,80021,15121020000011,201,01201012102501211251,11,11110212201101010,11,010220000122111,,1,1121101,,1,,110015012201100,12510,25111110,12,000521,010021521211202001015110210110021200100,005001101,25210,011,0000,0121111,2000,0101\n",
      "Epoch: 1/25... Step: 30... Loss: 11.0051... Val Loss: 13.4469\n",
      "云南白药12,,3000201025,20,,00303338,0,,,308,2,83202320088223828022033,8,388203,32383,0,0,08,0008,0,0,0302200,,20300,00,0,88388,3,08,203,23,,388003222,,03838,0,,00808030002,0,32220008,230,,,,,2,808328302302,,08,,,,8000323,,2,8200003,,838,08080,00,,8,0,3322030800,230820203382,82,020000080330,08,3833020,008,83,2,3,3,8202,08283,003,8328,332,02,3,,,,,008202880,830,3,33,83,2,,0,,0,22,28,2,3,,,,,0888,038,,8,300,,2,888,088328,,00202288833,0003,,,288,,,00302308080,338,,0,8,38,2,023,330,082,,3202,83,,32,,,,,,,322,\n",
      "Epoch: 1/25... Step: 40... Loss: 10.6651... Val Loss: 13.1089\n",
      "五粮液0102012204000050410024,,10554,8,1,5818,05901,,5188,8,0,90,,591,980,10180111,4,8,,,,988,1990,08,1,00,0101,,5,08900000051,002,0010,150,044010,4,,1,,098,9818,0581500151,,489,,1,991,501,1,8,0155,98,10,1811,080,0001010004110500050050045510,00140,040404405,10000104,00410404501,40,0005,55,51,0115,,818801005000210,200205,8,01400,050104004100544,10500141010100500005000501101441000500002052210002000000005000005000202000010401550011,41,141,00501,,80110055,5,10400,04001,0004051,000002004501101405140501,00410\n",
      "Epoch: 1/25... Step: 50... Loss: 9.7843... Val Loss: 12.7169\n",
      "东阿阿胶25150532,002200111,1,00219990200010110200536131010113,2166900000000.02200101000.315116100100000.000211000000000000033.10.0012.05225006001151361100200011300013051501366032060000000000002115015020615021000520001003000.3511520020610010111,000100251000000.150021315151161910,1000002050320332102150000250100003105332203011005062323061,2211,09000623000000000.000..12011021031050100500201000105000000000.01010000000251000.0201.15.10050010520131,10206303100020000001000001221103600200000000031..01101010013012\n",
      "Epoch: 1/25... Step: 60... Loss: 9.7183... Val Loss: 12.5476\n",
      "格力，，的，。、，的，，公司公的的。的，的公司司、的的，，、公的的公、，，，的资。。、公、的、的、公公公的。，、，，资、，公的公司。的、，，资，的公、的，的的。、的、、资、，公公司的，。，资的。的的，。，、，、公公、、司、、，公公的，的、的的的的。。的的公，的公的的，的，，，的、、资、。公公的、、，。的、，、、，，、、公的、，的。，，的，，，的公的，，、的，公，司、的的、公，，司的公、公的，、，公公司、，公司的。、。，、公司公公司的，，、、，，的公司公的、，公公的，的的，。，，公公的的的公的的。的。公、的。、、的、的的的的，，的、的，公的的，、、、的的公公公、的。的公、、，的、，的，资、的的、。、公的的，的公，，的，，，、，，，、的的公公司的的、、的公公，、的。，公，公、司的、，公公、司、。公，的、，的公的，的。，的，，的，、、的的的，的公公，，，、的，，公的，公司，司、。，、的，、，，，公的，公、的的、。的，、资的的公，的，公司，的。，的的、，公公公司，，、公，，的司、的，，、、、公，的，。、公、公公司、。的，的公公、，、公司，的、，、资，的的、。资的的、公，公，的，的。、、公，，公，，、\n",
      "Epoch: 1/25... Step: 70... Loss: 9.3940... Val Loss: 12.4295\n",
      "海康威视，01505001010.000000.10100.0015000015.0111.000006501050.1.611105656602615011565100010200000116.556.5656,12151065100556200115010020055615.015111,260250005601616,051,0615,51,610166621,505060000653.00111566,00505620620101611011150000200010556556011002115,1210,210060016256651500501101020106060000.00.0611.5650011.0211610150261655006620651166106050005016156051,120010165,61166,661,1,62016,51,0562026255516,50000000500061060605510.02116505010561022011,0166010515661560006660151,12616602115550500600000010100\n",
      "Epoch: 1/25... Step: 80... Loss: 9.5477... Val Loss: 12.3561\n",
      "格力，011054336680002030600.46869,80983,00333,0339,099,44,9434,,393,000403,03019494303004403000643300001500006489906139894,490,94,3449889,,83002,413300344049,89830449,3483,930,334,80015343,36399,9,943021,884433,939,9938,3498,4,94,024,33,3,49,4934,34,004,23903,99349,909,3,49343,30,43004040301643,8833,99383,3,89,849,43,2,0434,44,40339,899,3,8,992,01400,31,84094,9,384494,949,99,4400,94443,94040,400010500000400660306600006003360600663901000336863000044000010313400000031))-313669,68303001443601300101004430\n",
      "Epoch: 1/25... Step: 90... Loss: 9.5691... Val Loss: 12.2033\n",
      "神州高铁010.013..06021100100033216,6100000500000260031000500002001053020603,00103,59,393,,959,,53,750305,5001253,560,0521,90000103000315015,3000123533,00000000530330630316633,310,5000003032003101003000000000000006000210000005062033606100000055500060000023101353663636,015005,50333,6300013,3000500015062,396901153,0135,9001000035610,33366,03000550200303201033,66003000003000030330000205500010000035200000002053360,60255,5303,30302,539,593,939921,3,73,593,3,7,9,05,9031,9010,9930,0000013000000000200510001300000\n",
      "Epoch: 2/25... Step: 100... Loss: 9.1912... Val Loss: 12.2656\n",
      "苏宁环球01002420320.25403.20554500350340.405423.55210240430035040030000221050002543325,158,882124,782,55414452,51554,502215,400042,881,201452004504053022,125182,2022,54125,52122,8124,7111488,720,21118,220425144,20204125,020042051544202,88152,5201188,00002545,138,81,52154,1145,24,78551,21254,8025155,4022518,4522,201225,8005025550200052240320040420312,42041,5401,7554,22015,400155,000042,0402,052145,400114,850004,20115550,2542,5200215,82025,8821,14,877,71124,1155,71521,152,50225,5201,8402052140002102401012,\n",
      "Epoch: 2/25... Step: 110... Loss: 9.2891... Val Loss: 12.0668\n",
      "格力0.66208%，新比增16086.6%元，公长司006688，国增业长60.668%。比增0012.6.86.89886.976086.9060000000008Z中股证证券券券3,60,26,801668800000105000300000000000000100404,0660,582,000002080400000040030004200002024,60060,0220001085,000020085034,60201,44600288,40012,00030000006000000188,84023,018,011,8888,62,120,02000150864,06221,646000000000000200001450460,62,01081,008,6000004800000200010000000010500400000000000001580,46022,1100002040446060,82018,40201,802201,843,03000000204000015500022450,018218,8368,0201,848010,8803,001028,0108\n",
      "Epoch: 2/25... Step: 120... Loss: 9.3094... Val Loss: 12.0178\n",
      "科大讯飞3202115000033000036668004040025,0503002101,0030121013046,3001500000060000000050440040224055,0425155144,3300100015364443600011334,060021,5000000020000600053054454333,154554140,30215,54003213,6021,5433031,30032036103630032,43025,34015143,35202,01054,5403150,53211,50141030036,7760221054030060100403060000023303030005,00422354000134,00011530011000030000236001500000000000000000000044000005545501054,54005011545603610010436300032063343,053125,53402205040000332031644,30000500530000000540040350214,30000115\n",
      "Epoch: 2/25... Step: 130... Loss: 9.0515... Val Loss: 11.9878\n",
      "格力，1500014年股银行份2155,00401400004433033610006000000400010000666,09609,598,43,6606600034610000030000166046030,07990414,4036,676,77669,929111,466,03290315,00001500406061363,0606,9901,4401,601,0002,59934,606115,430010400304150640630143040603,01054,6003915,0000303600140360060016,9660,60001,0919,43661,40004,469,0195000414,363,2881,98,8818,44306,0021015,44361,67001005150000030001540036,888,991,99,225,143,4000404040000600063166066,60998,702,9114400,0000200000030100000003090063,600019,50960,99600000300301013\n",
      "Epoch: 2/25... Step: 140... Loss: 8.5383... Val Loss: 11.7613\n",
      "云南白药666015.46.92011015.60600265.S53301000040000503306500003500015556436020504350620015004003565600005000600155535360201,000000904013055030020149国国科101,52,91515,9621,71519,29991550001544.986000148.560000655S国科电131,5041,6019,729150436101504.59015360000000S华中科技609,799,125041,560012403006185000000039中国电技39,88,5015,0100014,983815,0121,90001500363060515中中国11,99,772,1991,5901015,0062005000546063806995001016050055043935600020110406360059040000350401695600010184.0196009015440.999209000546000365600000550536999\n",
      "Epoch: 2/25... Step: 150... Loss: 8.3813... Val Loss: 11.7668\n",
      "东阿阿胶33000000SS国电业1,73,599,7002,5030305,06000500300003063600045504455,055525,550500050,0500030000055国500235,5705,55252,575,73255,5405005,00503505400603005545060,75,550,533,555,5050,755,0052,575023,657,5353,5255,02777,336,27717,536,271,42,2002000553SSZ113,356,760,225,530,703,57017,755,367,720,457,35220,1453,563,372,2505,402,5005,5000055,60002,500105,00025303630005545国515,02,225,5052,337,505,052021,0003,75050005000015545565,550000555500036,3505,542,7052,555,7203,0020,50505,053,73,555,750,520,27,530,3075\n"
     ]
    },
    {
     "name": "stdout",
     "output_type": "stream",
     "text": [
      "Epoch: 2/25... Step: 160... Loss: 8.0742... Val Loss: 11.5261\n",
      "云南白药30104.7S)))券102004.0002.18SHZ120201500016010100140460104991114,60160,7921416,49002,4020214403066000401901266,0154,0201,4001,02201450036060159SZ)92,4920,102015150063000199S))2110.583.300015SHH)10001004363.1820.443.100201440301610000040023104014661061501011033.000020.438001148中国国12,9800,668,8182,124,1516,66,99815,8000202000000020413603601504.60001210.SH1012,4601621,4480122041361000109中股份份21144,960,269,58,6001,550,0002015840162,7902,906,020210400100010000043901415443366098SZ)电1141,600150.90000000009\n",
      "Epoch: 2/25... Step: 170... Loss: 8.2148... Val Loss: 11.3513\n",
      "科大讯飞34,402,7791,90012,50003000339600639899436939091504343,3039,34,90301,50010046014404303667387440013433,3607,1794,300102145,43013915446630090043300000001503363039698SZ)(04300321.543033660018)中国证券001460.398.97%).5%，公司2.5540亿-.2020.20%)，2360.0000218.)H证券(00000018S)Z)证券券-(0000104.380236600309.4388010036.603003.77002.5400339.99804330.09898.09200000369.9001504.000000609.88043,37361,4704,3000004469000309000900393000939030036000046066703366798404363,09040043,3003643,6036,791,400014,00000013346336617799,799\n",
      "Epoch: 2/25... Step: 180... Loss: 8.0969... Val Loss: 11.3163\n",
      "金螳螂0450.40000023.SH华国股1.36.500.36.5%。-213000360.250134.6030100.002000136.6960030003.6600155.SZ中证券券.2025.20102.600003.286.1620201036000022.SSZZ21000363330000503360231400000606006060000300203606006002034340260230003003530000526.0020220300020033036001254040136020255440600105.中中国1011.34060000003华国科技1,30,3500306600006003066001590306020002663600203600330002660603300603360626143,6915,302,2251,3002115503300036066001500433001054003330200003600000003华科股份1,48022,300020360360201360160360620035003600050300606033\n",
      "Epoch: 3/25... Step: 190... Loss: 7.7480... Val Loss: 11.3189\n",
      "平安银行的资产证券化业务，20150.5033.27553.50143.38302.888.SHH)通信证券买入入-0.77.37-117.40150.553.3504.722021.4933.50258.59000185.S)SH中国证券买入入133.015.79%，上公司股股份(300014年年净利润2017年。年，公司中国金股份、、、、、、、、等、等、、金、、、、、、等、事等等、、、等、等银行、、、中、、通、、、等、、等通、、、、、、事等、、、、、等等银行业务的资金的、等、、通、通、、、、、、、、、、、等、、、、等、、、、、、、、、、招、、等、、、事、、、、等等、等、通、、等、、等、、、、、等、、、通、、等、、、、、、、通等、、等、、、、通、事、、、、、通等、、、、通等、、、、、、、、、等、、、、、、、等、、、、等、、等、、、、等、、、、等银行、、、中国银、、通、、等等等、中国银行任等银行高管理的理中国银行、银行银行中国银行任任职银行高高高中，高国银行业绩大大大的大资产证券化，银行股份50020年，年资产证券化的出出，大中国银行、管部等的大大银行中国银行信贷资余管的理理理、等中银行等高高高\n",
      "Epoch: 3/25... Step: 200... Loss: 7.8644... Val Loss: 11.1668\n",
      "五粮液0.0600268.SH)信证券持买持-2000600006023604134303320154036003823股东股份04,122,004102,236002888043000262014000060036股股份118,81,30013,204202015640606061中国股份11,13,26,31312,8111,2003,3600,863,3043,303110236000063600002014股份股40100,60002003600300660063610153,00136,83030120340003680083640036,02215300000306803311145,6301010,3000000200433002258东股份330,228,10036000026股股份111,22,00136023,3631115,0000102013340212144300606628天股份141,21,31001154,0660111,403,021111,060,302,02011,0000220264003001504东股份6112,58,2113,623,210,361\n",
      "Epoch: 3/25... Step: 210... Loss: 7.9621... Val Loss: 11.1398\n",
      "云南白药6,02002035000036867717414,23660,16331,6711,500201005001500060638017103,60001553)股份10120,3620,1252,31213155,65661551,3600118040361602664366,61668,55201153,336620183,306015855463630151)股份股份28,152,153,31615,336,211,15150,156,00112,50040330001540360302054股份60205013)、中金融券化,253,311,60221,433000536)股份(6028288、)、科技、3.952.62115.400615020353610351400202363101023530001543年发16,155,26602,515,2132,333101550036600696中国化业1,183,366,5835,500213,0360215300006336618141,601503,0123,0500300366600368中股份154,353,660151,3\n",
      "Epoch: 3/25... Step: 220... Loss: 7.7085... Val Loss: 11.0528\n",
      "平安银行的、25043300000043华电华11,38,4331,581000,30015043603001034333600244年股份6041,4043,6001104,3601114,03660310003031000143华东电633,3994,4363,888814,504,3360,841,3460,40101,491015004336000015华电集团28,141,40136,8330,0330,1002,150,40000054040363680,99150,300030300140030302041年股份14,94,436,3011,450,101015,0000360000134000150,003030400033036311,100,6413,0430,3001,1300361000006001310543016030403040131034,3631021,504,230144,010010,360221104年43666,8941,466,6660,10101,433,00001,5030030300403601031540606600049海华电368,336,\n",
      "Epoch: 3/25... Step: 230... Loss: 7.1476... Val Loss: 10.8884\n",
      "苏宁环球10000016中国银行36015.4SZ)中国银10.031020.19%，201403年1010400.03101100.60303619154000360018中国电11,439,291211,000122,403000251中国科技693219,3016291,991101500404300000100华科技19332,191,1020202,400110400001601010030360021180100010200360033189,90369221,4496622199040360682001华股份73936,991,8231,944,38911501,40009920013360032854华股科3992,191,01042,95202901200020200000300300105300002120华科技1336,94,9120900450433001921中国科技163,188,19122,9421,19900299,9601901,9901292044366002921华科科技94196,291,841199,011929900156000301514060069\n",
      "Epoch: 3/25... Step: 240... Loss: 7.1609... Val Loss: 10.7839\n",
      "海康威视、2015000.6 200156.0001.0041.0030.0022.150003661.SHZ海国证券4.2210000.60012.8150120.601000001.SZZ1360.850.2810000016.SZ中国国141.6680.0026.8100.50400000.SZZ中信1012.010000.5281.58%160188.SHK中国国证券2.620.000.600120.160126.01211000000636海华电电22,67,899,86921,990,2802020,500322585400602071中国电子32,78,7601,8672,8701550000036002151005000065.SHK国证券12.550.222.5400000.010000.501.60020566001150.SZ)1154.0316.881.102204.600000.8SZZ中国证12.6881.1801158.SHK中证券10.451.011.800201000466.SH国江江车1.76000201.HS中国国1260016.SHZ国江证券12.6261\n",
      "Epoch: 3/25... Step: 250... Loss: 6.7459... Val Loss: 10.6518\n",
      "云南白药600013.SH)海证券0001540.36600276中国银行26155036016114.60%158136.13%11.18%1.15-2.26%，公告业绩在增长1.36%，20111年年报告分分别为1.2%；2.15亿元，比增215%，上市银行的中发行业务收入15%。这一一个个股票，在1月1日，公司的股票、中国银行、华证券、行业事、事会长、副行、事、、事副、事、事副、事副长、副副长、副行长、实行、事长、事会、垄委委、委事会、委委、副事、事会副行委、事会委事委委委委职委委员委委委员委员职的职职。\n",
      " 一步一季度业绩实现了注册制改革的影响的；2家公告的一个股东的数据、分点、、、、夏、、、、、、等、、、、、、等等、、副、等、事、、、副、、事、、、等、、事事、、事、事、、、夏、、、等、等、副、、等、、事、、等副、等、事、董事、副、事、、事、事等、等事、委副行、副行长。副行长。这一个一个分点。中行业、家银行、信贷资的支持证券化业务、家银行、、家线银等等的一个个股市场大的数据，公告的中行、实业务收益率、1家银行业、1家一年、家一季、家实现营业收入151.1%，其中中银行的一季度实现净利润15\n",
      "Epoch: 3/25... Step: 260... Loss: 6.9037... Val Loss: 10.6641\n",
      "云南白药30,403,274,372,202,342,2421,403,031,324,843,4411,342,404,344,23040104406602389东电子子33,38,2813,8022,381,2423,0003,402,4033,1011,40003520136003733.043404001033600600034000000403003600360360343000104000000360037443600400401502015036003780.SH)海通信证券.388亿元融资买益(30018))，其中证券发展出，公司股市已经经济了者不多。这种是“大区”。”信信贷资产证券化业务收入和“同”的”，“是在信贷资产证券化业务规规模模式。不过信贷资产支持证券发行信贷资产质量“大行台信银行信贷资产证化发行信贷产和信贷资产质量量压力“大行信贷资产质量压力，银行信贷资产质量量大行信贷资产质量压力““”””信贷资产质量“”政政策的“”效信息风险。“国证券”的信信贷资产证券化规模，“在信证券信贷资产质量压力。“大行信贷资产质量压力，但“在信贷资产证化，“已经了副行长。”“信息了信贷资产\n",
      "Epoch: 3/25... Step: 270... Loss: 6.7843... Val Loss: 10.6303\n",
      "东阿阿胶000326.SZ海证券买入3.332,3992,7939,2515,382,552525,496,013150,052,59525015,0001000043华股份111,393,20150,550,5951520,0931,000315,002055205004015600235040000200004330395001600154013543500006602919中证券32054003010268001503300139015400136002039033000150103399033613600300036042194936,361922,9850550,203122043301000302951405303030128中国证券15,5550,359231,999,59551,5052,501005,0203504030003603203504333101453930022640393600196中国股份11,472,3621311,999,852250,295,00362015,0033001903中国际199,393,355215,933,592915,593,651382\n",
      "Epoch: 4/25... Step: 280... Loss: 6.5881... Val Loss: 10.6969\n",
      "五粮液2014.802000150.SZ222204.60006808.SS)92954.90100158.SZ东华华154.0000220.SZ)海安证券维持-100.50122.500261500.02000258.SZZ东通信券信2015.456300089.SH泰信信证买买入1.7802518.SH东方通煤买入1.9919.7792.9229.5000.011.2402.1401000001003004001000001548640150000000000401403500050024003004002000000000300040040100010000000020030400046360180004000403600456400300000010010205000456600460400400015440000821010400401440000002000300000454000000800400002500466060885天钢股份522,199,602411,799,199119,991,90422014,40361150,4060205144036002884.SZ9422\n",
      "Epoch: 4/25... Step: 290... Loss: 6.6408... Val Loss: 10.5350\n",
      "云南白药1000086.SZ)中国证券买入-1-.4-330.01152.14401.6912.8901.9330.81121436001888东方富源432,399,991581,091,11233,288101,1300,0000035,2033210,90300000021东北药7943,93,2813115,993,133421,9822,004512,200200150436000689中信股份113,191,992332,921,1841,0312,9000,200002003600030321广能力7,362,882,28142,392,00330,8221211504036103698中信股份33,012,1811,2133,0231,0010,0232,20200003013600185404013048360113110136041893901691500030033003000151010300006818中国股份3,019,99320,023,1001,10000,8040020034东阳科技341,182,236815,929,11823,8831,8212,52001\n",
      "Epoch: 4/25... Step: 300... Loss: 6.6772... Val Loss: 10.5470\n",
      "苏宁环球保持股份6.32%。其中，中国际业指数数据，公司将有望定的增值，是公司业绩增长预告的公司股票以及资金融券业务，但股份制度为15%，但对于市场的股的发行，中小一股份数的比增长36.3%，公司业务部、互联网、互联网络、金互联网+、互联网+”的互联网+金和互联联金融券的业务。”数据显示，2014年末股份(00128)、)、华股份(60086)、华泰化、2015年年报期，公司业务部总体理财业务的发展，2010年以及公司的业绩预告。公司的股份制改革，互联网金公司将有于互联网++”，“互联网+”的数据显示，今年的高增长。中国证监会对于201500年3月，日收日，公布2014年年报告分点，“国”工作”员工作为表示，信贷资产支持证券的公布，2014年实现了转增为81.91%，对于2014年的发展，中国际和互联网金融业务部总等理的业务，部分红的上海信贷资产证券化，公司的股份20036年的资产，公司2015年股东户数据数的公司。目前，有家公司的发展，以方面上涨幅增长，但在20013年年报告公告，公司股东的净利润15.00亿元，增长13%。此外，公司业绩增长1.39%。此外，从中国际信用投资的持有的预期，20\n"
     ]
    },
    {
     "name": "stdout",
     "output_type": "stream",
     "text": [
      "Epoch: 4/25... Step: 310... Loss: 6.6305... Val Loss: 10.5476\n",
      "五粮液4,432,6515,0040,000001200336042040331000002014003600236中国电气8,864,881,4331,336,386,164,1520,450,021,20200,421,1526,250,35120,2030020115403630155东方航空60,048,4532,1421,003,03602,351,453,634,4314,032,115,2320,4521,453,6616,3632,1501,462,4166,682,443,382,2644,235,0446,3414,3361,466,4836,0013,000,00122,401,3002015443301584836.35104033603580450104041331533003600300436030010400000004313640215,40151,504,2315,2360,002,660,2204,22420504363002034华股电电8,33,423,1621,500,4003,3311,00020,124,00004,3201,50124,426,0\n",
      "Epoch: 4/25... Step: 320... Loss: 6.2674... Val Loss: 10.4936\n",
      "格力，20154年银行股份80.314.381.80016.88100.60310043600033800500003001013000006160030040360003360033000130360360003630000601400000110016040690.0002013601301534.60001000166000066中中国银81,660,1843,9031,101,3304,4101,9911,302004904333004003中海通科639,763,981433,002,490115,04003360010000000013600003160401300136300002000000000039001580003010300003610030000001500000303601504036000368中国银8631,303,39313,00023,10023014030001038中国科技633,141,1899,9010,403,49431,130100000360002101500003100039003988中国软件333,38011,101,493,39144\n",
      "Epoch: 4/25... Step: 330... Loss: 6.2810... Val Loss: 10.4516\n",
      "科大讯飞(60002.SZ)11366.822.2821160.0222.000.67.8020.88.0022.6500.60000281.SZ东华华证券证券0.226000000.SH国海证业4.266.8612.822.826.682%2.28亿元。1400.2820.0401.200201.882.02220.4003.022000463605566东华软电52,75,927,27241,988,708200,9992,070222,0050,5805,0002,00020000466305050华泰证券1,226,850,48368,20028,20000050036065658华华泰科1,27,877,9286,88201,9068,98012,0022,00220,002015040403600020华泰证券15,52,788,0047,620,8588,98862,076,2721,282,0500265,800031600.SH海国1240265.8201260.0310.2020.20020.20  10202.SZ)海科技10.02.0160.880150.48%1.22%\n",
      "Epoch: 4/25... Step: 340... Loss: 5.9049... Val Loss: 10.3525\n",
      "金螳螂0.42%、1500万元，与股份18015万，一季度业绩预增长的增长。2015年年报，中行高端薪酬，大有银行的发行注册制改革影响，大行发行的大幅度，而是大幅银行业，但是一季度的有望，而2015家上市公司，并在股票的股东户数为150万，但是中小银行，中小酒店业绩增长，也有于银银行业务发展的有提升。“互联网++”的“互联网+酒的“大领域”的“是“””。”“信贷资金“流向”的股价格，并不良贷款率和3.37%。据中国家数据的公司，并在不过，有望于20家，年报的股价格，也有银行股市场，并购一个人民币信银行证券发展规定，并于银行业务的部分垄断，公告的经营收购价格“一季度实业绩收益率100万，一个月7日，公司一季度业绩提升，但全年实现营收入，271家，银行股东发布2011年年一季报显显示，26家银行股东户数减减少，银行业务部分，这是银监会的发行信贷资产支持行发行注册有望。近日，这些就中小银行的发者是，银行也也是一个个人的是，未来的有银行。中小银行的一个月，已经济也将有于银行、发布局的银行。中小银行的一个月28日的发起，可有性银行也是“发行相对于45家，银行股也是中小银行的也可以。中小垄断局的经营，公司\n",
      "Epoch: 4/25... Step: 350... Loss: 5.9542... Val Loss: 10.2398\n",
      "云南白药业务收入100005880.HK中国北铁路1.00228.HK中国北铁路7.08400.50100020.6214830023603000006600000300016014010130000010000360000360030000060000000000000050150信银A200000500000005014030000060华泰证券434,154,4313,3034,88043,442,491000504400000001100000001540300660090150000600000200004006000003600000003600000000000000000300005004006003010金龙机0105,20000000000200000060000100400000005000360000020机龙机构20,340,42211,0402,150045,82201504436006009金融机机构40,240,5001000013403600190方金融机1000221)中金科技(000225)和金融机((00015))、资金((003358))和(元)融机((\n",
      "Epoch: 4/25... Step: 360... Loss: 5.9693... Val Loss: 10.3661\n",
      "东阿阿胶600027.SZ中信证券维持-22.5043603019中国南车12,389,3532401,000,301010,000000504400020115433300328中华泰证592,534,394115,753,77112,393,39120,959,5522101403600028中国国航1992,534,4993212,759,653223,5900037,3600100436广电科69,333,4791120,035,021112,503,50022115403002015大南车19,953,752151,594,7324129,8050251,4060129,40220315043660668中国国际15,343,473,38131,55,552415,59000118,903952,550,053310,203,08201154,3612011,029,2935020533300362海证券化201595.534.14369.504035.40232035403666201中国证券9,383,353,33812,95,7744,05243,722022,030000293\n",
      "Epoch: 5/25... Step: 370... Loss: 5.7667... Val Loss: 10.4748\n",
      "金螳螂1040049.924.593.8501.5540.9222.2414.084.992118.HK中国煤业5.00122.992.8820199.SZ东方金煤份4.001019.8840008.8001249.SH)海通证券买入77.02029.992.5922.115.01220.0000201.01203490.SZ海东北车4.01229.9729114.850.8815.00426.81104.0322115040068114.H大股份421.998.959.882.11290.291.2930.29120.550020010002000000030040180045014001600035000254340003201504003604016大大幅1,891,689,94129,099,700040,180241544036001888江信建79299,180,991549,010,40401,007,404011,0015,0412,000722510100000318.SH)7921.9500002718.SH)879.20028.980.2501020.50430.5034\n",
      "Epoch: 5/25... Step: 380... Loss: 5.7956... Val Loss: 10.4446\n",
      "东阿阿胶4.013.99%。公司业绩增长，公司股份额为22828.23亿，同比增长33.99%，实施经济为38.23亿元。我们上周下期 2014 年报的2014-37家公司200251.222016.1321668.HK中国金股份3200159.88169999.SH金阳721,1239,91332,2121,20021,00022,2915,00231,200101,90232,8120155,0001310,40201,50159,880021,00030,280,331,020,20422,993,0302,221,239,132,2911,190,2921,281,0321,5010,02801554036000388中国际4,315,989,922311,20,421130,0400,00130,8232055403600866中信建信732,922,191111,19,229220120420600139中国股份21,514,69222,291,20951,2992,90042,2020110403600651中国股份2,621,152,23152,151,22320,9000001\n",
      "Epoch: 5/25... Step: 390... Loss: 5.7002... Val Loss: 10.3933\n",
      "格力的，业绩大幅增长。公司，未公司的发展公司业务的资产。公司在2015年，2016年年报4月3日晚间，公司2014年年报告期，公司的发展基金和一定期。”。这些公司的是中层对市场的市场预测的同时，未发布2015年年报，公司业绩的高管理，这一个股价融资余额10元。融资融资券信托的交易日期代券报记简称融资余额(元)本日融券偿还量(0020359)中国南车(300123)、中国际(001368)和银行业(000293)、华泰证券(60135))、华泰证券(3002959)，华泰证券(003339)中国际(00000215)、中国际(6000961)、中国股份(000263)、南北车(30.0933)、金股份(6000867.SZ)金公司买买入额231,03620020032015001201554496000869中国建设620,6011,556131,113,15261,551,500156584033000738大华股能14,131,111512,653,613136,35366,26310,02011,20201350403600866华州医药1,266,588,8616215,161,886\n",
      "Epoch: 5/25... Step: 400... Loss: 5.8291... Val Loss: 10.5118\n",
      "神州高铁，2015年年报薪资产证券化发行额度超13亿元，同时，全国社会大国有银行之间证券商的资产证券化，实行注册制效5月，国证券还有限公司向资产证券化业务收购完善的发展，实行实现收益1.5亿元，比上升3.01%。华泰证券(60155年)2月15-04-20000000100003504250400066010015015000030003514401500460116000000000003502050401004003201500460140015000161020154303601201554015003016602614年4065,2521,015,002,152,2001000150东方航空2,155,320,202,5000,092,1591,000,6010,2300,02000041504330025504203650046002014000000015中海电气1,328,248,8521004,365002831东方航空320,155,22265,402,20150401550066315004003020220140366,231,22321,046,1320,2930,232\n",
      "Epoch: 5/25... Step: 410... Loss: 5.6076... Val Loss: 10.3715\n",
      "金螳螂13.032%，同比200100.33%；62015年一定公布局1111.20%3.00%1000020.SH中海通证券.3902.95003.910000231中国科技1390.1100.9000.610.01130.00100.80020158.HK中国南车4203.500023100.SH长广电科科70.9212.1161.111016969.993202915043601339中国石油11010006.60030.00%2.14130006618中国电子331,333,111339,9130,394139,9000050403601090013.SH中海石油气1.66010001361.5103001601104.01011500356130360.9800035.SH长江苏140.11131.8361130006300000360015114033000039中华泰证券1595.5500.9121.161.02%11.4002.150.6000168.SZ东方财富Choice数据统源和科技、东财富、2033000.330.1222.151.030.000201504033003\n",
      "Epoch: 5/25... Step: 420... Loss: 5.6956... Val Loss: 10.3287\n",
      "金螳螂1.24%，其在2014年的年薪资产质量压力，但是“不客不可能力，不足。未来，我们的预测，公司年报公司2014年年报月2714年年度的股价值数据，我们的上海通知，公司20%的年利润分配套行的资产，“以一个股”，我们的上述离职中中国内分行的最大、风险、副行长、职务副、长董事、董事、副行长、事会董事、副行长、职务部事负责任，他的中国有关于中层中国企业、中国企业、中国企业、中行等等方面，未来将一步增长，这种情况将下滑的业绩增长，不断，但后得公司中小企业，产品种产质量压力等。因此，公司去年的季度业绩增值税发展用用户和线、线旅游公告之间，未来将在线旅游公司主要的产能力，公司预期。”上年12年，但公司在2014年年报的预测，1001年年报的预期，14年1月7月日发布局的产品。中国有企业产负责人，“活存款”存率上市，不断不良率率分析，大数据产品，中度不良好率，但不过不足，“去后四大数增值”的业务，对不过不良贷款率，“不能力，”上市场，对于预期，未来公司在中国内经济之后，将好直接入股市场，不良贷款余额的不良好率。从上市银行股东财产品，2015年年报披露一年2月2日，经济新闻》记者，未来公司未来将在线上市\n",
      "Epoch: 5/25... Step: 430... Loss: 5.3028... Val Loss: 10.3220\n",
      "格力。2014年，一些公司业绩的是“高管的薪酬，但还是了个百点的可能，在这一种银行中小可能的个人，已有一些银行股市场。一季度的公司业绩增长。公司业绩预告一季度公司中，一季报业绩预增幅度有超过，一定是公司一个月2日，公司一季报预告预案，业绩预计有2016家发布的公司发布的一季度业绩，同时也可能够按照监管协商务存款，公告取得管可以审助于行业。他证监会官员会对于近万一个月完善，但可能够够按规定披露信息的受托管机构发起机构可以缓缓解银行资产质量，实际注册制陆续注册制改革。实施注册制改革，实际可关注发，银行信贷额度提出一个一面。分析人士认为，其中，实现公司发布，公司一季报的公司，中国有银行高管薪酬水平。根据对方案，“真实施售注入，有效应，成为“后一定的一致，公司业绩成本面上升，但不得提升，“是在中行”。“此次，中国酒店的战略合会有关注。信贷资产证券化推进基管构可以发行注意，行业的价格性分行业务。而是中国人民银行业务，已经取得监管措施。《证券简称资本基管理领域，这些大管层致的“新闻发布局。根据国务有关注。\n",
      " 据方式，进一定的发证券商类存款产布局的公司。在这公司中小银行业绩表现在“因位”的是酒店的大数据，\n",
      "Epoch: 5/25... Step: 440... Loss: 5.2902... Val Loss: 10.3213\n",
      "苏宁环球行业收入10000000万元。据此，200055年发布公司10年15年度，公司年度实现营业收入为20亿元，同比下降3.6%，同比增长58%-38.5亿元，占比33%至430%，存利润增长，但在上升至2036亿的元，同比增长33%。据公司表示，“去年四季度实现营业收11.85亿元，同比增长16.0%。不良资产，公司发布公告，其中，银行业收购买入额7,384亿元，同比增长68%，不少会有利好。公司预计，这种公司年将一季度业绩增长，公司将于去年一季度业绩预喜一季度，预订公司将于2004年的发布公告，已披露年报的预案，其中，净利润增长38.0亿元和同比增长3.4%；实净利润138亿元，其同比增长26%至88%，其中，银行业务不少会对于行业绩进行的利好。但当得了一致，但不得于“互联网+”的上升，但而在上市银行的比例例较高。同比增长了。2004年年薪资本次工作为“两家公司的业绩增长，公司一季度业绩预增。但净利润增长35亿，同比上升至33.0%和17.8亿元，同比增长13%。公司15年一季度净利润同比15.01%-4.1%，同比增长1.6%。公司预期。2015年公司中实现净利润20.48亿元和同比增3\n",
      "Epoch: 5/25... Step: 450... Loss: 5.3999... Val Loss: 10.2569\n",
      "海康威视通(600245.SZ)中国证券买入133.7433.722015.72214943.03430.34023104.022045.40250184.320150.254030133.SH东方财富维持2.133.03330.4232012.34232415043300048.SZ中国证券维持3.742.3920.992429.5340220144393404035010039.4232.3500200.3002514.523201504565300049.H4433.32220240403630349.SZ海金证券买544.473.7314.4340.4934.3032.153403930102453403601588.SZ中国金证券维持19.500239004335.SZ中海南证券维买54.0003.9024.502504036036854中证券1129.134.513.5311998.752215.253115040360040034.534.4211.8852025114040000025.SH中国北车59.999139.5203534.403200438.SH中国南证券买入-11.\n"
     ]
    },
    {
     "name": "stdout",
     "output_type": "stream",
     "text": [
      "Epoch: 6/25... Step: 460... Loss: 5.1953... Val Loss: 10.5353\n",
      "神州高铁路、中信建设：、华泰证券、华夏T、、华瑞银行等兴业务、中国石油、通信托、华瑞信、金融、信息等等方面。2020.00元。2014年上市银行股份28.45亿-1.4%，增长30025.55 信息披露2015.4001.082.9820.98140.594.52301.842.9224.00300159东方电子128,009,611199,909,075015,7020150403600248华泰化工154,000,904400,014,941459,115,08542,00010,01720150403600835大华泰控1449,200,649212,504,954150,500025,100301501403001251.SZ)1811.900.0010.2004.9014.002015.SH南方航空维持4.082.119.5940.592.20%20150406000150恒生物118,419,151151,749,671151,40010150403600138上华电子199,928,1171209,070,00222,9020299,0001219,00060,5200101401\n",
      "Epoch: 6/25... Step: 470... Loss: 5.1710... Val Loss: 10.5419\n",
      "海康威视通信息中，2015-43年末报披露，报中156家上市公司已经为2855.59万元，同比增长2.23亿元，同比下降2.6%。不良率较11.821%；2114年的股份制银行，中国内银行、平安银行、招商银行、中国银行和中国银行业分发布任活银行，其中，银行业已经成为中，公司的业绩预告。公司表示，不过，我国有多个个月月2日，但全年报期存款，公司中，一些工作已经销商。在2014年全年四季度的1.8倍和17倍。公司，今年以来，为集团在线旅游公司已经过商。在线，公务员工程不断，更为了“国内地区”。此外市场发现，将为不过，银行的不良率较上升空间，较上升空间，公司主要为“营业”，为中国银行、中层国际、上市银行的中层国上市银行中，公司的业绩表现，比为3.15 亿元；同比增长11.5%、17 /吨吨。预期：14 年报显示，2015年以来，股份为公司的股份制造为基金的工作为程，一定的利用不过。但不过，我们认为，也有不过，但不得到不干不足。招商银行，在监管部门相关官相对资监会部席诉记者。《中国银行高管离职层干告诉记者，周报记者，国有银行业务开发行注册制，在全国自担任市银行任职。\n",
      "毅则是，中国银行之一已是原因为公务员\n",
      "Epoch: 6/25... Step: 480... Loss: 5.0322... Val Loss: 10.6290\n",
      "海康威视网金(0023790.43%。据中金公司股东的净流入14000万股，包括工行、华津冀协协发展规划》，提升2014年，实现营收1124年和营收增长的同比，有较增速增长，并在一定存款保障交易转增8430万元。其中，这也是在交易所互联网金融的互联网、企业、互联网、医疗生物产质量力，将更加强机构投资者可以及风险，与港股市场化，风险提高。这一风险，这是大数增持有超预计算、股份制改革以来，这一方面，对应理财收入和1390.55万元，比去年末增长的收购买评级：公告称，“加快推进一步推进，“银行高管薪酬最高的高管，这份股份额相比2013年年，收益率高达8.50%，其他表现看支持证券。交易所场。而简单资金理现金流通流向以向比例例达股东每有股派息现股价(6万元，以上涨1.3%。其中，银行信贷资产证券已有超过200万年的20，国务总裁、重组事项获得无条件审批。依然目标，沪指出上涨800000万，但是一个人士力：10-290.53万吨。20150037000889中金发展91,498,488211,649,3760233,800080,30020150403601869中信建材113,463,56169,139\n",
      "Epoch: 6/25... Step: 490... Loss: 5.1907... Val Loss: 10.5753\n",
      "科大讯飞。2015044.16201150.SZ)广发证券买入-24.000031501036016600166东方航空(0000032)、航天电科技、10021011.04亿元。据中国际改，在1000亿元至2013年的22.21%216000138.SH中金发行25.000039.0011.14%4.51%160015040101601411541403600268中国电气1,949,224,939319,953,06534,3000002315040010042315413301502415042636114046000493华光大电15,889,199198,439155,2006950400600118中国证券2,1541,318,394129,205,034444,35500201040001515040360150东方航空6,092,30010,1300020154中信证券144,723,226201200000110100100002010040331002415东方软36,233,23920104435002672东方航空2,020,0001,29111,424,95154,50\n",
      "Epoch: 6/25... Step: 500... Loss: 5.1026... Val Loss: 10.4909\n",
      "神州高铁15.44%1.15%2000210.SZ中金通公1169.951.991.0101.990.030.022.8100.6000039.SH海通信33.91000099.HK大中行2.631.811.916.800.000130391188东华软件100599,100299,1000001514海通信20355,110,51111550,6562139,480,933141,400391,000249,00320250403601557中国石油401,131,64111,946,419415,800019000360010018华泰证券366,553,031,364,119,344114,999,894200501433005387.SH南方航空200019.000039.9800.90009.810.8010.85110.911.99%1150003600083.SH南京银行10.0066.85101.810.3820100.SH海通信托1.3000.316.1620.136%201400.3600330.SH海通信托1.9131,980,0033,999,35119,8061,596\n",
      "Epoch: 6/25... Step: 510... Loss: 5.2333... Val Loss: 10.4199\n",
      "金螳螂3.20%；21000亿元(10.55 /16.66%1601488010.4  1002039.SZ新华泰证券代6.2200.1603002035江西电子577,467,090015,900,040024,0000205504036055040天ET152,492,941,28166,964,8412844,6091924,87020150403600567国云股份22,227,81918,744,881126,700024004036510052400660033中海通机546,466,191169,667,941216,272,101762,729,899272,1721002003600356中国电子1,446,627,092426,688,171474,900249,99843,90742,10022154043600055天津集团526,968,981886,278,449124,497221,042115,0066010023海通证514,299,900211,849,928801,000329,4000000050山达信272,667,2172,6771,696,4828\n",
      "Epoch: 6/25... Step: 520... Loss: 4.8474... Val Loss: 10.4598\n",
      "苏宁环球3日，中国证券指出上涨2.55亿元，较高增50.55%，对应PVPP 为1.16%。从业绩预案的“比较高收益的高管薪酬，还是全国社保基金投投资范围，“高管直管理”投资人民营收购买入，分析获取得突破和进行过。一方面，“高管薪”的人民币信资额度的职。\n",
      " 据数据相关规定，行业银行存款利率大幅上浮3家，银行存款利率上升，但还在15年一季度业绩大幅度下，而在银行股票发行注册制改革”的提高。而这个股东中，银行的存贷款额夺达8.1亿万元。比上年138.34万元，同比增长58.74%。从业绩预计，166家上市公司中，银行股票占比为5.59亿元，占比3.56%，净利润898.45万元。2538亿-1.3 亿-16.06%，60137.SH中信银行证券0.40000.70000.092.55 16.0022.00000.069.000150.0550.6601568.SZ中华泰证券买入-40.500000.500.085.00亿元，同比200.50000.1000.0500.20 1.00 -39.59 -18.44亿-1.44%28.5000.980.95 2.2010.600000.800.082000\n",
      "Epoch: 6/25... Step: 530... Loss: 4.7693... Val Loss: 10.5760\n",
      "科大讯飞。401600万元至43800元，其中价473,64000548.SZ)海通信证券4.56001808.SH)长江证券增长1.180%11.SH)中行公司(0001605.SH)海通证券公司20.1540.148.84%300101804.SZ东方财富海通海通信0002158.SZ)88800058.SH中信国金证券1.381108.8568.85亿元，公司2015年100000000.SZ海信证券维持6.80088.HHK方油电气1.381,6008,8184,888,444230,000201580436006768东方航空36,390,394,0694,041,0184,188,088840,30012,20020150403600962金水龙头6,025,559,58880,230,8082,4992,6013,901,09121,000201,000320,000350,05020150403600661上江电力3,863,143,419820,280,8381,641,4451,4800,5661415,2024005504033000262家公司20350400160076\n",
      "Epoch: 6/25... Step: 540... Loss: 5.0009... Val Loss: 10.3829\n",
      "平安银行，在14 年报中，预计11 年增长38.13%。公告称，中行公员员(以预期。公司14 年实现营收增长28.44%至18.54%至25.41%，增长281%。其中，预期投资者是上市银行股票将受益。信贷资产支持证券(003085)本周五(600253.SZ)华泰证券维持45.523.11420.7231495.3560398.SH中国北车59.3320029.301438.402281.03320158.431012036.566038.45%4536914835家公司259.52-1.83亿14854.53201668中江国建26.46.56%1.692.1964.83%31400036002015.49%39.43600376.SH东方航电信息3.7601.7845.243.24%36300383中兴业银行1.93%，成本每股派息(00288.4元元)本日融机构( 22144)400154030040330353433家上市公司55.35-2.37%-231012886003836家上海外市预32014年15月77日，公务员工报期(00203.44)3.112%，其中金118.53%。不\n",
      "Epoch: 7/25... Step: 550... Loss: 4.7150... Val Loss: 10.8198\n",
      "神州高铁1,499.95元，同比下00005.00点元，公司股份额分别同比增310.59%。4035年上调建设银行股份(600455)、天源电器(30059.45元)8.45%，增长20%，将由于2015年将会收入增加快速，我们的提出现金值增值服务。”，未来将出现不利润增速将超过500亿的元，未来几年银行股涨幅最好的个人士表示，2015年国际会主要产品结构，将通知收入上市公司的发布，不仅利率分别增长的工作人员表示：20040年报披露大家上市银行股份，并表示，广电行业务开展规模的2014年实现营业收入4.58亿亿，较上的基金20000404000025040 6014850049600488.SZ东阳钼新增030.2928.5240.5545.03%3001850483504485.SZ东方财富海通证券008080.SZ)华泰证券首-14-00-5-003-0005000200503000301554039000583.SZ新增8344.89002.75元，增长40.88%；基本每股股派息(股税)7.7元。百分享机维持478.44 -19.93%。据显示，150005800000100300350\n",
      "Epoch: 7/25... Step: 560... Loss: 4.6729... Val Loss: 10.8621\n",
      "神州高铁、中国金融业务业务总裁、金融市场业务，则是一个分别为政策的政策，辞加董事会副总裁、监事事部委委委员、委员会委委员职委员职务的职务，职务部总部门央央起珊原树，周央行发行注册制效，央行宣布信贷资产证券化发行，银行注册有消到银行的证监会被该央行政策受益。银行业银监会已经为主管的原因，辞去交行普了一职业绩；成为原因，在政策松宽，银行、中国银行、中国银行行业部副行长的负责薪，遇更加强原原主材科技：限在日发布相关，银行业分析师则更为一季度预告。公告称，中银银监会副部任副董事长、遇欧委员、董事会战委委委委员委书、董事会委委书书和总裁、副董事、董事、总裁、事副总裁、职事业的职委员会委员、董事长总裁凌宽副总裁、事事会委委员会委员会委委员职委总裁和职副总总裁。监事措部门的央养委员、跳槽董事会与委委员委委员、董事会委职委员职委总和总裁和职总副总部。事詹伟坚在“、和“”节节节奏奏配置评级等方面，机构成长一季度，但是一季度的不同，也有不少了公司的经营性。”不同，银行理财业务不仅有限长。\n",
      " 2015年年报披露的五大行高。其中，预计一季度实现净利润1.8亿元。分别达到1.11%、5.58亿元，占比为4.69%。公司，\n",
      "Epoch: 7/25... Step: 570... Loss: 4.4672... Val Loss: 10.9076\n",
      "海康威视网(300085.SZ)中银国际买入2-24000260上海莱士预52,251,4971,178,75651,7000120,50120,00020150403600678金南药业1,64,588,1655686,680,644851,600201,000026,900221,00020150403601585中国金1,844,848,55111,887,5871,864,55557,401,8866,550,8761,466,660,386,240,802,355,001,261,490,261,888,308,5512,450100,500002554433601588中国石油1,511,571,17885,688,175281,400,14552,49018,100010150403601884中金科技1,181,485,87161,575,671181,4000100,804123,80022180403601485中国南车7,888,117,768415,488,56621,801,8656,646,57666,85620150443600686中国石化1,454,815,81\n",
      "Epoch: 7/25... Step: 580... Loss: 4.6617... Val Loss: 10.8694\n",
      "海康威视通、航空培训、广电、航动股份、航通、宁波富、宁波富邦、涨涨3%，股份股份价为4.99元/.51亿元。同时，公司2013年1月2100-110-32-114年末股份450009615.SH)中信证券买买入12.011025.410161.8020150003600255东方航空58,001,09150,591,89855,420152,159201504435002915东方财富69,211,288118,048,13955040150201504201004015.28101401681501413东东方航空(0.0120.55亿元，同比增加5.48亿元，同时增值了380000000000036045040016910049601614东方航空7,029,500,088800,0000000194中信用360,598,05924,552,195249,500201,00420150403601504海航动力1,127,718,741829,085,056125,200100,20002554043615744东北制药640,500,385102,50020100403600498东北电气\n",
      "Epoch: 7/25... Step: 590... Loss: 4.5788... Val Loss: 10.9271\n",
      "格力。“目前的数为201584015万元(000208，咨询)等大股上涨10.31%，其次工作报的公司股东户数为1488.111.78%16.180%16600831中国银行46.983.7110.81509.88%2004083华科技118338.95%4.112480.8150020131中国科技1033993.HHK中海星石化47.790196869888中国银行25.411.16010010.11100269000200040350403538049880040398.SH南北建设9000998.SH东海通信20.45030036818中国际电40.5000.360098.514000938中国软件239,939,537211,956,5511935,453199,599929,870029,904000236中科技0155,813,33193,391,69891,996,94133,4171,34010150403001500中华集团2,105,599,8161,695,156,9163156,536093,0000045,80024150403600310中海集团1636,919\n",
      "Epoch: 7/25... Step: 600... Loss: 4.7790... Val Loss: 10.6295\n",
      "科大讯飞的股票，20160年11月21日起的一个原因，此前市场中，中小银行中小资金流入股份。最终的上市的数值增长的公司中，将于2015年15年EPS 1.61%。11月2日，披露年报的预计2005 年12154年11年11 年260亿元，同比增长29.0%。不良贷款余率和不良贷款率率和“双升”的战略是资产证券化，因此外市场的需要较好，市场的需要需要考虑，我国自销说的上涨。西安饮表示，在目前公司是在中层上市的中国银行中小商品在线下滑压理企业的主力，信贷资产证券化业务开展有利率。此前，股东户数变，目前已有望在上市公司中数据的解决，目前是政府工程、互联网金融、资本战略等调整合后，公司中金公司主要的是营业收入和盈利增速，“不良率上升至399.4万/1.47%。公司2015年三季末股东户数锐减值。中小商品种，中小银行的“互联网”战略上升、联网战略、电子、互联网电视战略展。”目前互联网+电视网络技下游戏商务推广。游族网络络表内容易方日协商务部。未来公司在2月1日央行披露了1个)中行业银行的中小企的上市。游戏和中推广的银行存款比上升的不良款率上升至3.66亿元，上涨幅超过3%的个百分点至2.24%； 。201\n"
     ]
    },
    {
     "name": "stdout",
     "output_type": "stream",
     "text": [
      "Epoch: 7/25... Step: 610... Loss: 4.3951... Val Loss: 10.7291\n",
      "科大讯飞的股东方式，购海控股价50.45亿元(600216.SH)99386.0000.000.400000050803600591.SZ东兴纸业证券1.000000.5600.60008.60 10.600099.75 百视通(3001905.SH)888.4588.8882.80020.60158.0000160.SH 航空地君代40.908000.0001.00009.5000680.002880.4020.8400006988华泰证券9,624,709,16522,158,556209,700,980200,066,00250,500201,000206,00010150403601999中国集器288,718,48139,275,49959,65910150403600939广能电力869,910,55112,695,662667,706969,809889,966,8091,0001,00000150000060150403601608中国石油48.0010.000.0180.84001.982.8549.362016013.SH云铝股份1.420130.788.888.864008\n",
      "Epoch: 7/25... Step: 620... Loss: 4.2668... Val Loss: 10.8203\n",
      "格力，1300万股，公司已实现了1.19亿元。同比增长18.49%。其中，预计2015年公司中国南车2000亿元。公司表示，今年公司已经实现营业收入15.39亿元，同比增长150%；至5.18亿元。同比增838%)，公司业绩增长。公司表示，公司业绩增长稳步增长。2014年年报中国南车2.15%，公司营业收入却增长。不同，公司中国北车合并不过重大对主要为1.42%，对应153家，发布公告的公司已经实施。目标早到100万元。公司表示近期，公司的业绩表现突出，不要贷款计划5.5亿元，占比3.1%。公司2014年年末，不良贷款7.39亿元，同比下降30%至20144年末，不断银行股已经有39家，公司预期，公司业绩增长。公司业绩报告增强，公司业绩报喜增加强，公司业绩增长，主要为1.48%，公司中高管端产品，为16.88亿元，同比增长95.8%。公司中国南车合并已有116年的2014年年发行的不少会有于下降了此之中，证监会已审做出。一家公告称，已经浙报预增、公司表现增值。公司一季度业绩预增幅度业绩。不过一季度业绩表现。不少上升至3.38%。公司预告一季度业绩增幅超过35家，公司预期一季报业绩预增幅度超过\n",
      "Epoch: 7/25... Step: 630... Loss: 4.6063... Val Loss: 10.7480\n",
      "云南白药200588.SZ东方财富海通证券40.2650120.75420.2333400630002224家公司业绩预增2005-03-13年EPS为00135.40万吨。新华泰证券(300002)，公开信息显示，2015-400EPS为为47.53%；)本报告期内容及控制人在已公职人的推进。这一读招商证券认为信贷资产证券化规模可以8800亿元。”而根据金融规定在信贷资产证券化规模式，该资格局是所有的大，这其他在投资者可以自己选选择职业。但就该行情况出。不干贷款产业链上升，本报告预期、国内院安准、招商证券银行业绩增长、五粮液： 季报 2 14年1月3日，中行证券监会对主任文件。\n",
      " 202424年实现归属母公司净利润股东的上升12.27%。在这些公司中，股东的净利润25.58亿元，较去年初期 28%，对应该公务员的一季度业绩预告一季度业绩预喜一季度业绩预增幅度超过一季业绩预喜的公司股东户净利润20.37亿元，同比下降10.100%，其中金股市的业绩大幅增强，但公司股票业务收入上市银行股东户数锐减减的2015年第四季度业绩预喜的不良有14 业务收购总体上涨3.6%。从2015年4月27日开市起复牌\n",
      "Epoch: 8/25... Step: 640... Loss: 4.2673... Val Loss: 11.1764\n",
      "格力。公司14-10-2-2015年的20000485.SZ万环比增长10.880.8814.594.78%316.11%15.SZ新增长35.0320.590028.52 2034年100584.SZ东方财富富国航维300087.HK广电国际)4.0081.82.25元。公司预增10%-14 年报 2013年年报，中国家上市公司将于10家公司将在一定的净利润同比增长47.74%；实现净利润4.96元，同比下降20.62%；基于上市公司的216年净利润分别为0138.79亿元，同比下降20140.44-20.5-10.28%-15.79%5002015.44 预计2015年将陆续出台更多的可能性。资产注册制，加革，各类地产生产和结构、金融业务、同比增长。2014年实时间交易，2015年年薪的资本还未放缓。央行2014年银行资产质量压力优，银行业构成为中国的银行资产、风险资金、中国银行、中国银行、中国石化、中国银香平上市银行中了公司的业绩预告，净息收率为79.44%，同比下降49.44%；实现净利润249.93亿元，同比下降1.64%；实施事明显下滑14年的年末，但每股收到1499.94万元至\n",
      "Epoch: 8/25... Step: 650... Loss: 4.1603... Val Loss: 11.4410\n",
      "云南白药业绩大幅高达到8%；第二、国内院部门委员、身董事长、董事长、总裁和副总裁裁职职？詹伟坚的“离职、中……负责任，他副总裁凌跳槽表示，有员委员委员职董事会？他裁裁委事事、董事委会委委委董董事董总裁书职书委职委员会委员席委员职委委员职职，与离职潮。去哪儿网央行？央宣布政府已辞去该至执行董事、副行、董事、战略委员、董董事、总裁裁之职、詹伟詹的离职，“裸裸庄”任中长担任过赣能够出副部融周记央周职业首该区机构与风险总副总表凌凌涛出生于19 年的发布年报记者。\n",
      " 不过，担心注册制革，其中，业务部分等跨境式受益者在注意发行，央行宣布信贷资产支持证券实行实现，因为央行为政部副总裁凌向表示，詹伟坚在空、和风险管理措领身。不足，与如联何客户的客户，不间不断，与活期宝集团有的限性公司。今年一季度的龙头公司已在今年一季度业绩，比增长的业务或许是一级级行业“一带来的市场。\n",
      " 不足，客户粘说融资金、投资银行业务有员工银行业务发展。央行发布了《办法》了《办法》，《办法》说垄说，国务院就委在很多，中国银行业务的客户，有望在银行、业务部、处体业务部等等任职业务部；原因素界部原原詹，詹伟坚在“离职职中层层干部告诉时记者。他们\n",
      "Epoch: 8/25... Step: 660... Loss: 4.0106... Val Loss: 11.0055\n",
      "金螳螂14.07点，涨逾20%，其中，对其中有8.68%，涨幅最高，其中微涨5.89%，但并非利润占比，公务。其中，有望受益者继国金发行注册制将加速信贷资产支持证券的(ABSI)发银行买入额(元/1885万元，对银行高端产品也是国内外，其次，推动信贷资产证券代理业务有42000万股，中信银行的2015年，2月16年PE分别为0.60元、15.5万元，对应2013年，其中，对于下半年的公司已经取得监管部门相关业内资格、风险。担任过零售件，信贷资产证券化业务对应仅仅仅是詹詹行行23月，央行的信贷资产证券化注册制落地，今年有望发行8000亿元左右。限薪适用于这些大口的上涨，并申购费率的任.63%，其中，银行股票也仅利了否收购上部基本。但以从资产证券化注册制落地产具有优化银行，信贷资产证券化注册资格，近期发行则是监会下发《机关事件客户通知》。《于下半年业绩进度的确有效公司，以及发电力均低收入4.53万元，其中有6018万，其中银行理财业务收入，并非其余额9835万亿，同比增长10.4%，但其于去年实现营业收入13.53亿元，比增长1.2%，对于2014 个月内可能低迷，不仅有所带的公告，其中有16只的\n",
      "Epoch: 8/25... Step: 670... Loss: 4.1823... Val Loss: 11.2280\n",
      "五粮液均仍在无新浪态的22%左右。根据公务，对方面对接近美国有的互动性，双里可能必覆盖。国有关系，地区域运输大秦、生产生服务。公司业绩预增加强显示，国有关联网、6.75%、中国南车并购重组后上市公司的2014年12月17年EPS为0.41元，公司2月27.51亿元。其中，证券实现净利润255元/股份价格报指数,5615,905,3080045015000001154中航动力6,077,082,2000,205,200155,0056,42220554436001317中国铝业1,988,212,175512,50024114403300007大华泰证券3,951,222,297159,499,359119,503501,9901021504月3601101.SZ东东兴气2.205.025.24100.71520.71预增20001000000000140中信科技901,255,75552,504,52542014040360150东方航空6.1000.1000.194.49%200410000390550博股份5000251.SH)中信证券买入-154.97-271.SZ)中银国际证券买入-2\n",
      "Epoch: 8/25... Step: 680... Loss: 4.1888... Val Loss: 11.3439\n",
      "金螳螂2014年度报告，公司已经实现归属于公司经营的股东全部、涨幅达到20050万元。同时增加2015 40055100150140001360150400600057海康科学9,931,117,3192,109,331,39421,920059,0042005012新华氨纶191,196,137116,555,619666,0092,400101504036034015华平安份1,551,935,176611,417,111211,100009500亚大华00499,50002,4110154,85120150403600357中国石油1,556,721,171119,911,951691,5001,40921,900152,89920154036001502中海油工52,757,3911,109,959,3111,19620,990002915中国电力249,513,925719,164,899646,5900025,8000022914海通高速77,313,6111,616,445,3365,00920,900499,900149,40020150403201500403600533华夏\n",
      "Epoch: 8/25... Step: 690... Loss: 4.3770... Val Loss: 10.9516\n",
      "神州高铁14年的2015年14 月3日起，国有各行高董监会收入的部分投资的直接上市对金的投行股票、信息披露的信贷资产证券化业务，1000225014 年11131年的上市银行中1002.55 百分点，与此次高开市场的互联网彩票的业务、运营业务。目前互联网金融创项目等方式，将成交一直接股权的上市公司发展的股份制或民生银行行长的优质民被国中银行理财业务收入，不少会的需求较好的重点资者，将流动性股票用户、通信用等重点的项目，上市，互联网公司的业绩进展入分，对公布14年14月底，日发布了一季报的预期股，上公司2014 年11月11日期定存利率最高的5%。公司在2015年年报的11家上市银行的最高管薪酬最大的信贷资产证券化的最后一家公司2015年年期末不良贷款率为3.5%。对公司2014年三季度末10%的年薪酬基本在14.4万元)14月7日晚间披露年报的公务，因工作调接近尾声，除中国银行、2家银行、光大银行等方面，国企业资产负责集中上市的“一些一直”的最高的市场。中小银行理财产品的2015年的上市公司的股东户利空股市。对于市场的资金的进一个股市场的一致风电力，并不未不能力。“双令将将逐渐被市场视为“重仓股\n",
      "Epoch: 8/25... Step: 700... Loss: 4.0508... Val Loss: 11.2767\n",
      "东阿阿胶、云南化、保险资金运用用户的改革性度并不受较年，以及银行业务调整合并已已取该资产调整成。深权：经历新人变动，未来会议对投资者的价格参考开市场，在业绩进行“增持稳定增长。其中，多家上市公司中国有建立成本、新材、龙头股权、苏州明地区域不良好的价值。从事作，上述股票的投资，对于15 一季度业绩大幅下滑。从而东方财富部分代表示，公司22581-20.3  11.0261.800.64000288.SZ中信科讯讯飞股份6.826000.000020150403600198中国证券6,440,520,361190,264,966220,550,606515,819,99659,768,888189,8061,750160,000106,110101504035010050信证券111,840,5012,08000120403001001000300100000060000100266016908880989.SH中信科技20.5000100.H1088.006.00010.0001601600501504096010098.SH新华泰证券代齐证券10000000.00 100000000000210\n",
      "Epoch: 8/25... Step: 710... Loss: 3.8647... Val Loss: 11.2935\n",
      "平安银行，也是我国一个定增长酒的公告表示，这些大盘股的上涨，也是有不少开了。而2013年，经营业收入158.69万元。同比增长3.38%；3)，公司表现看工业绩增长幅度超2000亿元。其他2016年信息显示，16家公司一季度业绩预告。”而这些公司表示的“加快报告”，而且银行中山某支行的员工，这些是中国人民币国务和推进和综合化工作。公务与2013年公司2015年全年实现净利润39.38亿元，同比增长3.11%至9100119800点通6001339.SZ)海通证券0.6400088.HK信证券投资11.1850.2660118.82%446010888中国银行4.834.49%)2.69亿1.84%4.34%16801896中国北建200098.SZ)8814.0038.0020.344808800850036013801408600198中国电建7,333,084,93933,334,3332,08015,388,83120,900,6341,099,1038,30030,19901999533300313金龙电子4158,350,53110,010,390180,089,8011,830,81\n",
      "Epoch: 8/25... Step: 720... Loss: 4.2673... Val Loss: 11.1712\n",
      "平安银行，也开始在一季报中，公司营业收入的增持续推出，公司实现归属母公司净利润约600亿元至3.54%。从10年报披露年报，公司将在100亿股份制银行集团的净值增长，将于480家公司中，实现收入3.05亿元。分红总额超139.94亿元。分析师ViWonl教的股份数据公司2014年全年净息收入14.13万，分别上升146.73%)，同比增长14.0%。不良资产分析师告诉时，报中国有34家公司的公司中国有大行业绩的集团中，公司的业绩大幅增长，公司中信息披露的重点，但公司已实现完成15年14年公司的业务收入达到37.5亿元，净利同比上降20.34%。公司表示，这其中最后的公司也是我们的现金对于公司的业绩增长、自然其中，银行网络以上市公司的子公司中，将在一季度业绩预告，将由于政监管部门，央行也也开拓了挖掘 M的医药生物产集团有的公司，公司2014年年报，营收到中13月37日，上市公司发布公司28年的经营，这种也会暂行政府部门的年开，“两融资合作，给广发展提供政策的利空，对应有利于公司25年的增速公司业绩增幅最高，公司营业收入1101.43亿元，同比增长2.14%；实现营收收13.73%)，其中银行业务收\n",
      "Epoch: 9/25... Step: 730... Loss: 3.9193... Val Loss: 11.6950\n",
      "云南白药业400157.SZ)中国证券买入-1.88-11世纪瑞尔(002884.SZ)招商证券维持4-0.00-23.55%43月600140万邦达490.25-4.75亿1.99%44.56490007.00预计2015年公司将为140.77-00.58%)，公司产业收入增速将低于2015年，净利润分别为9.12元、1.87%，同业股价114,0742.15-3.5-25-01-4-0EPS为004.55元，涨幅超过10 亿元。2014年，净利润同比下降2.4%，其中行业务的公司，为中国经济的移动，公司和营业务的同比增长4.5%，较大幅度较去年的2.12%和14月3日，不同贷款为43.75%，成本每股派息(00144元)，公司股份(10129)、4月3日(4月2)日，中国股市公司股东方净利同比增持5.0%，较上年增长5%。公司2015年上市公司2014年年报显示，截去年末不良贷款余额2.12%，成为中国人民外机构的资金证券交易日期标的证券交所所带来的上市公司2015年上市公司2015年一季度净息亏损超75.72亿元。同比下降3.6%至1199.5%。其中，预计2015年净息计11895亿，同\n",
      "Epoch: 9/25... Step: 740... Loss: 3.8233... Val Loss: 11.9985\n",
      "东阿阿胶)86家公司是公司一季报预增股，主要是因此外，有哪些工行？在待遇的差，面对银行理财产品销售同比增长14.2%，但营业部表改变变化加快报显示，部分类公司在全国有望不断，公司的是中国有大力。在业务的职业中金渠道，最近期、国有银行员工辞职，至去向，对方表示，此前期债投资可收益为高管级产品。注册制落地来自有各银行行长空间，减少公司被行业分散，也有不少公司的高速，有望这个点。涨幅最高，是这个行业年报，公司表示，今年有望到来自主分级的行业经营，可在全面上市公司发行业务的部等主要从其在部分类业务有员工工作日，经验加快速受到贯彻总政、不断服务的独立产能，与去年同期的高达28.6%。不同期，存款利率均有超过了预告。公告，其余额为429.62万元。去年初，实现传统的25家公司的金净利润为7.26亿元，占全年新增幅10.25%，但是一些公司的业务竞争力在于行业内部的重要性和特殊性。”，也认为央行发行政策是贯续的业务政许可能爆。其中，预计来看，公司是不能胶产品的营业收入同比增长6.5%，同比增长56.6%。其中有3家上市公司预告净利润同业均为2.23%；2.5%左右，与去年实现归属于上市公司股东净利润2.55亿\n",
      "Epoch: 9/25... Step: 750... Loss: 3.6276... Val Loss: 11.3509\n",
      "格力度于20.67元，增长1.4%，不符合并我们预计公司100万元至3000万吨，同比增长41.4%，其中，银行理财业务业务部门的年费费率环保、中国际业务手机构实资格局。“准备”。中长期内自上海提高。新兴产业结合，公司在4月1日，中国证券会议审核券公司与中国南车进展顺通过期，公司预期的公司将加快速发展，不过、金融租赁公司，以简简称本债券、中铁和资产的理企业务，对应PO平台的CEPE为料.58%，但在一季度业绩预告，其持有的公事业绩获得无条件审核。公务部口要源于互联网电、国际改益及海外运作，新型材(600万33)。据统计，双双双发行在1410万亿，同业银行高增长，并购重组所带来的增速也有所带稳的增长或者为新发行的不仅是“限薪”的一些内完善可以，业务国有银行高管离职的一层面出。\n",
      " 板块大幅高开，中金“低烈”带来，除中国南车22014年公司已经营的出现，整体的业者，其中的一季报业绩，同业公司2月1日晚间发布，《公司15-14年陆续台，下半年业务不超过1亿元，比20.30%；实施经营计划，在15万吨，年初增长的公司，在于国内市场的“节节”大幅提供能产。值得注意的是，下半年业绩预告。公司表示，公司今年\n"
     ]
    },
    {
     "name": "stdout",
     "output_type": "stream",
     "text": [
      "Epoch: 9/25... Step: 760... Loss: 3.7907... Val Loss: 12.0297\n",
      "东阿阿胶)、双球融资、宁云、云锋、皖通高速、阿路、云、南等互联网彩概念暴的良节能双双大幅提升的提供数据服务。近所以大数据显示，2015年一季度实现净利润5570亿元，YOY分增长2.6%和5%。公司将有超过2004年股份投资收入150亿元，同时增量2084.0万股份。公司表示，2015年一季度实现净利润75.0万元至158元，占公司以一步推进和多个股涨停。在航空动白设配云商等。\n",
      " 无航热点：2日晚间，中国银行公司拟以5.92%和股权。公司表示，国有关于2015年国际存量产直接受银行，并销推广州银行的银行调整和色会出现、平安银行行长邵平更是以565亿元，平台完善，分别是成为大华中银行的“黄埔军校”。转投股股获得无通常是，其有银行网络有所信、证券和发布、互联网彩票、传媒、医药等等大幅上涨，涨幅最好的公司表现，有所面上的公司已经来了。\n",
      " A股上市银行之前。银监会下管AT业务收入为7.17亿元和2.1%，其中有银行业务员工、200万人民币100万元左右，产品支撑和国内投资人民币国务院办自未来，未来对于整合公司未来将有更重仓股有关注册制的一定以及一个股份的银行传媒、上市银行、银行存贷、环给、环保等等行业杆\n",
      "Epoch: 9/25... Step: 770... Loss: 3.8274... Val Loss: 12.0387\n",
      "云南白药业表现金分配套的成长。公司在4月15年以及其后业的2014年公布年报告期，公司在2015年底报中，公司业务总裁和重组工。公司在2015年12月7日至12:0 A股，占全部权益于国有资金，保险资金公司积极的股票投资运营，收益为16家公司的研发生制改变。广州港口：1CEPF分别不馈成本的合计，即以公司股票A股市场的发行，仅有所要竞争力的影响力使。2015年第三届保险资产运营领域已经趋势。在线旅游平台和酒店的数据来数。酒店预喜，数据之间，并通过通过多方财富国内餐饮酒店和间市，占以公司收购嘉和品牌品种，游族网络不断看来的涨幅度均在公布。不过，随取现增值税发票的业务有望通过。公司预计10 年业绩增加大幅度提升了收入。截至收盘，沪港通沪指报指数累计持有的掌淘科技2000股股权。公告，这个股有4960点的股价涨幅达.64%股份。公司表示，2015年一季度的公告下称，公司将一定的股东。在公司业绩增速的增长情况。公司预计研究部制银行业构部分跨境人民币资产业现进度实现高分红。其中的银行涨幅高达45%，银行有15家数量增5500万，但是公告。2014年1月6日，公布称，公司将公司一些工业务前技股东户数据相比下\n",
      "Epoch: 9/25... Step: 780... Loss: 4.0476... Val Loss: 11.1815\n",
      "金螳螂14月14月1日，公司披露年14月底，社保基金投资管理、投资管理、管理、管理、国际类工等上市场带动的业务。中信贷款和支持跨境电视网站高端、电子商务、连者，都不过去年的业绩增厚，有利于公司业绩增长主要来自主营业务”。在目前公司在中层工作的有个百分点，重大对市场。目前。互联网彩票业务模相较20%，年初发布的个股有4家公司披露的2015年一季度末股东户数。目前已有66家公司披露年报的17日，经纪中小三个股都在这一些领先。这一方面的CIOOTA通过，同业对于去年1月份的收取价值。另外，在香港对市场不少的投资股的价格。从上市公司中信贷资产证券化，“不良贷款率“双升””，实施上停的金融机构和一季度的股价，从数量本报披露的2)股，占流通股东户数相比163年三末的股价。2015-4年末的14家上市公司盈利127亿元，同比上年13.72 %，同比增长37.7%，因为其中有3家在上一家公司在2016年年报，公司2014年三季度末11家上市银行中，通过3家和企业的上市，中有银行的上市。\n",
      " 不过11家的公务员工，2014年1月6日晚间披露的业绩，预计2015年4月16日晚间披露信息。2日公司年报披露2月14日日\n",
      "Epoch: 9/25... Step: 790... Loss: 3.6794... Val Loss: 11.6838\n",
      "金螳螂140.39%、1.87%，其他存款利增速增长的情况较下，增长的情况下滑是大幅银行，不良率是个百分点，2.34%的净利润1.580万元，与股份113015-4400169.88中国证券6201404-2.3820.0710.0000.0001510000660150403600801中国国航505,151,88111,421,152,240,076,0052,155,85501000503000501504000002099华泰证券91,415,81152,000158,4000022720电子A80,700,21281,000010500006600798中国重工00255040.1690118.85 10.00000.0000528.SH信信证券海正证券0.00250.40002.00040.00 20.0000600150400669085.SH华泰证券银国证券1.0000.0868.0560.20028.50401600850广电股份51.412.0100.082000.0000.26016.05 信证券001255.SZ新海通证券买入44.050.0528.8039.8035.\n",
      "Epoch: 9/25... Step: 800... Loss: 3.5334... Val Loss: 11.9602\n",
      "格力度的2017年，实现营收166.15亿元)，增幅分别为0.480.00亿元和58.80亿元。同比增80%14000119中国南车480.1160128.0011.801011801038.0830.418288.401200118.SZ)海通信用海证券0.410001.00200002000 大讯亚通48,114,4842,324,171,3841,021,3831,00001000003600818东方明珠1463,744,14311,484,883,8841,490,000002,24039,000000111中国南车600,188,49924,380,5041,594,0003,0433,4093,3901,118,30025,502,69320158833300019中国铝业6,403,341,349210,504,488234,30224,500001115中国证券6,318,101,4941,228,312,37815,0001,40015140403601100金隅股份101,311,341444,381,57330,100,840443,900233,9002015040\n",
      "Epoch: 9/25... Step: 810... Loss: 3.9247... Val Loss: 11.9403\n",
      "五粮液均仍是最大年重点。中在互联网+金融的新开始，一个市场已有的大数据。公告，这其中最高的股份，最好的收购上涨，但是分析看看，如销商客户理财业务收入，其中，互联网媒体业务会批发，而订单的产业内人士表看，这样的贷款平台也有利于最终预期，“节目前”，不良贷款收入1.04亿元，比上年12.32%。不过，贷款支持证券交易对方向的机关，业务开展还在业务部门重要点，业绩预期。其中医疗机构看来，保险投资运维持续持股。行业集团的收入来自营业务之前，银监会已经BBCCBC政府数据智能技的有关系。公司今年年初，保险基金运用风险责任周五的行资金发布局，只是 人民币60万元以建成为产品种，对酒店和核心品种免佣金的时间，以大贵银属现收比上升、销售渠道利润，同比上升至1380.73万。同时候，我国内容安行运发行相效，以主业集团在线院产品逐步会开展金企业数据，以上市公司将在内部分内容护城河河托建等。三分享经济发展的大的OT 公务员、如果能然是大盘的银行涨幅最后，还有个定针对总计有30000点的CEO2.35 ，将有X推广能力、电行业、竞争、华瑞和络金则有望开始了。\n",
      " 2014年，分散大类产业链上下游公司中，预订支持平台。2\n",
      "Epoch: 10/25... Step: 820... Loss: 3.5833... Val Loss: 12.0053\n",
      "格力、资金额的一位列酒，公司2015年一季度亏损的公司20%的不同，增强公司的业绩大额同一，强化银行资产质量的同效，提升了“高管理财中小和经理性张的关注。“水肯定，酒、资产、“传化银行”。由于去年普信月的发起机构可看多中国人民银行申请注册并后，证券交通银行存在分别是市场的现金优质货币业务。此前，3014年公司的盈利能力仍于公司201 年增长幅分别为14.77%和1.69%。据公司2015年4月7500万元。公司14 年净利润约为17.5万元。同比增长14.5%；基本每股收益00074.7元。据山东医药预增股份19家公司股价的有预增、预测，由此提出预计公司2015年增量将为10 年年报显现金分红股的公司。在这3000亿元，同比增长25.7%，较高增长幅度为54%，实现营收收入49.39亿元(同比下降1.5%，14.9%和5999.85点，2014.00点，成为公司13年的增强主要从资产类型客户和交付服务的一级化性，未来仍将逐步提升到  年数据显示，2016年的收入增速分别为96.53%和9.44亿元，增幅下降28%，成本每股收盘为0.47%，基本每股派息(00023元)、同时也(3.13%)，\n",
      "Epoch: 10/25... Step: 830... Loss: 3.4886... Val Loss: 12.2559\n",
      "神州高铁路投资者民营业绩大幅低于市场环比增长1.5%。不过较去年，2.26%的净资产较高增速分别为8.2%和17.7%。不过，在具体分析人士告诉《投资经营》，明确理规定一方向是不能较较好的升格，短期市场还在起跑线上，一些行款广告债债分转转债B、转债B、1.6 亿元，较上年同期长15.79%。据记者显示，目前共有64家上市银行披露了一个把社保基金一一一定的投资，有望于2015年年报显的，去年实现归属于母公司净息净利润1.75亿元，比上下降41.58点，涨幅10.64%；归属于上市公司股东的净利润为2.72亿元，同比下降5.99%；实现净利润47.67亿元，同比下降2.99%；归属于上市证券代表的净利润为37.24%，2013年上升21.88%；归属于上市公司股东的净资达7777.74元，同比增长1.63%；实现理财产管理财产业务化，尽管有望转化为10.78%，但净应较为65.45%，同时，公司今年实现归属于净息净净润614.44亿元，同比增252.29%；归属于上市公司在资产管型化企业的同时，以上海基金投资收益为3123.5亿元，占比较2.8%。据分析之下，公司于今年初高铁行的业绩下滑也是市场一竞\n",
      "Epoch: 10/25... Step: 840... Loss: 3.2676... Val Loss: 12.2235\n",
      "东阿阿胶云计化化品牌、产能和互联网产的上海外现金对价收益为14600万，但以及其他们为负债务的对价格局。从“黄就是中信用，社保基金不过进入的互补，目前互联网金融创业务的打造一体化业务。同时上周将积极作用，机构和综合化经营的方式，即有成立两市但业务。从规模的是，大华银行股票发起资产的“积转化”。目前，仅去年薪发行的大资产留，该国务院银行，未来发展及中国银行理财的跨境资金管理费。2014年年报，全国社保基金理规模可能稍显不足。招商银行：兴业银行涨停，并网银行业绩大幅下跌，但是板块仍有较大提升：1.48亿元左右，首次推进的改善明显，优势。创业板指数涨幅超过50%。但其在2013年的发展，并已经不过各地区域经营范围涵盖了公司机构和“百争取”，费用率增1 个百分点。不过费用率  降 1 个大数据产品品开 “双铺” 销量大力。 天津基地产量化加速推进。首先，核心“不良好”。而从三部分来看，周大资金证券商务部反垄断审核，中国南车2014年4月7日晚间，中国银行2014年年报的公司，这也是有望在国内银行的投资，可以关注的有关注、东海信、海外发布局助紧区后金，远小物流集团有限公司。在从股份方向上，银行高端的数据对\n",
      "Epoch: 10/25... Step: 850... Loss: 3.4075... Val Loss: 12.5882\n",
      "海康威视新(1000300.SZ)中金公司买入-23.93-48.HK中海化业化通股份79.92200.0520150.072.85预增股份(6002088.SH)中银华买买买入2.92-07.95-10.65%16中银华转增(000238)和银行(600135)，咨询)、文峰传媒(3000113)、银华股转型分级人信托计算资业，2015年12月21日昆，中药实现高管待，风险出任人推进有助于银行证券化业务信贷资产支持证券的发行量2014年，银监会对于国家银行中转自2只基金持有的新增们有不可能受益。不干胶说是是不面，众荟与都能想空缺乏局，加激烈，创业板指创新邦板的业绩表示，今年一季度实现营业收入430.33亿元，其中，实现营业收入6999亿元，同比上升91.6%和11%的股权重大有资产，略为，有101家公司拥有超过2000亿元。此次，沪港通过与新浪潮下，也是在不难断“稳，实际传统酒业务部等重要从事项上看，实际注册制等因为其具有优化银行信贷结构，缓解银行资产管对银行对信贷资产质量缓压。银行受风险，银行不足和银行资产管理。实行经营支利好银行股。社保基金和保险资金融资融资类股票型基金为例1,501,05\n",
      "Epoch: 10/25... Step: 860... Loss: 3.5199... Val Loss: 12.3625\n",
      "神州高铁刹车片通产业合作推出有4.6万个人民生和特定10元。400万吨，同时候提供网上的公司平台和交易的问题。同比银平均已成交A建设。“目前多”投资人士认为，这已低于5000207.17 PE分别为136,303,913895,388,58858,4500020150国际标445,910,940166,181,191159,91120150403601200方正海磁101,991,4491,199,1918,10019,50021,50020150403601908华瑞特装555,593,8012,910,0001,151,49249,000002150403630191华东高科111,106,6491,299,511,1011,500,04000020150403600155中国国际1,555,669,310010,901,31111,10009201504033000310方航空015,938,4292,021,911,996,512201,0032004554中信科技333,491,52121,515,5921,50040,500009498海信托139,951,3261,399,669,\n",
      "Epoch: 10/25... Step: 870... Loss: 3.6489... Val Loss: 11.6696\n",
      "云南白药，4034年11310417.SZ中国电气601.1001118.HK中国国电航6.3611.762601166.SH上海医药11.1900117.HK中国国神电力股份26.6711.61101166.SH中国建建56.171018.0110.07118.81 特钢0026.001.014016.00 通信证券0466.001.60016.10%110.0011.87291.036.6771.6716.07176.776.7131.1712.99 16.6016.SH中国太保12.6110168.HK中国石油4.61147.6760168.1H中国中国26.9820.22200.1210.07618.071.68预增00216014-13东方电器(000667).SH11642.05%11683168中国国际14.666.416.460118.10%156中兴中国南方达20.001.24000.1010128.13 通地产60060.SZ中长期投买入616.1861.1860166.S安海信证券16.670.1600.1110111.40 航地光电60.1611.1111.84%2660\n",
      "Epoch: 10/25... Step: 880... Loss: 3.4366... Val Loss: 12.0320\n",
      "海康威视频解决外的“双双翼”战略合作部门。央行也未审会。我国北车：国旅证监会被官为解决此外，重要因重要因是因为比例为中，重仓利好银行股估值水面，在2003年我国经济也将会保管部门涵盖了提速向决定方的效应，分析一人风减，为19只有银行股票，我们的理财业务收入的净利比较大幅下滑，而不是一部分反价，由于收入的比例不低于上市的高管薪酬整合。解以上由此次重要为中，上周银行不良贷款率成为稳定；2)14家公司中，存款的金器额为14 1150%。获得了提升，这一年分析与由于2015年一季度的有效应，实现营收销商存款的比例较低估值，其不过贷的“不能贷款为“流入”的利好。”业绩效是，从而言本周均持股市值。从大类端看来：我们预计二季度以分析师则来看，投资者可以更注意更效：我。自己的支付证券发展的中，有望贡献，对大的股权分析认为，信贷资产证券化业务，由利率分行降低的利好。同时也看到，在这一趋势是一个行业。（大众证券报）[PAGE@默认页1]信贷资产证券化业务。2014年225014年实现爆发生成证券化，“这些公司上的基础上一个分别为180.14万、1.880%。公司去年四季度业绩增长，由于收入的净利润增速分别为1.0%\n",
      "Epoch: 10/25... Step: 890... Loss: 3.2375... Val Loss: 12.5461\n",
      "平安银行，兴业银行平均在浦银银行业绩下滑是大幅减少，但受费用卡、在线旅游平台何千亿传线媒体的收益。以“各家一系定披露一季度业绩预告。其中，银行的业绩表现原因，因此了很多，个别银华平台上线、光线银行、南京银行、中誉化、医药、综合化经营。招商证券：华夏建行00亿元。非药品业，预期2015年12月26日晚间发布2015年年报，公司中金158家公布一季报的公司10亿元以占比3.2%。与此同时，公开发行业50.85亿元，占全年初增长55.0%，实际控制人林奇的信息披露，本周显晚，其中银华平台、托机构一致万美的同业，制度对我们一职一个完善的分别，20家上市银行也有1家在一定存利率同一家以上，同比增长2.3%，其中148.55%；实现净利润95650.10亿元同比增2400.000%，其中14家公司300000万元至7854.59-10亿-33,518102,954002693中航光电2,334,322,2481,200,080,51838,4421,384,8781,112,8981,900,8781,902,37015,220,8981,390201504036001388中国一一6,438,434,88\n",
      "Epoch: 10/25... Step: 900... Loss: 3.5414... Val Loss: 12.9211\n",
      "科大讯飞(00223)、北车特(301208.SH)海发证海通信21.5510.6830115.0026.3223.323233030350155443家新药业30,433,300320,90030,20390,200150,00020150403600632新能源1,833,707,583134,737,478102,977,533800,0003,400000078国青煤炭136,167,059127,733,97331,355,99830,3983,90020,50040,00030150403600068国际电力3,225,457,528144,757,58351,999,398397,929,938113,50015,20015005030ETF21,573,323,203,395,307,873303,70811,393,5093,30040150403600632新闻发展9,939,388,9372,537,678,559592,755,23921,3053,22028,5833,2301,999109,83820150403600809金正大行3,253,623,558322,2\n"
     ]
    },
    {
     "name": "stdout",
     "output_type": "stream",
     "text": [
      "Epoch: 11/25... Step: 910... Loss: 3.2892... Val Loss: 12.3708\n",
      "金螳螂140.04 元，增速公司业绩增长。随之一季度末建设银行集中在201.78亿元，增幅下降4.7%，增长幅度为14.5%。非农发行，也是保障基础设施投资项目，同时增长35 年来看，公司20 年一年来看，公司产能全面仍低于预增幅度为随着业绩预增的主要因此，市场预计2015年第季度净利润同比增长1.43%，较去年增速较上年增长1.5%，对应PE分别为0.25亿元、1.55%、7.25%-42.7%亿，同比增长26.70%，实际控制人上市银行中，有家公司的金融机构的发行规划》，下半年，已经实施证券。随着证监会正在发行证监会以及国家改革的意味着2014年1季度收到每股派现看，1.59元、0.53元，基本每股派现金分股股约 元。同比增长55.45%-12月，上年末增长13.8%；归属母公司控股股东每10股派息(00元股元(含)以元证券(以)10 年)2015 年将集中10 亿元逆低的价值， 亿元将于上一大幅提升，当年初上市公司中，2015年全年实现营销收9900亿元，同比增长39%，增速将继续保持较快速增长。20%，年初实施的限薪，并未没有大区域，新增全年评级也保持有现金分红，2015年400169\n",
      "Epoch: 11/25... Step: 920... Loss: 3.1755... Val Loss: 12.6636\n",
      "东阿阿胶区金融创业板指均涨逾1%。\n",
      " 板块早盘，上海省现普遍出现下滑9855.59%，但净利润同比增长23.24%。据悉，11.83个百货98.38点，同期比下降16.91点，净利润2016.824%，116.17%。其中，净利润增长79.62%；净利润负分为6.56亿元。同比增长2.93%。公司表示，这种情况暂行没有分别贡献增量；单季度净利润环比165亿元，同比增长2.13%。此外，公司基金理财产品业务不同，在公布2014年年报，16家上市公司将为发展了较快的增长，其他公布信息成本增值，为公司将向不超出净应市场布局互联网金融产品，是不同样的金融租赁公司。资产业分化为1669亿元，较上年增长1.68%；归属于母公司净利润1.17元、0.73%、1.11亿元，环比增33.4%；归属于上市公司股权的股权投资1,34320元。据显示，2015年一季度净利润为环比上升至3.81%，同比上升16.69个百点点涨幅1.88%。公司2月16年实现营收入169.55亿，同比增长16.66%；实现净利润96.23亿元，YOYO2.18%；实现净利润1.53亿元，较上年增长38.26%；实现净利润1.33亿元，同比\n",
      "Epoch: 11/25... Step: 930... Loss: 2.9551... Val Loss: 13.0783\n",
      "东阿阿胶云基金公司在14 亿元，收益成为61,895元，股份价格下跌015-14，正大毛利68344.59亿元，增幅2014年。3月10日，中国西安地区产能创小企业盈利率水平，银行股东方财富文化指官第一名影响，公司的高管薪酬整体改革，转债务。广电公司与互联网+战略合作和发布，但公司在打造高管的情况将是，同业进入口起到公司。作为新型方面，富国金入此次中高管理财产品的收入和并非利润。因为公司的利好转型、资源煤业、中心弱势可以。未来有望于新高11股的发展。全国股票型基金和一定选择、资产业阻较较大，推荐低于2015年一季度的不良贷款，但分止在国内部上的上涨，并且在移动开发电子商务的是，未来将于公司资产证券化做走对公司。零部分成从中行业部的资金转型支持证券投资的标准，2014年信贷资产证券化，这是最近年度的银行股全面上市银行之中薪资本次会议，五是市场发行机关注资金。据此，周计通报披露，其中金融创业者们高都是这一个股。而从即股票消息自上行证发。”举行为人心部门的视养自身的资格，远大医疗为资产集运行。未来，公司在2014年全年的盈利增速将为公司的股价值得突破。以外，公司将开始推进有利润，给中药股份，最早在公职\n",
      "Epoch: 11/25... Step: 940... Loss: 3.0757... Val Loss: 12.7261\n",
      "神州高铁刹车片产业化进行政监管，对公司深度提升了其中，对地产业链地铁、产能结构、产品链和产能化产品，产化产品。产品具备化斯体化为移动互联网概念股股票配套资铺支持股市场发展的证券投资产品。公司将推动网络板块方面的银华平台、核销系量有线，主力航空维修市场。航空维修公司的航空培训收入，并造进一步做化工作经销商。“目前公司拥有的业绩提供原材料公司为近10%的股权的股价相对较为，对银行有望受益。西安饮食此，公司将向发布信息披露时间，建设投资产管的化格、深化工等。截至2014年年报，2015年一季度实现较盈。国家公司的中国南车在公告中，已有望提备定增加强化工作调查通知》记者对天天鸽锂带来累累计开始投入股东。10097.SZ万股东兴业银行.3140.516.7012.4000002910天山股份(00.9580.25%1.28亿20.69%110.24%17年EPS分别为0.11元和0.24元，对应2015年15月21日，收盘则不是高管的中薪缩水由薪点工资资产集式进入分析，2015年2015年PEPE分别为0.05元，0.10%和股权基金公布的不仅影响，35014年实现经营业务，1013年，2.11%，股权重\n",
      "Epoch: 11/25... Step: 950... Loss: 3.2346... Val Loss: 13.0884\n",
      "云南白药业5000016.SZ中国中冶1,500,191,02826,920,392002,20020150403600500航天动控510,883,1561,110,310,04161,900001580中国资512,556,1202,992,806,5611,99019,000024,40020150403603376中国太科72,995,921,9011,261,69529,50110,9400000937中国石化35,400,1208,160,341,5561,210,19915,500012,7003005022长江精药147,921,51010,020,1011,55000252110403601792中科技术2,111,1007,0001,100,1000024150403601708中高高1,465,421,32364,400,59201,000124,800249,50220150403600510中国中109,059,729,1011,260,00160,000022,9502005040荣三融资20077.42000911.SH华集中11.26000326.HK中国中冶1,\n",
      "Epoch: 11/25... Step: 960... Loss: 3.3533... Val Loss: 12.2151\n",
      "五粮液均已经完成A北方创业，业绩表现看，已公司在14年1月2日晚间披露2014年年度末公告称下降0126万元左右，用量资产存量大幅减少，但还是公开行业务部、3年销售、德水等产品销售目前，工作多领域发展战略。实施、游族网络、电子网络科技、限公司合计划、20.31 万元(300110万吨)，日公布2014年年末的不良贷款率61001000010.00 1010816.SH云南化化西金证券00155.00010.0001.00 百集中601688.SH上海发证海通证00.11000116014 11.11717.6126.7011.SH中国石油66.0921.00000096.SZ海通证券2611006700.0014.874128663611110179.6810.61611166118.SH中国神保11.7701616.HHK中国国际电力2.8201170012000.0011.37 特钢铁10.01 1.076018.68新增值1872.211010.11 16.7717.0727.17预增00166118东方国银行6.6111.21%1101188.SH中国北车26.6002010.HK丽珠\n",
      "Epoch: 11/25... Step: 970... Loss: 3.1050... Val Loss: 12.8188\n",
      "海康威视新材(300133)、汇川技术(300274)、汇添富科技99.844.14亿元和3.56亿元，较去年同期贷比2.16亿元(较高期，计111832万(601313.SH上海信化证券维持158.0016.1920.60288.02 通信科技77.2620.3920160303601638.SH中煤股份6.4501719.HK中信证券12.5102.02600051.SH广汽集集9117.80860.5020.6018.30 通信证券(601578.SH)8835.0518.7564.8520光大华制(601898.SH)长江证券增持-1.880-2820E草案制度公司实现净利润，净利润同比增长1.37%至2103.21%。据了解，公司实现归属于上市公司股权的股权的股价对于为935万股，即有银行披露的110万，分散收额相比不大额分别同比和银行存款11.5亿元和较大的提升。因此同时，社保基金直投股权上市公司的股票投资者提供化经济服务常。保障经济多个方把他们退政府官员担。这些有消，称向原因购北刻员的回暖股票；上述股票将资金也对公司在资产调整不断出现的问题较上，由此实施和激跨市场的选择职业。分析人\n",
      "Epoch: 11/25... Step: 980... Loss: 2.9832... Val Loss: 13.4099\n",
      "神州高铁路投资者评价研报显现，分析认为，信息贷款584万亿元收占比24%；三是银行一个控、但2月、花顺、数据、数花花、数据、阿里等多数据在国内的三聚聚流入，常很会有缓解，其中行的压力。\n",
      " 不良率上浮20%，不过贷款的支撑，不能贷款为46家业绩报喜的有预增240%，但就业绩增长。2014年年度的年报中期35.88亿元，对当年ETFF(30000500元)7000200万股份交通银行6.32%-20.06亿-18.42%3000711东方航空2010080.0960.812018.04188.600266118.SH南亚投7269.01100002.7012.8422.682002880亚通股份58.5210.26%10.00000.000026.3417东兴迪电(000168)华泰证券(600188)三网股票3000055)华能源技(000068).S9新兴业证券0002022长江科技(000118))、光源电((002025)三龙招元(000598)长江证券增持-410.45%-178.716002008.S亚亚迪科684,851,1881,281,328,09120,080,182211,60\n",
      "Epoch: 11/25... Step: 990... Loss: 3.2917... Val Loss: 13.1000\n",
      "神州高铁刹车片产业链上，公司已实现净利润1710万元。同比下降4.73%。在这一季度的年报告全年实现归属母公司净利润1.737.45%，1000100元集中501.50%)，不超过10.05万元。公司表示，本次交易目标的证监会，对于2015年开始，也将会有利于上市银行，也由于支持跨市场发展。”业提升：兴业也也得明显提升。不仅是记者，中国银行也将会开市场业务总裁等重要利好。预计预计2015年将陆续出炉业绩大幅下滑，已低有002014年业绩报告期，中国金亚科技等限公司股票A股持续上涨，创新板的2015年上市公司中，国家公务人员跳槽到海式针对象断，2514年将实现净利润2700.73亿元，YoY 分别增长3%、651.17%)77%。公司业绩预喜升，同时，中小板企业“由中国银行”迎来上涨。中间发布重大，重上巅峰参参与棚户区改益和保障房是，年报也也会有人员转落迫，还是携程中小一个股。”这也召开了上周的个人做意就是2015年，深圳市场规划达到100万，至3年，存款总额增为不少，上浮2013年15年的2014年度。2015年将陆续出现重要利于公司业绩形成，比例较高达8.4%。在投资者有14 上，2014年上\n",
      "Epoch: 12/25... Step: 1000... Loss: 2.9749... Val Loss: 13.0971\n",
      "东阿阿胶区成长一季度，13年营收增持仅持续看，其中增持有成长性。随着年报盈利预期、产品结算，增值了2015年年末，不良贷款3.22%。上交所带来的监督机遇在4 “加节节高败后流导性，汇效运行大幅助于。从国家运陆续看出，公司明显示，2015年第季季度公司15-4季度，这一季度亏损的估值。公司15年实现营收1007.76亿元，增幅增长3.4%。公司2月14年实现营收1499.75点，涨逾1.23%，增速公司表示。2004年年初实行的限薪适用扩大的可能仅去年起，平台的完善，南京行业个任位数的增长。其中，互联网电子、金融互联网金融领域的发展效应。主业分享受益机(600076.SH)安信证券维持48.0017.443.93%增长江证券分析2014年年报的公告，分行为监管部门重要进5年期内价格局带来新的交付后，将逐步开放线上产品等提近，其中增值税专业理财经济下降，2014年第一季度的股东户。当前54万股，分红总额达到290.72-24%，同比增长14%，实现净利润138亿元，同比增长3.22%，同时，未来实现大量1100亿元成交行业绩，增幅最高增14个%。在手内最注实现控股1.31亿元收购上市公司2415年\n",
      "Epoch: 12/25... Step: 1010... Loss: 2.8832... Val Loss: 12.8233\n",
      "格力，上市银行中，已有浦银银行已通过了最位工行空间。对资产业分化发展，经历快速较好的冲击。资金类机构：资源证券投资银行有14 亿，同比增长55%；2015年净利润2.11亿元，同比增长13.55%，实现净利润27959.64亿元，同比增长16.95%，9.55%-25.73亿58.55199.81149.83预增600159.SZ东北制药股份买入20.004373.29134.49预增30550403601404中信科技244,484,824126,155,13558,025,28385,441,18340,418488,418845,01720150403600857东方航空61,466,099259,529,32435,020158,000302228东阳光科686,501,213120,031,28825,500215,2000225744荣路通6939,949,416100,007,11153,017,848188,181238,041621,500353,04720150403600277上海电工739,514,311268,139,113188,151132,800231,000\n",
      "Epoch: 12/25... Step: 1020... Loss: 2.6325... Val Loss: 13.7786\n",
      "平安银行的不良资本每个息差比提升14个基本点，但每次一定不良状。据时间，在资产管理规化费用率提供有银行转型方向，即将通过利率股市、机构和综合化投资。公司资产证券化业务，有望继续银行业单位。其中，信贷资产证券化实行注册制说明国家银监会主管的金融机构》、信贷资产证券化注册制落地今。市场发起人士向表示，2015年第四次主席会议。决方达信息，中行证监会对公司资产证券化的标准资产，尽管总体来看，公司股票的基础上，增速可能在一定公司。不干胶表示不在公司的银行资本不可能性的银行，不少有就于大家银行方面的机压，也有利于信贷资产证券化是“盘活存期”，方得转债方便债债，比例不可于市场银行、中国银行理财产品余去年实现归首全国社保基金理层对公司的资产证券化业务有资金规定》(以下简称“管理规定”。配是银行的不干胶部门是此类理全事会收方面，全国医药等方面外全国医药等方面开启动在：公司对于高F铁路和建设银行和运营医疗服务等上市公司全年的营收额为769,555万股，涨幅100%的11 年来，全国社会保基金理事会第一届时间的发起委托管方胡》收到两月的规定，这是“两家”会之后，公司债务将有望于4月7日收到中国一级市场，公司实现归属\n",
      "Epoch: 12/25... Step: 1030... Loss: 2.7516... Val Loss: 13.3322\n",
      "云南白药业表现金分红科技。其中华股份(300098，咨询)与首泰核心业务生态主政及其他化剂，在酒店佣金后，一定收入约为31亿元，净利润同比增长55%，对应PE分别为5.25、和1.87%和13.8%。不过，中行业分别为浦银银行和中国联石环基、皖通高速，也有9.4亿股权。此次拟向拨备前周道代表的京津冀协会发展的头开拓在移动互联网金的酒店提供数据，公司在2015年以来的互联网公司业绩增长了公司未来发展战略。而公司将通过飞码印花专用与所以组，通过为了业务的价格，为公司分析股份占公司的一步净值增1345.54%；2016年公司的增值税专用于业收益率为了一方向的机制剂，IPP管理费用纸具有稳定性约收入 15 1 年来看，银行板块走强劲，华夏银行、南京熊猫、北星特、与北京特特点(4200.04 亿元，社保基金却推进第三项主体费用用户在1000点至4向，从而创新高板的高开申万，投行的三部分都是个人的机会，此前案还了公司的社保基金和保险资金悄新进22只股有4月2日，国务院批准长江中游城市群规规划，且目前与酒店却在明确表内不好的特殊的力度，2014年业绩报告预增110%，公司业绩预增加扭亏损，拨备支付比例(0.0\n",
      "Epoch: 12/25... Step: 1040... Loss: 2.9439... Val Loss: 13.7664\n",
      "海康威视恰第一，他过在国内研究起机构不停，股市情况看，与建设情和保持个互联网+”的模式实现了激路。建设的节节节协协调部，是上涯发展关注的不在所面，也已在习惯层目的互联网+新能进一步不及预计，公司未来将允许投资者一才开始，IOOTA渠道交易日所系列。张需将考虑到我们到革，各项目的地产成为公司的发行时间，将实现收入增长。公司为14年的发行实时公告。2014年底报告公司已经营现金所以，实现营收收入为249.19亿元，同比下滑17个银行业绩预告。公司销售渠道利用实现业务。而实现营业收入4.36亿元，同比下跌13.74%，2014年业绩表现看好。在待准备的优质，有望运行可能的一些面向。陈耀民认购其发行过也有对于国内市场空间和互补，实现业务收入，并且形成了客户之间的一直销量进产明，企业及网点DI号的价格。系统“以今日将发行一季度报告预增出公司以来看，实现营销收入据东省省去行，沪从上涨1个基点的增幅下跌，“节能不良生产能预计降41倍，同时考虑香港下滑，也是不俗能形益生态，经纪在潜销客户服务提供商，在内动府工作报告提出，公司更强自金分机构一致来看，公司2014年公司实现净利润1.232亿股，同比下降17个个月，\n",
      "Epoch: 12/25... Step: 1050... Loss: 3.0220... Val Loss: 13.4288\n",
      "金螳螂公司在2015年年报的公司董事会总裁、副铁、董事长、行长、监事长、南京运万、民生银行、2015年年报的11家上市公司现金分红总计数超过150万元，占比2013年年末的不少公司为248万的时间，收入和盈利增长，我们认为公司资金额的不断。未来的酒店预告，这其中OTA行业务来说。这是这个公司因为新的业绩预告，有超公司中小类股票投资的背后，来中国北车合并之重大资产重组事项获得无条件审核通过。新股子公司合作伙的投资股价的重波，百分点，涨幅居大。虽然子公司向大体股东户数锐减的比例分别为0.00%、4.30%和7.22%；其次是2014年的利润分配预案的相比，不是不是不少进展的是中小创创新业务，也要讲值。如客户：回庭跳槽。招商证券万测合作万吨消息，公司去年实现酒店业务数据增值税专用用户，将用立前、五大行行业务部、上海部联、业务转持上长大数据的业务争夺在其自主动压力在限制度，以下简单季度的年报，是否同比股份和股票的年薪相比之后，有望度，在公布年报的不少会有更多中国内国家证券化、开源电子、六券商、两家确保险制度会革，国际地产证代规模可能万达信息，公司合作拓展能力SZ海S业、东方证券0.260000.74%\n"
     ]
    },
    {
     "name": "stdout",
     "output_type": "stream",
     "text": [
      "Epoch: 12/25... Step: 1060... Loss: 2.7800... Val Loss: 13.6135\n",
      "五粮液：仍将于稳价涨格对外的收益，不断未来有回落。 (去年年2月底取现、按佳银行存贷比活期存款7个人才可以下降6bps； 半年销售相较大幅下滑的市场；在过半数的利空基缺是，加强对地方债的合同意制度。去年同期贷额2.98 ，进行健康发展，反包括贷款、支支点相相当于降低风险管理。此外，与股份商银行相当于下资金的对公司的竞争夺将是自靠单信贷资产支持证券交易场所体系。评价，我们1001 年存款150亿-2.0%，总额来看，2900亿元逆回购??僮鳎僮局购、央管大数据链景下的通回归属于上市公司中国股东方式在行股东方财报收91501.45亿元，增值382.23%-3300259.SZ中信科技118901909.HK中信证券71.72200.05601009.SZ华泰证券海通证券0.25000.150081.00 证监会3000988.HK中信银行51.11078.8800888.SZ中信建设70.070099.80002101.S91181091980亚雪迪宝178,472,8212014840.00500.0760.009688838中建股份17.0110.416.21199.00129.7046310\n",
      "Epoch: 12/25... Step: 1070... Loss: 2.5463... Val Loss: 14.6078\n",
      "平安银行，兴业银行涨幅最大的还是兴业。创业板制作为贯彻简总影权的要形可以预告，“大起要”思述时记空出给中想一力。”最低的可能剩法。不是市场随着中证券市场的不良贷款率生成较大。据悉，携程和移动开育者平平台均常处处可不良节期情，但是数比整体涨势。而在线旅游解大括携程携程去哪儿/在“据三网融口的净利能力较很小盘呈。广山西山煤称，中江中药新闻华泰科技主体不南仍推进显示，但在限制银行业构综合化经营的网开时合作。据去年四季报显示，1家上市银行的净利增800%以中，预订，“上线上海外净市放的净利润为9.11亿元，增长14%。公司未来将逐渐被市场。新政板块，中概市场将有必须积营转化，社口指出作出宽创业板“库带延续的。其子大生态数据统计显示，1014年1月底，成为中国有大数据公司，这一个股已经有13家上市公司发布了一季度业绩预告。其中，银行业绩变化原因。公司表示，如何不良贷款取货政策批落实，而言这一系列酒表现让据广告净利增速仅有所以，建行集团收入比增加；三七南车化收益基金的高速，在“两市数”以上述销售一步预喜，公司将有一些光伏并营决定领域看重要超百亿元。从地固看来自主营的压力上升，利润分配套服务。而在环境层设上强\n",
      "Epoch: 12/25... Step: 1080... Loss: 2.9841... Val Loss: 13.3605\n",
      "神州高铁刹车片产业化研究机构：东莞证券事件：浦银银行 600288，其集投资2013年上市银行股东户数为6514户，一家公司主营业绩同比增长5%至138.5%，净利润1.19亿元，同比下降13.13个百分点。东方日升4月6日晚间公告，公司董事会社保基金持召开的金融机构业务收购广发行提，五A股市公司251.71万股，增长4.17%、基金投资收益、55.63%，成长公司主要集中，盈利预提(300138)兴业银(310440.SH)77720.05202831222831632家光大金(600277.SH)7732.50%43002183华电股份2339.99-0.13-27.64亿-18.75%16030380天士喜(30144.00)7.10%376.10%1148012000305华宇集团20137.4036.2300928.SH上海信证券海信证券00210803400030580大秦港5513,331,1051,151,6001,90177,220000270山东飞机098,169,268776,697,096532,7071,2073010030022150403601293天源煤业51,0\n",
      "Epoch: 13/25... Step: 1090... Loss: 2.7183... Val Loss: 13.8426\n",
      "神州高铁刹车片营业客健融资业务并发前，公司已按监管部门。在消费者部很重要领域，有超出现应P平。“目前应该把“他成为加快推进产品，但与“互联网王生产、销售模式、神州信息。 [PAGE@默认页3]光大银租(高铁刹车片通过架构心借助助张张强去年22月取得到资产减值，注意发行行长幅去哪儿局平台。着中国铁路投资重健，将拉动加码原中国浙春控。公司2014年年初，保减在中国交易所市场中暴多种过为“互联网++2. 个百分点。”简称““活宝””按法制改革的意志在明确监管措施。民生国际担任，拟业发行合规模已是突破口。盈空预增，先增赖的增强主业因此外加强，对采用如今的改造出现在内增长主要业务拓展经营业绩、同意增速公司，并未出现在增速，公司在中高端产品，注册制将加速信贷资产支持证券的发行，2015年起到资产证券化注册制落地，可以腾挪银行信贷空间，减缓资产质量缓解银行资产质量压力等。促进受托限制定李克强，2013月起发运行高管，这个消S年上行持续出好，接注成货有1.2%和10 亿元，其全年投入1.57%。 2915 年净收入同比上升幅度最正在行业。2015年第一季度的15 年将亏损幅度超100%。 2014年净利润同比增\n",
      "Epoch: 13/25... Step: 1100... Loss: 2.6119... Val Loss: 13.5922\n",
      "金螳螂14007.7169.98%；基本每股收益0.23元、0.71%、64.8%，同时也在2014 年7月2114年年报披露一季度业绩预告。公司2015年将报的公司从14季度实现净利润3.23亿元，同比增1136.07%；基金理财产品1450.02点，同比增长25.06%，环比增幅1.16%；2)其中，净流入77923224.69%；20140.65%。11588.754086.4923.9837.82预增40350403605600中信建投766,646,516533,116,288152,281,118338,878313,140002014040360466中信银建562,021,201162,011,125233,200333,800320,400282,700220,80020150403600857中信银1,238,116,0001166,411,021221,019,12533,000723,200642,00020150403600257中国重工8,336,122,632105,586,828423,220,314430,214422,417378,4772015040361\n",
      "Epoch: 13/25... Step: 1110... Loss: 2.3608... Val Loss: 14.2330\n",
      "苏宁环球大(30.68亿元).1%，增长率公司的高值高管，这其中增长的拨备支出全国K金融规焦方面，希望通过暂行6.6亿元，净利润27.5亿元，同业银行6.91亿元。公司股份占比最大的公司。东北电气：自上海神职业以贯彻政策总政策及到2014年年报，全年实现营业收969.58亿元，YOY增88.9%；50只是“以间”，为战略机构资金的部反映正式经面启机会的模式，其次，银行对综合化经营方式的资金净值大已率为1.28亿份，比上涨41.95%，涨幅居前的消息影响，股东省民商银行，上述一家设备相比上升了数多达到1655万、万人和去年6月385万，平安银行行长薪酬方面，国内各大行可全程上的投资人士认为，公司将由于铁路和股市场、互联网金、新进股份制银行业集团有相关的表示，我国信贷资产证券化业务行政许可引准的资产参与研务实行的资产负面预压。公司2014年实现营业收入6595.59亿元，YOY率增15.1%，中小创出现受对价收入和国内进行中国农产、上海石基信息显示，广州掌淘网络科技有限电(以下简称为新设，与股份的银行涨长江苏省银行资产发放方面继续因和其他银行股价和银行股票，信贷资产证券化注册制落地今年有望发行800\n",
      "Epoch: 13/25... Step: 1120... Loss: 2.5116... Val Loss: 14.3989\n",
      "金螳螂1400万吨，同比增长21.25%，这一带来公司的外资产业占净收比为7.92亿元，同比增长14.8%；实现归属于上市公司股东净净利为2.91亿元，同比增长669%；实现归属于母公司股东的净利润2000万元，同比增长23.10%。这是投资人才是”，最大的旗下下降超过10 年一季度，有望获得低于000700平安全。1000079.SZ东兴业1.8200097.SZ安信证券投入1.5400.190.242014年4月份后开合作(华宇科客服合计划在2014年底取快速到1250%。对公司的O2015年农商银行的有色化转变，同比增加快并不良贷款，266.56%和2H14，2014年净利润同比增长11.41%。这一方面，公司与中国南车合并之一条有重心改，目前的工作制计一方面，未来不过。使国上市银行有望获取所发行业协调发展的新进产品类，目标总体规范围后于公司在20亿元左右。限制日加快，但具体推动而国贸贸区新节节日大众荟对空C白广合作。公司最终的可能性去年，另外还要下降的新评级，也需要一次的整合性也强从社保有资产速度公司。不良仅增长1.6%，其中投资产业的现金分管理对市场影响在7%。此外，业内人士提升，推\n",
      "Epoch: 13/25... Step: 1130... Loss: 2.6747... Val Loss: 14.4141\n",
      "东阿阿胶云、K媒互联、医疗服务、财产、互联、三农、网络、数字等行、线旅游服务维修的系复步优化，公司主要各家紧固件研发、制造、以及互联、企业互联网平的互联网公司平台，目前，公司在线旅游公司去年实现了激励机会的事业单位。\n",
      " 实际上，下半年实现了解范，收到仍无允无条酒敏的机会实现传统媒备A股市场需求的近三年最终的公司之一家拓力度报09家。目前，2015年银监会主营销售的客户服供大大的费用，强化通知存款覆盖面对外，公司未来产品逐步提升和线端产品未来产品具有产品，无产品销造和技术服务、电气折、主题、航空技术研种装制造复等。游们认为去777倍，盈利预测，投资者估值的优势。在此背计2014年公司实际营业收入156,335,3451000.0000200100400315048320149年银行业1015680万元，薪水包括工行不石很化。统计，银行传统银行业小点小微争议出缓，银行、铁路和地方、维市场的竞争，将实现纷纷内容及行直接收入完成亿版，众荟酒等房建设及国内改缺影响，减左右。解质压压力，大概率出现催化化剂有所良好。3月39日收盘时涨幅领跌，大幅缩水。根据交易各方财富的特音业银行的发展已该存在产的。作项目，而\n",
      "Epoch: 13/25... Step: 1140... Loss: 2.6812... Val Loss: 14.3380\n",
      "五粮液：10年报 6016 亿，互联网金融概念股占净利润的重工作供及比例平均截至2015年年末2014:2014 年，2014 年11月3日披露的数量15 年首次披露截至4014 年末股份 最终的仅例)资金占流入股索，最大相关为国内大的股份和股东的数量将由于一期控股股本周，运通市场购评论。目前是我国天最早事项单投资还有：1、季度报告期内公司1012 年1-1010 年15 数据增长：证监会正式解决我们解除第一批电称，“将流量”战略地被资产重疆问资产境，投资银行存款余额分别为浦银银和和零售贷款率以向，但是一个行业相对不难。住中住前数据的众荟东前尚，业务对合并历重覆盖项目，”，本文合股指数已有1.37万股，户数于125亿元，对于2家A披分分类，20倍，影响力度新高开放高，这意味着私人住前业务员向不能，包括ip白，同业传媒、航母材料龙头电彩彩票向鸿博股； 数据最便利22214年末，每股上市仅为发布额度的流程，而不期投资股的上市，这样一位吗？麦世恩为期目的电缆电最互联网+9.4万股，与欧股指定巨头的合作。除了最后我们的上海信托资的调整合起，这已是今年重组股上，这种情况暂停止办部部分垄断出具的原处横向对\n",
      "Epoch: 13/25... Step: 1150... Loss: 2.5112... Val Loss: 14.2946\n",
      "五粮液：4月66日晚发布公告，2014年3月31日披露年报中146家家公司实被净利增速较为主业务收入，两年毛利率水平差，大额资金占流行理财收率下降的1.5个百分点，净利率16 亿-19年末增 35-10-25小创新股 (002968.SZ)181044.000.0550.0015东方航空(000015.SZ)8011.002.2042.3733柳工(300025.SZ)8883.0025.002.2442.32预增300020.80 通信601519.SH南京东墨金龙10.001000.5748.8036.0232.1338.3740.0517.8417潞环环能(300218.SH华泰证海首证券109778.728010.822.3740.6600125.SZ东方航空7.7100070.HK广东证券22.15022.080018.52中金证券166,878,708201508.00 90.249.7824.376中金股份(002115.SZ)8885.0060.0046.4337光明乳业(601518.SZ8888.5048.0024.8834.3383.32248.3848.0741.88预\n",
      "Epoch: 13/25... Step: 1160... Loss: 2.3876... Val Loss: 14.8058\n",
      "云南白药业表016-31中小商品城(600592)和电源机电切入-47%-20%，增长37%。数据显示，2014年底部分成“中性一直”，4月11日，公布部售改善之间，并已通过商务反垄断局的工作委员会表示，“未来酒店”战择择职业，他们职人要划实时事节，国务市场拓展卷慢，产品，推进以腾综合误经理的改善，出现了一个携程已在全行端创业。2过14年业绩预增2000-2012年15-36年1-3000ETFS0.764.52%10.000000.2017新兴业(600315.SH)776050.0225.0252.0623.7036.0063.02211.00预测装备(00268)申万宏源(300290)三荣联网(300155)40360039.SZ东方财富海宏业0.110000.0000.062015-403600052中国南车663,824,5891,434,260,07820,205,10243,1001,480,71140110403600071国电科技9,380,118,134134,478,100153,119,8081,580,4701,020,70221150403600699天科技1,66\n",
      "Epoch: 13/25... Step: 1170... Loss: 2.6817... Val Loss: 13.9915\n",
      "云南白药2013年下半年1713年实现净利润3.13亿元，同比下降3.4%至149.13亿元，同比下降 76.67%。据公告，当年公司总股子发现营收购5.4亿元，同比下降1.14个百户点。分红总额来不断本户。《每日经济新闻》记者表示，如果从广电企业的属于政策首都核心的个人心主，从中上市公司2015年实现净利润24.11亿元，同比下降4.66%。实现净资产、543.15万股，上涨幅度逾100%。这是大数据显的，广告明显为华平均已经获得，消息称，广量公司产品发行业，利润同比上下降。同时，公司发布信息披露表示，其中，目标是仅仅330元，股份也要求上市公司重大资产重组，上市银行2015年实现净利1.01万。 分析指出，上述沪指上市已有2014年年度实现营业收入5.33亿元。同比下降3.67%，净利润同比增长73.43%；实现净利润344.17亿元，同比增长134.74%；实现理财业务收入11.44亿元，同比下降1.63个百分点。东省净利同比下降14.16个百分点。分别为3.04%、6.48亿元，对比个人增强，从上市公司股份一季报业绩预告、扭亏、业绩同比大幅下降。37个美金净息收入3.75亿元，同比下降1\n",
      "Epoch: 14/25... Step: 1180... Loss: 2.4687... Val Loss: 14.5234\n",
      "科大讯飞的4017年农集团1013年 年初实保高速增长，主要地产能源煤仍和产品平均净极应该基金前，百货贸易商业银行成长农行。目前，150万邦达信息(002387.SZ)102000.002020120卫士通601391.SH)中金公司维持49.0021.734.2230.1120150卫富股份1112.13%)1.26新增199.54%43.00318.43302155卫软股份643191.3111.5710788.855.641.533.0033.0543.3120150卫宁软件511990.311.55新增85549.554.3131.53141.5110.0852.65预增620150403600416大恒股份909,270,376124,7001,00033,400300151四川九源064,978,116106,48031,000002223恒生电子398,363,756112,580115,700656,230002350卫宁通601139.323.14新增3395.8563.0010.0515.9125.68601604.SH南京城A9.1601888.HK北京城矿港股份1.992\n",
      "Epoch: 14/25... Step: 1190... Loss: 2.4147... Val Loss: 14.9865\n",
      "苏宁环球大研究机构：东酱证券拟新进行新增订单上的同金公司101000.24 108.00135.9013.84预增10010020160403601398天士通1,453,261,139102,586,681168,5221050153400356中国远洋1,535,801,665211,686,003555,010683,000354,00020150403604301大华重工1,415,146,516356,664,221324,816,224523,204125,000323,00020150403603586海信托财353,226,283303,446,104456,424683,531655,021,5232,664,2168,126,66320120403601636东华医疗1,588,166,283155,400,104526,050683,500684,664701,700201,00020150403600876新华保险35558.412.5210.111077.11104.77076417.SH洛阳玻玻璃新维300550.00440.73172.91137.97300078.\n",
      "Epoch: 14/25... Step: 1200... Loss: 2.1365... Val Loss: 14.9267\n",
      "科大讯飞，4月6日收到中间一定的产品，因此公司。通过黄金公司业绩却是“辞呈。””告提资布局互联网金融行业旗下。拥有超过半数年的股东发起，公司可以一季度实现净利润44.5亿元，同比增长1.25%，远超高收盘价为84，多元、股份贵州大战，重组及项贷管理公司行业。嘉和一品1.14亿净利润环比增26.593.10%3900236.SZ东海财富海通证券1.23000.77000169.SZ东北制建建投入0.5025.8110988.SH东方航气6.9601188.SH洛阳钼业-39.99009999.SZ兴业集团58.900516.HK洛阳玻璃股份30.0181.67500187.SH兖州煤业3.44.04818.552015.1125.78预增800800.S5 航天12.790.916.7817.67预增002657.SZ东海集团5.3900583.SH洛药业业4.7000817.SH上海电申万-47.1023.8817.7710.8815.98预增6055040.60145.77预增8055040.5540360.5047.55预增3000500多粮液3000995.SH长城证券1.94.0955.\n"
     ]
    },
    {
     "name": "stdout",
     "output_type": "stream",
     "text": [
      "Epoch: 14/25... Step: 1210... Loss: 2.1848... Val Loss: 14.9182\n",
      "平安银行，“双方”、“冠城”等利空产品布局，谋求经营业绩出现原料及公司发布特点公司产品，其中概念板块方面停绩，稳健营收依负省费费率。指标的指数在在产品结构突，而42年实现的投资产品，同时不符合胶)存款品种在维持稳定增长。公司在201-年实现净利润209.09万元，增长幅度最大的一季报时指，银华板块涨2.9%，即发生重大机会，涨幅分别为主要的是近日发布价值跌幅，但今年以后累计涨幅度最高的一个银华中证转债分级可能符直接银华软证券(600016元)建设银行(00268，咨询)等先被宣布，不过预案的其不会是，市场对接到今年的股市已经勾在线旅游公司不遏会的监管措施；五是不少放缓新等的产品品种，不过不让实现点的投资者要求，关注的资管等多方面的原因，此独市场进补协同期，合炒股权也有望品料国有银行不增长的主动，因继续提高其他品种的同时，不过今年的需跌区域整的净资产结量。4、10万吨)，银禧科技(300022)，咨询)、凯瑞德(000005，咨询)等，农业概念股新野纺织(000237，咨询)、首网络业务旗下，9957亿元具外。目前，止在具备项目的多数试点，千亿基建、互联网+平台的扶持政策陆明出的。券信贷资产的风险\n",
      "Epoch: 14/25... Step: 1220... Loss: 2.4112... Val Loss: 14.8619\n",
      "苏宁环球，有2134年11580万吨。公司1015年一季度证券公司盈利预测2014年11-2613年116家银行、2家安徽。发放量低迷，市场前期筹招商估值也含意底，我国自201504年5-33家央企的举措领域。资本达2015年开始优势股票，银行业望交行一份和六支付现别增长。2016年，银监会通过对信贷资产支持证券的发行，2015年的银监会下发科技。在于37亿元左右，审批额度提供大额。在资本市场化的百争尽尽管变化大档期。走此前，华中国银行同时对酒店的小订消费，公司分析，一季度实现净利润350亿元，同比增长5.9%。远于医疗不低能升、不良状况。除披露飞(20155)4035-04300点420002010020150036000030方航设银8,030,900,1001,201,924,811264,800141,000142,430002444荣三光息351,756,3106,110,190,0211,500,5001,20015,20020150403600170浙江龙盛6,604,124,994111,523,49111,050,50114,900159,900644,290201504036\n",
      "Epoch: 14/25... Step: 1230... Loss: 2.3456... Val Loss: 14.9618\n",
      "平安银行业绩已成长空间，业绩打造酒店行业、中国平安、招商银行、三城利差、高建—、中长城建、精神营销的贯彻。告该成去，同业存单人并表示，考虑到公司一季度的净资产为例，分别为3.02亿元)、2431.15亿元，同比下游10.40 百分点，2014年106月310014000005160才会上市称为“宝报新基金，股权的业绩中有重要一意愿意。中，南北分无合TAT港上，证券指数投资1774.97元，报告披露其业绩金掌淘科技的00亿股，并购总额达到127亿份，比例11%。100%，1012015年初染料金隅股份(600903.SH)长期建买入40.1011.00166.006.0020.6001186东兴证券466.061.2011.20116.10020100026004457.HK中国国油股份2.051.18601686.SH中国电建4.8401096.HK中国石油电中股股份数7.071.27600040.SH中国电气3.880.876000576.SZ 特钢36.42026.00001001.SZ中国银神16.000218.HK中国国航5.220.04601810.HK中国石油1.221.076.80\n",
      "Epoch: 14/25... Step: 1240... Loss: 2.2462... Val Loss: 14.6336\n",
      "海康威视为2995年的2014年三季度末股东户数量1585户户将一季度持续，在2015年4月7日开布2014年年报的公告，2015年一季度经股有00多亿元，投资人议认购，掌淘网络增强有超70万亿，同比增长092.00%-14年度。中小板块 2.0000.0000.85048.73 通信终端设60065.8039.72 证券30.0520.2820140163荣盛发展30.4017.0800110.00 证券30.7600.780077.00 通信传输设备(000728.SZ)中金公司与20.8039.2022.0322.15 通证券002110.0960180.SZ东华财村8宏证券0.76000.180099.88中间发讯10.15000.200170.00 证监600712.SZ中信建讯证券公司0.50000.000020.00 航空607991.SH中国北车中证券1.1500.0000870.SZ中集集二海通证券0.27000.850089.75 通信端设设7600109.SH中信证券申万宏源1.740007.830016.24 证券600678.SH云天城海群证券0.16000.17002\n",
      "Epoch: 14/25... Step: 1250... Loss: 2.2169... Val Loss: 14.8719\n",
      "神州高铁，公司将基本和资源成铁路建设研究机构：美元证券公司事业单位和他能预期巨头。创业板指路报告上之所以，最终的激励对象的不兼影响，从上市公司中国装备和铁路和运营的双大健康军巨才。糖酒会关键张润点，主要为游族网络提升公司发行业绩报告期。2014年三季度经营业绩总数据披露，2014年公司2014年业绩经营主营现营收入净利润分别比2.4%和7%。其中10%，上华泰证券认为，国有建行一职受批年化已经终。100397科研发展，300539)春音酒店(000018)安科技(002006)荣三七3月30302.15 300098.SH中信国际证金公司0.8800.0021.5817光大集团(600719.SZ)88180.0048.3035.3437.32601798国南证券20100-0000-20.50483.0866中金亚科(002018)3月35-02-50403600383长江科技127,101,099843,710,764418,11423,181,380139,80011710403600181大众股份904,044,59399,342,37448,772,33311,40073,20076,\n",
      "Epoch: 14/25... Step: 1260... Loss: 2.4939... Val Loss: 14.8746\n",
      "平安银行业估值为投资者提供资产质量，推动应市场是机构和风险、个高。但农、医院等业务仍将会依然远大中医疗局票。糖酒会上市判断也非常明显的投资者，储户资金、大重股有、信孚银行、德意志银行之职，重组后台的公段，为将有的国内大的重要投资，者并都重组了心股，制造业不良率所创业板，业绩大幅下滑的背后也有望迎来一止是整个体业。这一引来了广阔泛海担问题。公务员没有超栖人，一季报没有者认为，但业绩提升了依然大幅上涨，但这一品会议及对丰干部告是这个别可能会提一个程业的信用。如此针指出银行、北京国金入大梅最高的公司，中国有餐大中高一季度，有望一定首先的现金对价的重仓股中有数据公司的一季报业绩增幅超过市场的续现者整体业绩，贡献增加相对应销售不良贷款率29.6%，环比上升9.33 ，而且能营贷利率最高75-17美元/吨CFB；实现发起机构，项目的确贷款正收购动院顺启训现，长期投资者据保持稳步，新能股市场对于大种重要利好，是上市公司来，选择职业，随着市场预计2015年一季度业绩大幅低度，但净利润增速，上升至1.36亿元。分析二级市场，投资范围、国投资大部、投资、互联、金融业务展、等方面，原因为公司的国内发展进入股市并购完成\n",
      "Epoch: 15/25... Step: 1270... Loss: 2.2511... Val Loss: 15.1311\n",
      "海康威视恰恰相容，这各由会批改制C集中游族网物(30113年)预计三季度净利润约为380万元，这为公司15年上年报告期，12家公司预计实现净利润3700万元)，银行全面从1H股权的资产支持票据服务，而201年年初发行量或出炉，央行大银或或出是市场发放银银行业成为“两位银行”的第一届，大际消通是上市银行中国银行昆山分行是中行对银行收的增值、个股每年(即陆人民生活力工行243.11 年报喜预计2010年实际每次工资银行业较上调目前深电工产品提升、风险、监控、铁路信改革等主业内的增量，或将完成重要目伐。市场空间，中国银行股份制银行集团管理体明显责任一条是，国际裁许多中中央企的其贷中带动同方金融控股材3.7亿元，这是因为公司股票业务拓把增加快了一季报预订的上市银行分业快报，其中，预计13年实现营业收入6933.72亿元，同比下降 9.6%仍有较高增长公司业绩出现幅高达，公司2016年年报陆对披露，受益于光伏银起决体机构多行业的承压，下降爆发挥政策优势，前账视的2H17 从地产管理公司铁路货车重组持利实现业务协增长态势确保了产品收入快；广东方财富Choice数据据东方财富Choice数据据东方财富CEO服\n",
      "Epoch: 15/25... Step: 1280... Loss: 2.1333... Val Loss: 15.5098\n",
      "金螳螂14.97%的基金理财产品品变，不超额度异化为资产市场化注意的。[PAG去处于行业银行资产结构化产品结构。公司管理产品余额为188,958股股，一季度业绩预告的扭亏，公司基金本年增速公司的业绩大力可能上涨的情况。2014年年报的全国社保基金作用员会有稳定性的消息影响，公司再次高管的新三应。统计显示，在不披露今年的些资产业的现有较快，上周有现金分红总计算机会投资显示，公司在息称本面的结合性，未来几年首份更加需要考虑外，我们希望用用适合性作任、平安安徽、皖通高、等徽股份、公司产品竞争力，影响力度并不良贷出；但特立纸、单金理财文件和待后，理订产交所辖大区。公司在西山煤能(300285)、美铂集团(00238)、华捷软件(300378.SZ)华泰证券买入-86.69-27东北科技(000698.SZ)中金建投买入-23.81-17世纪瑞尔(600150.SH)国北证券增持-6.28-33.75%46.97%87.08%30富瑞特装(300228.SH)长城证券买入-8.00-483世纪瑞尔(000560.SZ)海通证券买入-33.03174.83%41.97138.41145.94预500088\n",
      "Epoch: 15/25... Step: 1290... Loss: 1.9585... Val Loss: 15.4644\n",
      "海康威视恰恰相反，这是由于投资者对经销商进行方面，收入增长率为5.1%，但是一个行业。全国社保基金通过委托商消息收购51、通信托家安排在当银行卡股份制银行整体的任性，该行负债总对应158/6665亿元，建立产业链位；特种思路公司印发布局；进行股票制商务，已经印发了了较大提升空间。上行，西安饮食600071、国家股份(600789)，公司是一家集中于2015年，271倍在16家上市公司的股价值得一条的是，而湖茅股份、四川强化，工作多讲是服务于、金特种新旗下，通过去持四季度环比增加。创业板表示，在披露的一方面滑和高管；银行以通过多次收购总体而随革+第一一定的基金公用。中国股票并购重组事项已通过日益出现在多方面”。在三板A热在股上的“盘价性”的现长期”。前列，新习酒店行过245.6万亿股，占全年报披露信息(去176)4.S美国/16.8617.68201.998.9830.241000260上钢股份567440.4911.59525.991.1915.51预增60020015东方航空61,676,6261,657,296,55175,950,30008,887,3977,769,8678,776,89\n",
      "Epoch: 15/25... Step: 1300... Loss: 1.9971... Val Loss: 15.2631\n",
      "苏宁环球大操作。风险，丰收入个月、东海科技、信雅达成、远科技、未来发展的整合合 、产业链方、实际控制等7项的优质越同多业务，不良贷款率攀升，各家银行的最后的是国内分级人员直示的业务。此就是大家发。之以下今年通过不断进展需求及其他的风险提供更高的不良率，此前最大的2015年高管——中国银行陆对投资者当时也溪。社会保障投资利润的主要系统导致产业的运输。[PAG与智网省点领域，这改取得将与所线制的相比之下降。但今日A股上涨幅度超过5%。这个股有所只基金总股而在已通过以现值持续积累，但全部教育不整体合会5.85%的股价空间，对大型资金的关注。\n",
      " 、科技、电信、网络、IT精及赵赵网基本公告合交。所周大盘的20079年，昆山分行的大行价格不仅仅只个股，为中央企的嫌贷款和互联网相对更强的信贷风险，退出依风险则与风停科技(000318，咨询)、高科技(000223，咨询)期大投资(002003)得格提高布2014年5月20只基金与股份的不相对于特别是第PPVP平安就能，维稳预测。2014年公司2015年2月2日收盘价20个数据，每年生量17.44%，其他表示看，2014年年报显示，社保基金和2000万元。其中期\n",
      "Epoch: 15/25... Step: 1310... Loss: 2.2130... Val Loss: 15.2462\n",
      "平安银行，未来将直缺激烈。公司略下，金卡、另外，互联网完和酒店、销量订平等，第一一系列酒酒店预订话；4 航空空培训前景，百分点入，行业龙头企业发布进行的不良贷款，转型升级的“关节目标”对至“美++H”的“灾台”谈话之际，上述离职的中层干就已是美国上市。\n",
      " 不过，这一种潮待，公司目前增长已实现收入中国内最大的互联网公司是通过网络百视的也有时，我们的估值得意要史是整体。此前的新兴产品，不过，直销股层干部表示，未来350万股，并购重组审带。公司业绩增长稳增历。在小商品城机电商，财业务部和运输政府和39—国企改革反意线，广州目前也有政策内筹备案出系统，以来主要跟踪经验，并希台销销量弱势，为手段工作人员降至1个百分，动态市盈率和动态净利率上升至3.6%，而从员工持有望木增表示近国的投资者可关性的关注资产，缓解银行资产质量压力等优点，被市预视为银行重要一面。统计，14家公司表示了“佛塑酒”的有哪些落复素，业龙人企业认为64.16亿元，较上年同比增长242.23%；实现营业收入7.92亿元。平安银行，兴业银行涨涨幅居前，是中国银行、中国银行等家分点行行。\n",
      " 无央行上，这六大独上的基金参考的生产，和一些一些时后\n",
      "Epoch: 15/25... Step: 1320... Loss: 2.1411... Val Loss: 15.3868\n",
      "平安银行业平均已然都较上涨升，行业银行中国南车、招商银行、兴业银行、中国银行、南京银行、民生银行和民生银行以及建设银行涨幅均超2%。从银行、分管运行、锦龙等行30%和5600万元，发行银行间交易后91亿元，占流通过万元，公司也扩保持方面速度不期。3.57%的净利润为1.66亿元，同比下滑9.98%；归属于上市公司的业板指新有147.85%，12.01%的1.38%，12.38%1100242.79 3.0013.34%数据来源：东方财富Choice数据统计，多家机构在一步数据的多贸大丰富，银行业也是经济按照集团管理，中国有限薪酬的总体系数排行发行的最大的相比之降的重要一步，对应6015亿的发挥工作优势。保险银行2月15年银行资产证券化业务信息披露指引》，《证券公司及基金管理公司子公司业务体系的有一些瑞信和自身的契机上，上述全球轨道交易，方外代理交易掌淘科技股有望通过并数据公司业务、2017年、2014年年末的不良贷款为率攀升，各家银行中最农、银行、平安银行、宝城水平、实现银平盛涨停，长停电力外核逾4%、6云南医药、电子备、东隧环保、三马重组、中国国务、卫软软件、宝股份、民生银行和30046年的发\n",
      "Epoch: 15/25... Step: 1330... Loss: 2.1089... Val Loss: 15.0789\n",
      "神州高铁四方点，富邦天创出板公司维持盈利预测，预增近倍。海莱示：预测一季度将实现环比增长112-14年营业收迅高速发展高毛利水平仍是近期宝投资者才上调，不断大种股价的不断，创新小来的发展。下游的市场需求考虑计，对投资和股合进展的法律问题进行信贷结构。在目前两市场并站香港下场，与需求持续相关方正在进入和一个定百货车，照有期间注册预期。注册制改革来了。这里说的是核开发行不包括股票，存款、支付结构、上海销、海良好的工程。据显示，10家以监管机会的市场发展进行。但就有各大行定存款利率上浮上升级。不断加率经销行超过与公司的发展，实行注册制。对地产贷款规模较大，因此而是大平台推进，银行在线下游客户经系统规模可能稍显不足。而借贸区药特别电子银行49.099.9790169.98 生药医药70.722.001088.04 通证券0.4000.099.39 证券300118.SH中煤能94.8800278.HK中国石油股份7..0770.24900059.SZ云天科海通证券0.1100000.HK京城机械5.99097.1600898.SZ新华侨城27.2400077.HK广深铁路股份7.7075.2100078\n",
      "Epoch: 15/25... Step: 1340... Loss: 2.0454... Val Loss: 15.1815\n",
      "科大讯飞(000232)南车化工(000866)北车化(000202)长荣股份(300011)长江高速(000016)长城证券(600510)201830030159中国南车688997.SZ中南99.39400988.HK中信电气30.0700068600377.SZ东方熊科金安证券0.48000.1800269.SZ东方财富海通证券0.41000.3500002.0030.0032新兴传设(002088.SZ)80385.0023.0042.370033000300租300200203Z新盛02688,398488,418433,100333,749281,62820150403600178金风科技1,3720,919,7641139,399,386491,282,87233,991,4995,700100,700173,00050100403601088中信银行737,408,368109,884,67831,992,87223,300070931金天科技74,782,483143,099,77833,3000000973中南瑞特978,694,3921,002,380,995119,92\n",
      "Epoch: 15/25... Step: 1350... Loss: 2.2126... Val Loss: 15.3069\n",
      "神州高铁刹车片产业化合给格局加盟机场化学等。副处长，洪波动性：招商证券交易轮宣信贷资产证券化实行注册制 华夏幸联位大数据显示，目前为止，创业板指报中报上涨43.45元。东方财富C天募集配套募基金事项目前已在天音迪电创新业指数的上市公司将一季报业绩预告、创业板业绩预喜的公司中，预计2013年第一季度业务收入总规模达48.41亿元，分别增长110.11%和2017年1101000ETF11,766,0033031,49752,90020150403600060中国铁路1,389,223,458226,983,669182,736,067212,739333,006393,00320150403601899中信重申1,531,268,677419,293,076113,3006023075宝源精科3878,166,297877,273,938793,5951,6933,0083,38330,07020150403600069中国化学2,503,527,4991309,779,738232,789,596267,600219,006300,09620150403600268中国铁建1,567,672,4\n"
     ]
    },
    {
     "name": "stdout",
     "output_type": "stream",
     "text": [
      "Epoch: 16/25... Step: 1360... Loss: 2.0566... Val Loss: 15.3703\n",
      "神州高铁外投资收益率达到14 20.64点，其中工行20.46 百分点：电气网上下 10009.00 据新药业400239.SZ紫鑫城业020.550.2600183.41-46.06330.55003634大西南矿运216,379,106887,795,74155,300000011040色600683长江汽车518,669,67850,969,71537,75044,34048,10045,60020,50020150403606323东方股份690,962,729626,764,67655,355,56244,950458,156119,96620150403600631广东方航568,967,21448,204,75541,070,456103,091400,500406,05040010404600180上钢股份419,090012,7162,626,62640,9061,900150,10020150403600636东方航空2,176,826,46556,622,076164,7001,000000759中青岛0128,300158,650102,00020150403601638\n",
      "Epoch: 16/25... Step: 1370... Loss: 1.9704... Val Loss: 15.8264\n",
      "科大讯飞(400372)、恒顺众昇(300293)和2015年-2015年农集资产质量最早将于2016年全国社保基金理事会第二五是四分散在产业走势、下滑医药生物。(300247)相关工业(002485)4月3日(300145)4月6日晚间公告称，公司与中国证券获融资合券、0.26亿元，净利润17258亿元。4000点消探路者网上初，今年可能低算，环比增长39%的增值税发行业绩预订。2008年2014年的经营目标为电表现营业收入13.51万亿元，同比增长186.51%。这是公司的公司表示，业绩增长原预计主要看来的Q4 I报预增。公告于2014年的股东户均现金分红约33亿元，公司账面分别实现净利润(40.22亿和元).55%，公司Q4 的业绩同比增长6.6%。公司业绩表现看，14家公司预增一季度净续扭亏损至至80000万，这其他们也认为这一级列，而“一茅台”一层显示的可变性，大湖中国电器、强球安徽、皖通高、公司、金龙、电气、互联互联+金融规模的理财业务；五是成交安排名在4月突破上线公司的春季报业绩大幅低于市场评级为风险需要一。我们认为农行出现了对信贷资产证券化产品发行，规模超过2800亿元。而朗玛信\n",
      "Epoch: 16/25... Step: 1380... Loss: 1.7102... Val Loss: 16.2283\n",
      "格力，强化工作进行步协商发展行长约有5168万的股指数增值。根据对数计显示，截至3月31日，所有国金证监会发布了下发审简称向大行变动，方财国务院总理规模约190100.08亿元，比2008点。一体投资控股公司将以向增股票为港股为全部飘，不良贷款率6.76%，较上年提升到1.88%；我们上市公司的一季度报亏的。另一季度实现净利润5485亿元，较年初增长82.85%；基金理财产品8458.7917.99亿元；4.7110799.98亿元，同比增00080000点；5000755中航资源344,144,5671,649,219,077676,516157,631799,55120150403600697上市公司266,454,75770,769,797169,557,6971,071,799,7703,709,7093,967,997450,07620155403600675中国神华3,764,251,309204,744,57724,400,346167,7391,750,4001,557,40020150403600299金正大(600858，咨询)、河北钢铁(3.89170.61亿元，YOY\n",
      "Epoch: 16/25... Step: 1390... Loss: 1.7918... Val Loss: 15.8494\n",
      "平安银行、2015年、2015年度2018年度实现净利润3400万元至13210万吨。同比增长25.94%。据悉，4003年、四个累计投资占比营业务共常同程。比香港不正在但分散，资产调整停，业务互联网银行项成为优化的小时间费用费率等提高，其中银行业前的基本确有较定增强。1.39%。另外，包括电网、科技、元和股份等先后台停牌。其中300家公司的任性的2.58%，比2014年实现全面K141.98亿元，比上涨1.88%。这是当中的上市银行不可净值从中小银行业收入来看，2015年四季度，社保基金和身人互联网++新能不是“美次，甚”上秒都是给香意提升的，也未有11个基本排在下前剩剩，和如非央浪模接台麦军线军品系用“紧紧密泄”庄德再间级。\n",
      " 目前。 目前尚仅最浦发国际(香港制革，但是目前的酒店预订订单同泊并在此外的卖要基本，积极在择义内的资余，这个大数据分别是宝宝价值价值提多元汇别比例位。社保基数和社保基金数量以832,035,48000090，湖北大石科29,039,12192,399,525279,090332,000002312海南铜业1,990,745,0391,199,255,998359,35\n",
      "Epoch: 16/25... Step: 1400... Loss: 1.9438... Val Loss: 15.9870\n",
      "海康威视恰(300116)，咨询)、凯农置((002937)，咨询)、文峰股份(601413,719010,88120150403601701大华股份664,212,503094,817,90916,606,90041,091,9951,206,4074,006,4013,021,123,233,155,10320150403601883中国平安4,688,434,972392,239,996111,499,347194,834,44243,1001,000,0401,005,10020150403600708大华股份1,411,633,949189,289,522391,918,842498,434160,0961,905,461,10320150403600848中航国人4,976,222,344269,892,30849,900,40926,900,9244,910,1231,500,30543,020,4231,551,40220150403600178中国国航1,591,669,32398,722,033196,483,489467,144,1991,511,3001,914,1014\n",
      "Epoch: 16/25... Step: 1410... Loss: 2.0325... Val Loss: 16.0386\n",
      "云南白药表示，2015年以来的平安银行，为国务院批准长期，中国北车并受到了债板投资受益于银行，存贷款、信贷资产支持证券且能流按投资者存单的金融机构和发起人之一，我们为知道，这实回归的经营制导，也已经销商在讲都不转11.4 万股，占流通股份比例9.44%；实现每10.00万吨，同比34.11%，2014年公司整合能力、6.2%、12.86%的1.34亿元，占比4.68%；实现净利润1.14亿元，比13.93%，符合我们100.76%的净息收入为6.24 元，同比下滑77.31%，环比13.4%，13年末不少上升)1.64%，产品结构优化仍有较大空间(3.62%)20.46%；其次深圳市场预期最低目标价为最高的收购上海通知。其中企业数据平台将资产市值复合。“13年12月28日披露时间，部分届时社广发引分析人士告诉《每日经济》》容自规有关注。因此，此前预计2015年12月21日，基于工作人员表示近期的自有分管理。此举是，业板表现有所体制的上的要性投资，谨慎给予市场的资占，存款货膨吸。148月7日晚间公告，4日，发行项目一为市场的现金全部分别是经营范围的限薪令人，不然于盈/16年，发行实现净利润增长。中\n",
      "Epoch: 16/25... Step: 1420... Loss: 1.9179... Val Loss: 15.6340\n",
      "东阿阿胶云南锗业100114月7日举行为2964年实现不良资产余额率不过10%，较2013年116个月1100%。据中国证券报2413年5月7日起机构，中信证券投资建设进行给予期注“个人银点，刷在成为两年业绩表示，比去年三季度末不良贷款率为5.5%。与此前去年末相比2015年以及后，经营子公司也已经多方面不扭不胶。而这是中小了最高收益。其中，品种银势和技术研发A目标在，已公司实现收入1982.96亿元，同比增长199.38%；其次，在全年社保基金投资股占总股份的比例已达39.87%；42016年末不良率1.29%。环比提升10个年核销不良率分别303437和和38114年业绩估值升幅提升，比2014年末不良率上小有大已披升，不过贷款差比较高增高。占拨行一步净利增速较高。同日晚公布，虽然2014 年实现营业收入13333.34亿元；2.72%12696988.HK中海油船春股447.8737.82700207.SH广汽集团99.79021288HK马云服务方航空7.6772.72000289.SH中信国海96.09367.HK广东北新股份41.7777.88000938.SZ动纬通信宏证券0.25\n",
      "Epoch: 16/25... Step: 1430... Loss: 1.8392... Val Loss: 15.6450\n",
      "金螳螂公司的形价格力较为仍期可持续乐观，预计未来有望通研发生产、新疆建设(300265)(元)2005-04-0300395.SZ东方财村中宏证券0.23000.7507999.HK中玻电子海证券0.51000.000020.0040.0030.3122科技股份(600898.SH)7747.00323.8240.0028.0026.7220159033000793西山煤电439,104,388144,333,78944,395,07941,888,4381,731,4822,400,0018,30020150403600372中航地产2,334,277,382309,872,08938,302,09881,30381,193,8692,116,502201504036001008中国交通336,694,655242,998,532211,300,59923,00033,100370,200201504036000189金隅股份1,469,614,5791198,918,083120,039,5681,031,7681,992,9004,388,72840150403600077华电电子1,0\n",
      "Epoch: 16/25... Step: 1440... Loss: 2.0070... Val Loss: 15.7259\n",
      "金螳螂14.37%，同比下降4.7%。这毛利率水平上升90bps。2.13日，公司业务部分、在住政策力召明显开以该网14年，以来涨幅均为3.50%。从上市公司的利润分享受益。石化业务局员转，为中又可以携股委对OTA等行业也让“这幷”会员、新股和董事会总裁。副处长、董事项、1愦招行年薪调整次解决，从该行有中信证券代表，证券简称融资买入73亿元融资融券业务，融资融券信息融券卖出量00融券安信贷额60799，SH玻璃股份号证券.560000.260038.53 垂直网(600109.SH)国泰证券增持-45.59-63海通证券(601806.SH)中金公司买入37.70423.0023.372534.00253.70124.002376.3162149.SH洛阳玻璃玻1.4301998.HK中国北方网金融股份7.07124.091000378.SZ中信科技6.4900375.HK大连港5.313433.38201407.222014.32303352数马化工179,727,479142,956,779132,000435,043002203金正大(002010)403155.643159.51370\n",
      "Epoch: 17/25... Step: 1450... Loss: 1.8863... Val Loss: 15.5014\n",
      "科大讯飞的“火爆” A朗姿股份已经持续太快依然低迷，盈利复苏。我们预计2015年年报喜156%。净息差为6.43%，环比上升9.6%，这是因为公司的股东大力股东。在此前之金，证监会已通大股层的公告的公告资金额现同比增长超过10%，咨询报)，以新三分季报业绩尚滑下滑行业也由此，那地区主要随着一季报预告持续出炉，业绩增长了44.80%；其他股权平均收益率70%；基本每股收益0.19 元，较上年下降20.67%，环比344%上升至4.66%，维持稳定增长150.00%；归属于上市公司股东和净利润100-2500元，全国铁入4.48%，较为去年6月7.27 百分点。2014年业绩大幅增长最高同一季度东华软件目前两止10660万元。据东方财富Choice数据统计，在板、2014年196月29日，基本每股收益0.15元，与上年同比分别3.66%、0.04%-74.67亿元，同比增长54%。西安证券(600080)2015-14-03600583.HK仪城化电力10.2006.846016868.SH洛阳钼业13.9000379.HK大国机械3.82162.65000678.SZ洛阳钼业13.001059.H\n",
      "Epoch: 17/25... Step: 1460... Loss: 1.7646... Val Loss: 16.2304\n",
      "格力度，2014年净利润8500.86亿元，同比增80.10%，基本每股益息(0024元)，每股派息(税前)1元。据时代，2014年12月银行集团管理体系认为，社保基金通过投资者的重要目标，导致标价进行：目标价20涨2-2012-23 净利润8万股预增幅度为80%以上，其中，金前十名流红，20只基金分红都在阿有现金分红总计算，涨幅13.8%，涨幅度逾10%。公司业绩增长幅度的有一定增预，公司2015-403600468东北电气4,666,280,991464,815,212128,224,841150,288,4441,068,4824,306,20420150403600366东方电气6,066,180,991666,858,641251,446,561155,991,48814,88064,00035,60020150403601288东阳光科6,2268,988,44325,800,281221,292,21615,4002,90033,45820150403600467中国中电1,518,884,618144,424,172121,829,882351,924,2821,166,52\n",
      "Epoch: 17/25... Step: 1470... Loss: 1.5967... Val Loss: 16.9821\n",
      "苏宁环球第一。虽然1月集集团的产品业务集体润的营业收入仅增55亿元，较上年下滑166.79%。但增加上升级，预计2014 年报亏3163.99亿元，增幅均为884.28%，涨5.4%，个月、零售、科技建、华夏幸福、方金事业工行长45亿元，代表军工贷款收益稳价为格，首次对比6.80%。此外，公司还是客户的闲资资金。现金分红方案已经况达期了。2月17日，浦银银行的增长20亿元以投资到位。不过军品业务拓言，京津冀区是一举划进口，制时转移方作报》，统计，受需求为7.96%左右增长，任务的公司独特实现式增长，公司于4月7日晚间发建设银行发行股份制最近，兴民银行行长受到后，国家银行薪酬水波上行的股有已部分，也已经到了监会发言，而均大互联思打思的展镍争。银行之外，桂林旅游上冲上周五到行资本周报告期宝“基金跃用户”。凌钢表示，建立公务人民生对中行西北车(601698)周一晚间公告，47家公司预告。”防述业绩、互联网+、国内大行情况下，16月开始加速，汇添格力不少。社保基金所以资金他公务，与中国巨大的互联网公司，给予买入-A”投资评级。第二，强表了一家广州大行(32家传统个股的跌13家上市银行的资金发行了也册有超\n",
      "Epoch: 17/25... Step: 1480... Loss: 1.6198... Val Loss: 16.3323\n",
      "平安银行，2014年的净利润同比增长2.9%。不过具有限H股份影响，公司有望西安地产业80亿元，未来几年打通过信贷资产证券化，包括银行间市场和交易所所将积极、200亿元。”适提扩大，积极新化不良程折谓的业务整体，这也很多了公司。如此，实际社保基金新进积增旗下的集团评网也有大战略。”践产品开始，加强化推广，意见将是政府部门的互联网金融。这是大多互联网“互联网”、互联网金融产品占流通过并比，有望基本回归。市场发展人凌认为对于加强交易，两年多份额比例集之套。目前已公司已在实施产生制较建设及国口改革：设立经验，并销基金委托管的酒店业车客户通知》力度。创业场改革只有120亿，我们可能看到13 年，我们估计也有潜 美国。在国内发展体己的大数——集团公司未来本将有望提高新华产品说，如今日实行行西安饮食(000712)公告称，社科院改度未来将会先机资金额产能助理能产降的2014年1季度，基金可以统计数为6465万元，从去年季度实现环比4300点的为任性的2%。我们认分享受益板表示，“是国有银行”投资者可以更为风险的银行全民生银行，2014年的发展银平台完善，目前也有营销管式下，股价今年以来累计涨幅过只，个人国机\n",
      "Epoch: 17/25... Step: 1490... Loss: 1.7938... Val Loss: 16.4502\n",
      "科大讯飞(002440)2.11%)中或者是公募基金，但其面股价对银行名为股份制最为“略城”消费，给予海系“银行”的投资者提靠股。 充分临的盈利预测，预测2014年净利润数据降低至3230万股，如此独立商社保保和新一次定伙原因，圈市场临多是契约银行，只是2015年的净资产贷比例为47.40%，股权交易日的市场交易本日融资券商银行信贷资产支持证券发行银行中有5家上升。空间，按照银行存款管理却定负责人的前家公司存贷近2%。近三年的个人企业，其他公司股份占对公司收益的重工作背景有跳槽到招商银行：涉及的压，在公司今年以来累计投资收益为不超15.44万股，收购买和不良率到4.67%，净值累计结构持续占比20.30%的新增加26.52%。股价为格非公开发行股份数字累计涨幅4.17%5800%股份对银行业链分处讲政策净息差定，提出五大多的酒店”上市银行之一年到 一个行好可迎来差的收益。国泰证券：此前的2800点，当当银行总计不会为发展的净利润增幅为735%至2000点左015年上市银行净值增长率为8.92%，这其是中金对银行股票占比为7.74%。\n",
      " \n",
      " 与此次预案，系统公司书记者表示，今年5月份额累计涨幅已\n",
      "Epoch: 17/25... Step: 1500... Loss: 1.8018... Val Loss: 16.2303\n",
      "金螳螂140,493,818.91亿元，同比增437.24%；归属于上市公司普通股东的净利润266,431元，较2013年三季度末大幅下降。2414年业内毛利率271.4 亿，比1.1%%权。据披露的414年报中，中小银华转债B的净息占比而669.24亿元，同比下降272.12亿基本每股预期为0180.04%，而2013年年末上升14bps.42%左右。移适应开数据存款类数据分析，今日公司一季度净利润增长74.44%；实现EPS .43 亿元，同比 1  亿  4     1            1 :  吨)  : ，程 存: 人存标的 标( 日标标日标的原原称，沪港通存期报初，掌淘科技股东将通过各移协开甲(00225，咨询)等高农三核心品系统道数据一季度，10股给出现了对ps。朗资的息率加大创业投资，不包括海每股票发行为24.87亿元，较上年下滑27.69亿元、11.17亿元，同比上年增长72.32%，同比增加17.43%，拟于2014年的2.1倍P21倍PEPE 看，拨备率双升幅度的34%。基于2014年年末不良率 1.66% 环比增长13% 15%-2014年-200.14%至116\n"
     ]
    },
    {
     "name": "stdout",
     "output_type": "stream",
     "text": [
      "Epoch: 17/25... Step: 1510... Loss: 1.7669... Val Loss: 15.9892\n",
      "海康威视恰恰第相这这性；在今后一段时间，将只不清横、酒店腾说，麦世恩特意跟记者麦世酒：行。在一麦麦恩并未为来自最后的一季报中，已透1.31%的净息差2669只中150%，上海外业务回升级。之后，证监会对于市场万分分析人才事会来自第一个月度并我们测算，上浮38只有16万、民生银行及技术研发和中金机构，目前收入已形成约15年增25%。我们预计公司15 -260%。据了业绩大掌淘科技自主题。由此，光大证券也是注册制质改革来，提高收益。作为中信证券研报显示，与建信银行业绩已经原因，主业种状况下;继续保进备资产。积极优股股东港通机日不少机构(00225)(3月31日披露年报)等。中村电信号上增持有37家披露的季度业绩报告。其中，业绩预增的有幅度实现受兴业。分析人士认为，两肥消费目前期下行2015年全年净利润增速至398%，实现收入159.55亿元，与上年期累计研发8013年末上海S租海以预增金/6O ，即将未来3月6日央行新三板周五公布年报预计10板块-2016年10 年三四季度后，在过中数据公司业绩表现突出。社保基金数据来自己的股市全部分平台来看，成长行业。第一：解车33家披露年报，21只基金2股，占当\n",
      "Epoch: 17/25... Step: 1520... Loss: 1.6598... Val Loss: 16.0525\n",
      "平安银行，2014年信贷资产证券化发展银行有A股上市银行推动信贷资产证券化业务健康发展，特发布信贷资产支持证券发行管理新规。新规指出，龙1永贵股份将正增长名任闯的收益价率能到，较大年空间市场预增的公告，持续看好的研制和生产，新建的不断能力，而不大态市的触发布局，我们的推广，但是在A股的市场，创造板的贵州茅台面具有分析服务的一面情况。目前第四律审议。东\n",
      "技术、天鸽互动集团执行董事兼首牌去副糖超过半的的工作。摆，包括泛海限利的提升成为推荐阅读&线，络游杯常的5段生互联建行完成了经过SOOO大战略储交通所中行的建设释情，分别实现了盈利增速最后，公司给上市银行的业绩报喜的公司中，11家业绩预增幅度超10000元，这是公司的一些润都有成了解风险的这一面生，着把握的原间与建立成员，也开始了一个反意的，泽瑞信贷额度的同时程度，发展和工作人员表示。“这些电路希望于4月7日开市，12月39日，薛强还与曾与国务院爆委召开全国监管协模式开展金约6000亿元逆成建设增长，分红广发行股份提升。国务院常推动首席经济依进和使得银华双方向矛开拓力一半半年的生产整合，并已完成坚定期空间。保监会发布公告，已茅台与新浪网开展战略序推\n",
      "Epoch: 17/25... Step: 1530... Loss: 1.8198... Val Loss: 16.4435\n",
      "苏宁环球大(副行长期款收州价不确定增长 债。三全社保基金直投股市位的比例大幅达到了85%。5013年，总计达199.55亿元，增长营业总收入7.83亿元，同比下降1.4%；归属属于公单医药业收入已披露分季业绩同比增幅达30.04%-143111-340EPS60.262.69%39.34%380.70%480160400中金公司14.41-1.29%-1.33亿-31.42%3143602633南亚瑞燃气设行6.48%-44.26亿-30.74%40002660恒瑞医药78.471.72%2.15亿259.99%33603325天源迪电(300115.SZ)中金公司买入44.72123.3534.65预30600650金融股份12.55-4.46%-1.64亿-110.37%243012333华美国广(300139.SZ)长江证券增持-33.33-46中海集(600688.SH)中信建投买入36.3033601318.SH金隅股份5.3105306.HK中海发展1.391015.6660166.3H中国中冶1.356119.58中国北新增(60138.SH)招商证券维持-13.65-26中心布局\n",
      "Epoch: 18/25... Step: 1540... Loss: 1.7795... Val Loss: 16.1541\n",
      "五粮液：普报稳价，涨幅超高毛利率水平上升，工行2.2个百分点：长江证券 2014年亏损，公司3014 年实现营业收入1.58亿，同比下降2.1%，公司基本收入达9.06亿元，扣非后净利润6225万，两量基本每股收益1.18股。东北制药表示，2014年公司2815年第一季度净利润产生重大影响，从而湖普投资股指单金融资产质量恶化超过我们预期的风险。 [PAGE@默认页1]农行资产质量压力重大资产重组，但因为新高管产域对今年以来收益。在去年四季报亏损主要基金时或通报高位从这一引入上市公司来说，“这些资产出现了对公司的IPO受翻市场。虽从2014年利润来源康波医疗14年增加超输公司光伏电站仑维维持双强势塑科技成报，全收入增长 1.5 %1 增幅13 倍成长收入来自从而报的2014 年泄茅台酒销售公务的管理费。三指数已在1 年三季度末这一时点同比下降度成坛。节目前尚未理收入增速分别增速，增长来自身于20007年成本市资产重新进行的业务整体，重要趋于境内开展构成长。证券投资：2418年净利润成本点低估值基本点。在农业“大连锁”之后，就短期内或被OBO企业就高，可以从一季度业绩同比上升幅度超高收益。大华股份\n",
      "Epoch: 18/25... Step: 1550... Loss: 1.6456... Val Loss: 16.8297\n",
      "海康威视恰(300193)4亿元，上市近37亿元。同比增长149.22元；基本每股收益0.93元，与股份制银行之比例监控和风云出台的有限公司的产业整合已经呈现明珠；体带来资产证券化业务开始加入，位从改善有分别同比增加逾1%和资源企业强势涨幅提高，2015年公司2014年实现净利润2885.66亿元，同比增13.86%；实现归属于上市公司股东的净利润1.01亿元，较上年增长85.20%，基本每股占比1.23元。(1.33亿元)1.33亿元(0.3842.22亿元，远洋3.68亿元，非利润总计20199年增20158000.661498.74%39新增源0988.71%。银行理财业务手续费收入占比较比下滑171.11元。其余149,700元，融券买入额2,434,564元，融券余额91,533,633元，融券余额159,352元，融余额下降2225亿元放缓附突不插件光品 股。东北制定的限海证券公司141家在银行归属于上市公司股东的净利润1.56亿元，同比增232.22%；实现每股收益1.335亿元(YoYY分别分项，.0%、073.20、6.67元、1.38亿元，同比下降125.96%，环比20.3\n",
      "Epoch: 18/25... Step: 1560... Loss: 1.4475... Val Loss: 16.8973\n",
      "科大讯飞，“仅强是新三板培育新路。新开板块互总网装概念贵金理财产品约为90580万股，成交额来自然而积极；国内关注三项、内京津冀同期发展及中国务车级扩改革公司最终定》、国内股份等利润分配预案：第一轮表改革试点了经验说，做到顶级公司的给资产证券化业务、手机费收益率等省“掌淘科技自陈陈强强强代表带来快速，很见成为也符合政策竞起，对其他表影更为有资产的风险与新华中政济(扶持政策、远进产品，与泰信总对榜退加；券商两融合成日才上市的观点问题，我国存款保持在制或1月底上孚银行高管薪酬审会审核和发行委托期限薪年成长，公司正式发展生关系统已经发票，应商存在向新的贡献增长的趋势，业务对台o陈耀民。公司业务，中国管理层孙中高担副健长发展，跳槽任光员、促职原中员会织身的。“美国茅台“一带一路”最低段，但对整成长期走势的缺群模式性，而天津通势产生产快速到账。招商银行行长，主动集中：春寻有助些公司。”早有所奇的，泽煦已通是从事长的公告专已经从舆应交通据，中国资产证券化发行了最终更审早对一，市场拓张海国企稳时代周一引看许多约京即走强果，存在内多的互联网长，公司已通过BC的141月9日，收购完成提高，增强服务业绩大令导致，成\n",
      "Epoch: 18/25... Step: 1570... Loss: 1.4306... Val Loss: 16.7886\n",
      "东阿阿胶)腾先是互联网+新的客户经理性融品。销售公司向大型客户将资本战码滑。“飞行注双发”，当时总全面召开的触发布，最低年上市公司的2015年公司经营业绩的稳健营收则，12.27%。在前十大中科技、东方电气、宁夏建材、有色光大、产品。新宁兴业传统研发展项下产品具有化优势，建行业构地区集团在线产品依然在线旅游公司们提的客户要目标的优势。“目标的掌淘科技自未来发展用整的是产品系疆产品。国务院批推动医疗诚中说资产质量恶化超过我们预期风险。[PAGE@默认页2]利源精煤：2014年动双方合计港内机构的互联网金融产品。银华曾指引发行基金将酒店开放式将面启动掘金类机集团空间修。关系新司作为新浪合施。去网制改革，正大自2015年度2016 年度实现净利润5.05亿元。2013年，不超过10 亿，将是利润分配给、宝宝新新进充分陀网科技 、航垂飞入、浦发国元、深联工、中国航空、地区域目的堰市特点。“双方将”—目标完成工作已通过。根据2014年动理改变革：1原有冲高端产品确放较快餐饮食食品销(0%2510亿元以上。早盘受将顺热和租赁个整轻之间，上述桂解银行的业绩将缓慢。2014年信贷资产证券化注册制落地今年有望发行\n",
      "Epoch: 18/25... Step: 1580... Loss: 1.6255... Val Loss: 16.9019\n",
      "五粮液：我们可为公司之前，证监会在于去年四季度社会保障上市公司之前95%的股份。比国内的这筹茅台，从社保基金直接的投资收购，并将充分受益具，因为公司只是17家A股公司，这一一些公司已经在A股大创新数产品的高损，却见不是，从政府获得的工铂稞有6只只好于股市，着互联网+H股的是走倾券的股，有湖中的石油股价对数的增值率改造的不良率。分)也是公司的银行股票占比为6.7%。\n",
      " A1上年，中信实现社保增险。2014年12月银华平安银行，贷款子公司长对于价格低于上市公司的重要保险及意味着短期内有可线上公司之一，与中国有民银行高管薪酬将大幅下滑，浦银银行和京银行的重点微资，公司有望于2013年2月，国金证券又与腾讯签订在客户上市并未取现酒业。公司的龙头特征，1、在银行的平台，能力，很大型有的优质，此有的相关。数据，这是市场则在9过50名击接结结算司思科酒束将资产先量。做出现金流上的收益，其中信贷结算，公司是银行理财产品依然，大多资客协议更多，是用于互联网++揽了2个百何迎来在位都虑召。以前，中国有资产证券化投资A股市场具体分点，他们保别增长11-27%、股每股收益收益的高值，从中小的公司股价对不良率分别的比1\n",
      "Epoch: 18/25... Step: 1590... Loss: 1.6462... Val Loss: 16.5521\n",
      "格力度仍有41.78/1.31亿元，同比增439.10%，其中156家银行净利增长21.0万亿元，同比增长28.07%；基本每股收益为8.14元/吨。港口：年内深圳保持新进交易首份解到14 30-46014年，实现净利润3900万元至340万元，同比增长38.09%。浦发银行去年分四次核销不良贷带动主题材股，占量将平安重仓。\n",
      " 等消息面上，30万通传统交易与主板的互联网+平台和励核市场业务进度。利好银行股上调绕收-AH上美的同比。制度、我们铁路和地铁完成重换导致口，未来0000亿元左右的限压缩影响力大幅高达，短期投行增长幅度超500%，而40%以权投资的收益。据东方财富Ghoice数据统计，近日机构上调多次高收益，其中PLPE 等15000亿元的净值增长1.45%，万邦达(300165.SZ)10122.0023.00141.88预增股份2814.19万股份募集配套资金，募集配套资金中表0充分购买科院讯用不免费用户降 、中球三粥负责人薪酬包国石基信息中，为17.44%；2.64亿1.67%160160.00点汽车282.022.47%3.03亿10.11%22601162隆股份P20.114\n",
      "Epoch: 18/25... Step: 1600... Loss: 1.6267... Val Loss: 16.3473\n",
      "科大讯飞(00260)，咨询)、文农股份(300248，咨询)8荣安贸三个股新混的成本优合，有利率地区、5万、5年、荣盛、310、冀中国船舶价。我们认为美国务质款金对一季度业绩下滑，平安银行的农行发行平安呈现政府盈利的城市，实力度绝对子公司，在禾集团去年儿同对酒店和盈利整平，我们在上调，预期的地产公司有利于风险、招商银行、长城汽车、治农恰、五m商三温差的黄金——一中国证海医药、海天联动、东前华药、宁达酒、和雅软件，未到136家上市公司进一步高开在个股也将并购重组所带来的业绩提速增长，万分地左右，利率最近两年实现困营业构成长的原因是，为重大关概念股强劲，中国目标为电机放的风险控制可能，农发行量也是不少看，在线旅游公司在酒店的业绩大得中，可能有的“定性，由此，没有一般的上冲，希得了最大本周末，在建筑项臵审核用委员会在期待，维持客户的增长，并且多算机固模都都面现各地域资源和丰富控股维达等先，在接受益者，而在推进一个缩合酒店东户越相多体化，传统酒店行业客户经营竞争力的行业龙头企业的营业竞争力的影响销售的信托管模方面，由于公司预计一季度龙头公司的业绩预告升，同业数值为120亿元。据相关，这三公司在万邦达6\n",
      "Epoch: 18/25... Step: 1610... Loss: 1.5275... Val Loss: 16.6247\n",
      "格力上市公司的放量达产。同时，同比，中国北车同时，公司实现净利润2.31亿元，同比下滑56.15%。农业银行2016年一季度，160年的净息差为1.03亿元，同比增长12.83%。今年年初，保险资金运用领域重大改革创业板整体，但是应当的市值就是需求，更是这些时上，这些都是转型的都能做出，但但以会跌二级市场购会，许多领看，国家科技都推出中国学院教授、木员认为，使政策以上下，国有银行不断地浮原有提势。反观，来说，着短期市场已在经过调整关监管澜第二、强用之间两市并催的力高。2012年，嘉和一品是一家自己的命，2015年将形成数据统计，将着力市值业务进展收同比增长，非经就业绩预告，公司2014年业绩提升主要的力煤。上市公司一季度公司一季度业绩增预增2010E百圆裤业301574.37预增100517.SZ东北电新66.8741799.HK中国交建股份6.05125.62601919.SH金中信建成6.8402928.HK中煤能源3.98115.41603995.SH东方航空7.7400218.HK中国南车股份3.4142.68301285.SZ丽江东游族制药6.1100.4860180.HK中国交隅\n",
      "Epoch: 18/25... Step: 1620... Loss: 1.6671... Val Loss: 16.8782\n",
      "海康威视恰恰相反，这些关注州民商对象动力煤能没有明显进度一个从来年看，2014年在注册资产证券化业务开始试蓝、00077万元向公布2014年共报，配套资金证券公司基金投资额占位为二级市场进一步筹码，新司如周易换交所年并不等板块投入的公司购买其持有的32家，分别实现净利1.1亿元和同比回升2.4%，较好肯定是净利率同行的上升。其中拥广车、平安电子、生小企业、保险等方面，其他方式给尝试试点。\n",
      "晋本腾券等此理公开2015年代码证券简称融资买入额(元)融资买入额(元)融券卖出量(股)融券余量(股)融券余额(元)2015-04-03002229广电子信623,537,596116,467,591310,10041,300000276华谊兄弟93,120,797,806,417,07450,00533,00033,40030,718[PAGE@默认页2]利润大额2014 年，实现净利润 亿行14 个月增长幅度上升至40.0%。这是来说，“这些是央企的由薪”问题的方便由可也成基本消费基本竞力和中花会出现于告产质量压力，大连锁餐厅品为。美药集制有“大行”张局之所。证监会对广州大行。备案策实行注册制。利好电商行业\n",
      "Epoch: 19/25... Step: 1630... Loss: 1.6226... Val Loss: 17.0309\n",
      "金螳螂公司的收入来自主营业务员，在积极政府正式研究机构：程不断投资结构调查次市银行业证券报告期、掌淘科技、0万股份、科技大、麦世恩特、如意的第二、口达到8.6亿元，以上市公司的确定收购，天是完成无营管理体系的集团”为思被挖角了现原来，是影响，平上市公司积极已申购，于将通出市场对资源有更风的自然而为。国平股大，连锁酒店集团收购信托的消息，全四正在答系列酒公司的公司中，其中，股份涉单的天津资货币安人，为教开业务的不免责声，2015年将以抓住国有企业的改革：一轮动力，我们预计公司2015年初将实现无限、销售及技术研发、人民生银行和产能结构自高达产品价格，未来广需费用。公司2014年底，报去公司总额达8158.64美美的广电网络、互联网最大、深科技术、美的集团数据金融业务趋度、创业业务、远大、医药等业务全部基金经营、厦门稳务、华保险、3天基金、保持股份、3室的集团广发证公司已经检修邦、改善的界变广田了公司进取一季报 年，公司受托理财业务收入掌淘科技主要为游主要来机构提供数据较高的公司，其中海互联网金融企业的上市公司将通过自金融业务业务体系列中铁路通过2015年净利润88.62 分别增幅140.10%，\n",
      "Epoch: 19/25... Step: 1640... Loss: 1.5634... Val Loss: 17.5060\n",
      "五粮液：普五稳价为格行详首专用于没有的企业。2、国内股价的农集网下政策略，进行增量资本，并重要原因。此政策：吴面深化属 、国有线级、优势股份、华泰传统 、永达电电科技、联汽生电、远科传、国华远寿、工商银行。理财由于60元收益率从个理财务部分私人的表示，2015年我们预计10-00兵卡为小通股票密，最终为预计第一。经过面一个季报显示，环比增加015年公司已经实现营业收入43.63亿元，Y上海增长6.62%。远超1年期的0.4%，资产质量仍有较好的好券活跃。2014年业绩符合预期。此“对象观：20积极炭的风险转。2015年农行净分析人表示近一季度预点。2014年净利润的带动影响，增值构成风并自2015年农行净值超期率今年的带来新方面，2015年年报的24家公司预计公司预期为风险提升。此前，公务员按照0日最后于2015年第2565年，将超过000 多为其他股份及其他方金的买资等公持股份，银行集团有的大幅下原，销量进一步扩大；农行资者注册制增加快速度我之一。2014年全年净利润20亿元同比增速10%-26.2%，2014年业绩大幅低于市场一致预期。公司非息息业绩增长，公司2014年农业银行理财产品依然\n",
      "Epoch: 19/25... Step: 1650... Loss: 1.3257... Val Loss: 17.1030\n",
      "五粮液3000亿元养老金将于今年开始到2010年，但2015 经营教育的还很到中，目前。公司在乙肝亮抗的能源区验和核销区层改责任公司。除自谓的国元证券货有限责令下滑。早于银行平台商业银行资产质量压力，大概念股充市值青睐较好银行业资金。集团政策面出接完善的公司，其中有国际改革下半年到2015 ，这些大很多别别是但P和和资产和特殊想。盈分产时，被市场：“互联网+”战略，给予公司“推进”投资筹码集中负相提出，经营范围、实现营业收入41.97亿2.78%47.88亿元，占比由30%；利润第一轮动体车的合控融资买入和2015年的2015年，去年期现金分红方案的上市公司有76.8美亿元，平安拥有大数据低于公务价，充分确需求处于业绩同时，加入推出，这些增都是获得的提升可能，但分析趋于上市对互联网公司贡献走向对体；通过资产质量与2011年分别工行。如果财行业收入增长分别不良贷款和环保收入1.8亿亿元；平。银行IT业务架构的组织部门式在交易在年的工资产并购购掌淘力后，将积极一托变域和资格境内机构和发者转化方向，资产和风险辉高开，中国股市场处于行业也开始试点。近期，我国老保险制度投资一季度慎重对应枢。资监先机把增\n"
     ]
    },
    {
     "name": "stdout",
     "output_type": "stream",
     "text": [
      "Epoch: 19/25... Step: 1660... Loss: 1.3179... Val Loss: 17.3028\n",
      "平安银行，其次是银行的数字安银行。该部更重要云天基金，周期目前已止等。资产概念股持有关科技研究所以及整延时，经销商于当前的压赚下也将着挑战；国内最通证券、6220亿元、3月20亿元。截至4月底，投资者工作任委证券会议，新进产品与新浪和广播影视网络有限公性(下降175-7)的一次性核心系基后。虽然过月1日召开的酱既问题世冯将推进粕门能力，在2014年年初，市场的合作总数据达到302599-458.11亿元，增幅4.48%。而这是中小的“黄令人员后，门权可可以债。国务院正面深醒投资，改革确在已在增做做板板块的大盘劲说，给中天银行停，包括网任、医疗、网点、火通等等。证开会有限薪令最早可能到2014年实际的铁路投资仍将保持稳定；神、游族网络、天马股份等银行部鲜等品支持续绝对投资的高位，以预增加大概率开场作带也的十大空间。中国石油化成包份和公司业务竞争格、激烈客户、重新进、新打态态系统，拥有各类上系的线下降1.6万，与新股的板块涨幅靠前。主要板块的万有是，采取暂时大部门的视集中度的增值在任四大会对买股份的投资增量主动等。“大智飞所”战略，整合作会还是依靠在未来巨大的起新。\n",
      " 实际的现金利用约55%以860\n",
      "Epoch: 19/25... Step: 1670... Loss: 1.4828... Val Loss: 17.1634\n",
      "苏宁环球第一笔最近1500.46 通证券首.16亿元).25%31.48%2012.70%1.52%数增长：公司(6.06个百分别在每1000多多元，同比下降57.65元。公司股票A股分红比较好。正海味着此次大事业、上其承诺，权不出现宽检修是互联渠时间比例，刺激相关题材股如网络彩票的鸿博股份(0000977)、券商股?(策测接1157工行股票，4月37日2014年42011 人士表示，这2015年一季度的净值增长率为5.44%，是13%，净利润为1.09亿元，同比增长4.14%；归属于母公司股东的净利润为41.05亿元，同比增长5.4%。公司业绩增量将继续提升，银行股估值走低于201.51亿股，净值为3.34亿元，同比增加20.33%。但截至2014年年末，社保基金于2014年四季度比20%，年度披露年度，2483年开始4.65%，净资产链上的分级子公司。14股东户变现货币约人币的稳健，则由率一季度点进较年初至今年军工行业-40%，全国社保基金一一录。但不一，市场人在认为，过名境中国消息面影响，公司的高管薪酬水包平台工作为者。目前A股；“笔商直财CE单独立跨660%的股上涨幅最浅，但2014年净\n",
      "Epoch: 19/25... Step: 1680... Loss: 1.5260... Val Loss: 16.9475\n",
      "格力度。不过考虑到公司15亿元，创业板也需要申申的比下跌，实现公司将一步推出和国改线下跌，业绩修正证监和迈出重仓股有不断。美潮，整体上涨6%，不断加快速增长。业绩增长的增速，公司于业绩大幅增长，增长超过5%。公司业绩增长要原因除中特电子公司发布2530亿的逆港港口提供应增强势。上于493.98%1.11亿2.73%13601613潞安环能11.65.70%1.21亿24.23%21000310浦发银行16.063.47%1.04亿12.49%1600207中国联业12.323.40%1.27亿2.23%23002061中国联通6.381.10%2.21亿13.28%12000166中国银行46.623.29%10.00125.0031601316建设银行2014年3年末到1538万。受到13号定，发行传统产业已经面临A设产业发展，将、石基信、资等维持将备。利好业务：资金三波主要扩大的制作”可自营自金担王保。网倾抢打饮中，目前成为大幅增量，有望成定增预增。公司：收入增速分别为-18.72%和12.82%。西部地区不良贷款额增幅有不良贷款率1.9%和11.17%。公司业务增速分发行业龙全通交通过\n",
      "Epoch: 19/25... Step: 1690... Loss: 1.5087... Val Loss: 16.7857\n",
      "苏宁环球大兰有98.49%。而在交易前53只下游族网络安技有发行时，同时，如今及广电能力成用远高位，在基金的上市是以中，二级市的企业标的证券投资的范围，真实实售在1亿元注市。此之，证券化还将连续，全面深市公司在AB股中的上市，并不是公司以来说，存款金额的一款风险可控，公司有一定的证券投资的范围，于这些资管的管理领域风险控制体系统，具历经纪新高子公司贵金属于“互联网+”的互联网战略正式、启晨巨大，携程对公个股票型类都冻结度的上，排名当薛强强或因今年来高管发行效率和准转变，但大额涵盖行高端产品，对客户经理商品研发转型，中在传统航空产业基金合作。此外，已有施的确定共性，这些盈利是泡沫还未未来渐缩。在国旅游有关规模的投资运营，并在重视摇头迈？中小主业“宏发争夺将致力，下发商业银行的平子。招商银行流动性招行。招商证券人民币25969月起，实施了解自备资金市场行业银行存量方面，也不包大变化的企业健康、房医城市展的互联网巨比增长。风险提示：解决方案不达预表以后，随时上一季度预告一季度业绩预告的盈利同比提升，14年公司的不良贷款率20%-25亿元，与港营通银行相比总体的有些多青消费，部分盈利增速放缓的迹象，另一\n",
      "Epoch: 19/25... Step: 1700... Loss: 1.3993... Val Loss: 16.9122\n",
      "金螳螂1409万元完成初，并购重组所带来的外资增值税发票用用进取及铝本期工间。 近期年同期 4  年开  年分别 1.1   1.1   1.   1  1     近 年     1 年  吨 吨 线 线 线  [P C 料、财BDS 价为4 号。目标登记表示 医药生物155家公司预计2015年将陆续出台更多有利于银行资产调整和化解风险的政策，即进入口。利好银行及浙算是，值近买入的三线过万。从公司中间业务的正面临生产经销售。预计2015年将2016年全国“宿立”多方推出“拥输大类楚服务的方面，那地区公司责任一条件出位，实施发布《近日调++金结构调查工户流席通过。\n",
      " 市场人士认为，上述针对重微关事业务具有难以银行中行存款方面，全国转入包括转债债，债债债价价值的重工+和新浪出挂一家做的续者。2014年通过对地方合作内容的发展形式。证券公司2014年实现营收16.55 亿，实现净利润1.05亿元，同比增长35.96%；实现净利润94.64亿元，同比下降3.36个百分点。分研动力和14 年有存款的上下，上飙对公司是整体的业绩，争夺于2年，但自借助度极误创制创业化来开始一、在管业情况下游的业绩提供成为\n",
      "Epoch: 19/25... Step: 1710... Loss: 1.5048... Val Loss: 17.3824\n",
      "平安银行业务平台的发展量显银禧转型为2014年以及收入和分别贡献收增，但其柔 累计累计增收占总额尽882万美比例，沪深市入9168亿元收入增长分别同比增43%至7.11亿元。分别同比增长1.4%和产品结构。其中，广州掌淘网络科技有限公司(以简称“SMG”)已向掌淘科技发布资产证券化大幅度为格局人户，这些公司中，南车车并公募基础设施38次新股，并带动力和保持顺铁路投资的市场，将超过10 年佣金时代积理费用率明显分之工作。员工跳槽与华转换行长期内自主角及及部化，涉产生具备案查基数转型升级)本日融井偿还量2814小企业洗e6:1人，略增长盈利能力。广发证券也仅为起跑线跑线，未来我们还去独家的经验不让，市场关注意需等手续费。1915年法初，那合同时的网点方式获得投资者的无线，创业板新线的高压，持有这些公司员工作”提升到后端，大行业“互联网酒店行业“慢据酒店”的触网人击，这一一般思依同同比大幅度的上一年以来，天SMG旗下共”同业。据了财辰来业务一子公司收入其中，光大银行网北京银行，已经发趋、苏州大行业绩局稳健、环保布局。非常经纤屈一。虽然我们政策面压力。按照集团和中国证券化一、北车和社保基金通过，公司未来\n",
      "Epoch: 20/25... Step: 1720... Loss: 1.4721... Val Loss: 17.2144\n",
      "科大讯飞机构成长、证券投入工业、动金融市场需求持有关于20180年报已披露。2014年全年，预计2015年第一季度投资产委总规规模投资，短期可取得将新的消费市场，将需要基金的或资格为发行，银行板、中国银行、交付某银行网分配项的中，一路将以一直内机采望短期内中剂业绩的意味，着天座政策向全常注都会有转股权。“以前股指数为上的互联网创业背后，公司就下也将着盈利预期与股市如极估值持有望在必然过吸。更多板块，更加市场价格起低于市场，阿里国企业的高权投资产范围绕受益、中期和交易所市场：暴跌投资可能会议。银行板块方面，送转潜力板块走势强劲，艾瑞森涨停，九强通过除了飞布局“重点如集集团去年的表现银华将开展银行业务、“S曲垂”的信贷资产证券化对银行资产证券化发行，市场彻总总额为1728.74亿元，融资买入1187,661,00058.004万元向增长幅度为24.07%。这意味着公司光大传媒、通知状，与国务院批准南相关统的业力资源和以大互联网+有一个国企业，其他股代都有当于14股股价对应当当前收E为重视为产业大幅低于”种情况难致，大收到商务的反观。从这可看选多部基金可以委员会在监管部门持责任委员会通报了对我们的分析\n",
      "Epoch: 20/25... Step: 1730... Loss: 1.3972... Val Loss: 17.3697\n",
      "海康威视恰(相前，这地推进公司的股份性略维修的发行时间，越不良资产的“联姻”。由于技术雄0我们一定的增长，公司将以内增值服务提高。市值随着1.17亿元收益率高达到1-2.2%，年净利润增幅123.6%，同比增加13.2%；实现商业煤流化，净利润同比上下90.29%，同时增值税专用发票用量约约为1亿增加快推进。传统电 、金融市场、科]技、国内国改、在国内大的大连锁餐、广t热点的可能性，这也没有超区的市值的就是大举措打通全资产品结构，将积极应创建更大，产品，公司将有更一的内容，充分受到具体的放用，与此同交易平(30243)的数字政通(30000亿，449家金融机构投资、个人光伏、通用信托等03只的上海油预增幅度为50%；5、国药安等14家上涨停之后，2014年年报陆续看到，科技都是“以”后，销售市场空间的巨头。此外，公司已经传统的TCCBN以\n",
      " 数据仅仅是起，有正的。经这也得了具见吸的运营，而且在公司的大账资本充值活期宝，安全作用用于优势调用大的型彩级大背景，其中企业(2015年4季度公司2014年年度报15股东户净利润的比例上帮为1.6%，及化工、在个百货的安点。”取现阳官。这个公司的完善，经持个\n",
      "Epoch: 20/25... Step: 1740... Loss: 1.2615... Val Loss: 17.3095\n",
      "海康威视恰恰相相这这三趋由于公司的部资金正符合预期。国内铁局中统和福短燃理也希望在城市佣金制时间，以莱只是高端分散，比中国经济也有关注意到，机构调高幅度为最后的。另外，包括广宇发展、凌云股份、金岭齐全、股份、富国邦国等军工涨幅居前。两位和跟水平的，我们需求考虑到公司的优质。有些公司业绩快报，在增长的净利润增速均为“我国”提升，工作变动，未来的需要补充，4月18日，即有西部称，此独立产结室，推进系统全程子变革。经理重点，益于特种纸具备一茅和6只不在在上市公司中待神巨大方面，而公司14.77亿元，增长1.80%。虽然明显进一步是，但目标价到第二，““两台””力。决方案时代表“互联网电概念股成持续走走好，接近办““节节”情”。据时全球评级报，300万亿元左右，较去年也已突破1.3万亿元，影响138.00%，其中已理财业务手续费收入增速分别为16.07和7.680.74%。10.08亿元，增长1.8%，但公司股票A股收入中期。2014年，以及互联网金融概念股在打包括海外工行、和昌达、中心涨1.8%，涨幅居前的银行涨幅逾40%。虽然从2014:00至 100093 ，增长态势持为该略增长，由于、改造下跌，\n",
      "Epoch: 20/25... Step: 1750... Loss: 1.2553... Val Loss: 17.3932\n",
      "五粮液：普遍稳定为新型材股预计机。虽然目前上市公司已经发布了或泡股市融资余额的不良贷款，比20.66%的股份制银行的2019年的净值累计达到269,595元，增幅1083.66%。二季度龙头公司或将通过券商股重、“互联网+”的互联网“互联网、“互联网”智能技提问题题。资源云关溪的广告证券供有127家公司的流入，这意拉动收入学院副主任任务的任务副行长任务跳槽至4。万向，总盘股份大涨涨最波，工生银行创建历年行整体涨。平安银行则为91.65元，股基本上券商股权重利好新评：预期评级。风险提示：我国铁路投资建设进?鹊陀谠て凇?/p>[PAGE@默认页2]证券代销基金装于2015年4-27涨美小空料；网络医院、深化工、《长稳步地方政府内人员推荐。风险提示：解决发资不大，进入股票投资收入方式。作财国南车投资收益表现加速；拨备支出增长基金之前70%以更据中国的建立。专家理财时代的理事业务，集团16 亿元将用原利率 4 0  亿1 元 营业利1 1.51 元、 航空产品(目前)、内彩票(期).71)，公司没有发现高速增长。米了“下行如央行节能日发。新华泰证券表示，业绩还有优化，科技输出充分异享发布了美F集团数的\n",
      "Epoch: 20/25... Step: 1760... Loss: 1.4053... Val Loss: 17.4810\n",
      "苏宁环球第一轮最弱的社保基金数一直接股权投资市场。据中国银行昆山分行是中了一家发行的2010年首季度资产人皖达传统。2月1日召，中国银行客户，目前已公司很半一个穷消息影响，加大信贷资产支持证券，形成利好。今年银行来，净利累及铝业材单现货量(700140)，咨询)、文峰股份(600031，咨询).33亿增长1.64%47.08%4.68亿海信用(000688,81686,19626,02420150403600199天音控股236,898,951996,956,195190,605,9441,000199,919306,63220150403600116中国软件1,778,839,511186,966,236169,997,362649,226,945443,200434,400147,66720150403601998金种新买940,279,333219,836,116108,411,59420,100434,54466,29620150403600736中国软件1,278,197,553366,252,623182,496,392211,400195,249642,63620150403601\n",
      "Epoch: 20/25... Step: 1770... Loss: 1.4124... Val Loss: 17.3971\n",
      "神州高铁刹车片产品化后，公务营业收入47.39亿元，同比下滑14.32%-16.37%30.060%3000005300TF租金等5400990300510万元和成130507.090%，其中，全部社保基金在布局合作的经营业绩，大幅增长拟10派1.88%)，我们预计公司后，将本率很小为可跌看，公司转变化频繁扩更加代积极】桂恒业务，4月上海神省1991亿的经营逐步回落，股市对市场9,398股，比例买入和201.18 70%股份，经营将逐步投资者先发展静待遇加步进展中国银行重要一般。”对于认为信息的产品风险，晋亿(加码光电机集团股份制银行注册制改革方面， 21001 年11-101 年逐季看，也低于公司交易后的股票将于4月7日开市公司财产品业务发生试突，)400亿元的同比增长17.0%至1.27%；同时，游族网络并购掌淘科技后，掌淘科技主要业务及要求加强对电白，并购广琏、钢铁股拉、项目等17家公司经营出现亏损。据游族网络：公司众荟悄力布局拉电公司并购2强公司战略合作拓展能源等电子电子商务支持混改型基础设施投资计划，将其发一方向集团旗下的所基础，如去化及网能源、汽车电子子公司为379.31亿股，平均价\n",
      "Epoch: 20/25... Step: 1780... Loss: 1.3631... Val Loss: 17.0950\n",
      "神州高铁刹车片产业化后，给予存款保险制银行的，存款利率靠提上升，不过区零售的保持稳步。据我国的核心资本人担保指出，“未来不断住中国护投资大责任投资，相当不干社保基金的投资机会。社保基金投资范围，社保投资投资范围，并不此重股首，免励一致：财高管理—投资者可及麻旗的风险地等，高送转债股权重要目标的行业收购和明显O革，受就政策及热落实行业内，2015年一季度业绩大幅低于市场，创业者良率的争夺转债的。价宝，支行行长也是”被小款黄金热需求，建设银行、长江证券、中长期投资、支持全部、投资人的等利用系取，母公司控股，本周开始受益市场。申申宏源研究显示，华夏证券、民生银行、北京银行、华夏银行、南京银行、中国银行、中国人民等，同时我们看好于期，京我I：逢盘中A股上涨，对公司拥有超过半线 网点的排在回落的排费回归，据时代网下的判断，受需求不足，银行综合化经营，总资本充足率稳定，占证券自20009年3月的布局银行和营业收入将增长发展。中国证监会无条件审核通过，净资产达184.6万元/1487.6万万元，同比增长5.09%。与中国北车(之一会上官员还处政政府部助院时养用稳，将于400元的契机银行，未来对应的互联网公司平\n",
      "Epoch: 20/25... Step: 1790... Loss: 1.3157... Val Loss: 17.3333\n",
      "平安银行。招商证券2014年农行不良贷款率可能继续突破“万智联生电科3002629.SZ东方通证券首份证券0.72000.31003.55新天科技海油凯0000011.SZ)国铝股份证券0.10000.12008.50港股市调000878.SZ)中信证券维持-4.70-77中国人寿(601188.SH)883.800.0048.8437.3215数丰富(000517.SZ)7815.0023.0012.1994.8520.5129.38预增00285.1-4.37-4.2135.03预增002175东兴证券86.49-2.06%-3.37亿-1.84%18601885东兴证券46.56-0.32%-2.38亿-4.88%18000780.HK金连港股份1.0222.24601830.SH金船银国144.8800088.HK东北电气14.96019.85600051.SH广深铁路4.3202682.HK在海通证券20.5040.6800885.5620.6830.9038.9635.6230.7148.7639.1814.7877.2220科阳运3(002687.SZ)7720.0059.3035\n",
      "Epoch: 20/25... Step: 1800... Loss: 1.4119... Val Loss: 17.4511\n",
      "五粮液3000亿元央行大举措打通资产证券化最后一公里资产证券化大扩容时代开启 6只银行股迎来上涨契机银行资产证券化放开 金融有戏券商迎利好信贷资产证券化注册制落地今年有望发行8000亿元央行大举措打通资产证券推进产量优化，新规模(62352)亿元，目前价值大幅下为，今年以来涨逾1%。与中国证监会开展战略合作信用安等证券公司是中国有建立高体发行每年通过为15 亿元。经营计划，其全部煤电子投资基金的主业收入，同时债券型、规模和行业8.7亿元总额达282.7亿美元，仅有8亿元。2015年4月31日2014年实现归集中，国际地方政府部近3年媒体的批准与行为，开发了用户提供推动检查结构；社会保管与新股的消息相当，近三心调动更加的地产，是具有较好、多家公司。公司拟以及各种子公司业绩增长的原因，其中股票行业绩已是统计226家面前续盈渐化中消到来自酒店商的利好，根据超出现了存款结构上升：最后形式导向对昌的包括新宁民生相关表示，知道，嘉对一品的是民生银行不断上市，消息产放量到浙报，减少00年通过对公司的车营收管同业务主要披露的22只花顺利信息测，1015年发展量重大额益。重点不好不过，股东户数。2014年12月\n"
     ]
    },
    {
     "name": "stdout",
     "output_type": "stream",
     "text": [
      "Epoch: 21/25... Step: 1810... Loss: 1.3697... Val Loss: 17.6502\n",
      "神州高铁外持重要保持高度成为中，建立银行全面临才会被点压，回越了视别促进产消消费平台的基点，但在程不少开展以上，大产品的，接销售广电信线，主要在新业务互联网大背景下，“楚天证转”。该味资产证券的面让一公政受可圈一段一，泽煦同镍消增长持证券交易一方的股价涨幅也逾4%。早盘，银行板签订再务，交微运行。拥有庞大的，如果不能在线上一职情，权重视的“佣荐”。从锦龙全国人消除推出世数的不同程，而不能层差的企业。但中，公司已初在染料法层将于广电区域从三网融合规范，市场发展管机银行和学法的是这使口，我们认为，这样的嘛嘛？随随2014 营业收入增长的公司提高收益率仍有较明提，公司营能顺利盈利盈。预期评级，增长都核心后，新都不可遏透，系统评级研究机制：相对应动车误结合同，对联品种的广电企业互联网企业的互联网公司的流动性，每次生成为7.39万股。户指数月，这一个同花有的20家公司业务计划2014年业绩大幅低于市场预期品种，龙头企业嘉和一品是因为营销薪，创业板的再度上降。照目前评家，意虑的广州大行，创业板的贵人托鸟，这涨笔发者麻麻和配火评级，也在可本在质夸中国旅游饭责减们的都要是不能一个需要由层面的净利润产能过去“双微\n",
      "Epoch: 21/25... Step: 1820... Loss: 1.3731... Val Loss: 17.4355\n",
      "五粮液：普遍稳健民生所系加运营及第一，经销私费用率增量、平均大幅增长，但后单一季度基绩大幅下滑。大市场放开，金融领域详细信4如下发民交易量、博屡传媒(600237.SH)海通证券买入11.5017.67156.89%14东方航空(600018.SH)中金融买买入-28.9--4史新进(600899.SH)中信建投买入-26.99-4.39%19.93%37.4312.78%40上汽集团(600004.SH)民生证券买入-16.13-37长江传媒(600510.SH)国北君安维持49.004-4.6314.88000887.银K兖州煤业14.9900885.HK昆明机床2.84215.59001778上市电子20150.0210883.HK上海北化中高64.900亿43.520028.80128.8114.88预增300058万邦达62317年43.7630111.505447.0894.77400228上海电气625599.071.74新增4295.919.2747.7588.00834.053000239猛狮科技816.65.29145.59013577.71-48.1887.1700028\n",
      "Epoch: 21/25... Step: 1830... Loss: 1.1812... Val Loss: 17.4566\n",
      "五粮液：普报稳/为新政首份，最近几年国金入1家公司将于4月7日复牌。根据方案，公司此次较快，对于传统的压力难限公司也已之前十大流通股东向流动性、包括新华中金融、工作以及广州省窖区费用由此举中仑涨；4.47%，涨幅居首；银行控股不则上升较为平台的资产，例行为例，在国内部等大病决定性的现？OTA (去于冲博普普遍低出的题杀准备了待估值： 。日在AB上市，第中一季度业绩改增突破上升万邦达，这一些月度利好复牌的股价，另一方面出资，由此求受到一定方向是公司首都要理智能提升，地区营收要环保基金。“去年四季度社保基金和2015年15月26日，薛界在国家圈大智能电网络各各趁会利言，而工作人员仍以稳增长，我们认为该行情况的业绩快现。（大众证券报） [PAGE@默认页3]嘉和一品10年四季度收益，上述13.75%，17家公司的业绩预增幅度也超过10.3%。而东山股份(300105)2.15%，远高于QDII基金。债分享受到了3年期的需没有望也这一时点。2014年前十薛强还以煤产业务经营性公司已经全面稳定增长。完成后，上市公司也不再度有限于或者。市场，这茅余约为909万亿元素比之前，我国仍有15%左右，我国认为改革\n",
      "Epoch: 21/25... Step: 1840... Loss: 1.1888... Val Loss: 17.5276\n",
      "东阿阿胶云、保媒 航、天酒股份等。品文浩股份及法律法：证监会于4月3日召开的新闻发布会上通员了对接经济的增长，也不有1.67%的股东。通过期建设银行业模式，新兴产业的值得投资于战略合作伙关章业战略合合伙伴关系注司发布电网、济发展、远期传媒、通知对经与风险的投资澳可以降低。不房地产生产、销售战略合作伙伴也是一个大的趋势。”张小强表示，目前广电行业为应对深股市的部分区域交易的主力资源、皖能高新、富国元、华控股、5万股份、梅安森、东方国电、天津基地、建信股份、建材股份、东方通、、卫宁石、、宁信、招商证券、宝众平安、过银行涨停牌优化，高铁信贷风理、财违业务惯场。其余的互联网公司也有三网络合作部的是疏大众多有望打开展两知。以上证券投资者所应该行列，也是一个大的投资重要有41家公司预告。其中，银行业在全部交银排名第一轮轮动理试试点阅(000788，SZ)信号资买买入-22004462荣盛钢业147.822014.500091.71 证券16.62000.00新增长282.79-082.882009.752017年4季报预增 2017年底的股东省成股份数比增5647.27亿元。其中，证券分在ABT+14B大的\n",
      "Epoch: 21/25... Step: 1850... Loss: 1.3106... Val Loss: 17.8584\n",
      "金螳螂1401万年的收入，比如客户在这一确定性公司在即发实施将重波动力。招商证券：2014年年报公告预告2111年创季度一净流入股净比较4.458.7880.62预增60145.SH中国远洋买入-2.09-69海康科(002031.SZ)10101.004.554.48%35新华股份(300195.SZ)中金公司买入-23.73-45长江汽车(600010.SH)1880.02-55.05%25.65%数据来源：东方财富Choicel数据和新型制性，展该产品链，推进产品类似产品的行业，有望在定期利好。发行股份有限于行业收入预测，净占比较大的增值0.44%。此次，新进中国社保基金的有关事项已经透支出的5000元。薪\n",
      " 无总，而不在存款的钱关注册制等，此次交通过“互联网+”的“建”实现营业收入14.31亿元，同比下滑25.05%，拟每101,082,821元80.58，万股受益800万股，为主要产品股票型破产品，为4.64%的净利润为2.05%，同比提升6.36%，维持“荐用风险”提速是“华宝+20.5%至2.12%，比如今年表现水平(40%)、前概念股有2治西北，特别实现EPS3.631.16%\n",
      "Epoch: 21/25... Step: 1860... Loss: 1.3300... Val Loss: 17.6601\n",
      "苏宁环球大宗商材期，中在A股市不排在发行趋势之能，但当该股变化的生产者，根据计算规划在互联网公司创新思源(继续实树个月利好清楚题。”\n",
      " 我们面认”大力主题，以煦信投资风格于4月3日，收盘，因此此次交易对主板的有更是这意风险的价值增长，是概率出现垫催化不同，有全国的改善有望就增加快败对对化工作用户和积极性挖用。不仅过去年互联网+金融平台战略为领域的战略为具有核心竞争力的。兴业银行所以上涨行业链延接近全国医院改革之一确定。未来3年的清收空将和极学面。 司自在线角来自在行业之后是之么，也是此次最新的旗给，嘉和世纪9000亿的左右，审批额度存在向大幅发入，但从上A公司副总裁、监会主主主题，国务院批员工带将跳槽到2015 年行业绩提出到2015 年就已突出了。但因股上市公司发展的新金融业务有对技。未来达到：战略为审核下带来多墨的主要性-4%后续计划2014年实现净利润约29.48亿元，同比增长6.2%。非药品业务有不能加强分析。上市公司现货有股东户。从去年底上一限公司注册制改革要领先后，台的公司时间还在起到破。 各家自连续的获取概念股有例很多领行。\n",
      " 公司引擎底投资运用，我们调研究致入：农集网公之向全体\n",
      "Epoch: 21/25... Step: 1870... Loss: 1.3177... Val Loss: 17.6713\n",
      "平安银行，业绩是目前政策酒店行订餐餐饮点超为放的线缆用户和芝麻线机育的行长泛薪酬最大的服务大数据显示，截至2014年年末1014 年三板主席这个发生的20.93%，较去年四季度实现环比增长34.30%。西安饮食去年7月公布的O2A 创业板2095年一季度，公司实现净利润399.72亿元(同比下降4.84%。日算机上，403家公司筹码集中度提高。一时，那时另外一一体系和利用越粮越来了成比中国银行申万一级的股东刘运行，并组后的公司也是“按照我们一还在于各项情手续费用率15-5E才会版一字于络，汽车将3月6日上市公司高管股票投资策略为。另行方式然备股东户数锐减的前景，创下，其实持股的增长发行的集团是火按的投资需要谨、医疗、国能安、招商银行、兴业银行、中国客户等多家高服站，在产业基金，此前的已对下一的业务的员工持股，这是近三年的最高值；平安银行50.56%到中国证券30.48%；神州信息的逾10%，是“三令”。广东方财富邦天天鸽天长集中刹PP了超出，越S存款获充卖出现，对价零售业务有常政下，批通员运营业务忧的公司评级紧户：美铁股，投资，但不符合直到来)的酒店和路径业相关，多在公司前五存的新产，下滑，实现\n",
      "Epoch: 21/25... Step: 1880... Loss: 1.2203... Val Loss: 17.6379\n",
      "海康威视恰恰相反，这是由于公司独立说的中祥A股的择名。公司将有定马利润分享政府运通过订单的排名性，对我们形职调整期板块的长。主要集中在上半年，Q4 实现收入增长。分析：公司2015年3月31日披露年报。2014年)公布表示，公司与中信用学分动子公司业绩对于市场增速分别保险增速将可能相差不良贷款，但是在手上，大家上涨的3.72%上升到，2014年全部的银行上市公司发行过去的业绩相比，甚已有超过了基反建设银行业股东户数变化。这达290.34亿元；300省六间公司，按照超期和例)，包括主体贷款仍在存贷款跑线上涨，“全部达逢社保在增持上市已经发展。”的正海药业、深圳公司、厦门软件、信银行业、全国电商、互联网电子、医药医药、兴业银行、平安银行、浦发银行、中国平安、卫外服务的数据优势，不超预计2014年底投资运营，中心已经有多家公司筹码龙的净值增长率。中行的业绩是看到，在这是也让全球最终的都可能开了停牌股票、6月6个定位，涉及的互联网公司已经纷纷打包好泛囊，完成同时，将百视通这采整最二二、产品的直、工作、深线下育、“实翔”、添富会的发展以来银行的加快，推广银行间习惯商行象。据统计，央政策将人定型向相对不可能\n",
      "Epoch: 21/25... Step: 1890... Loss: 1.3367... Val Loss: 17.5022\n",
      "苏宁环球第一席法文革之后，将推动印发。远程医疗不仅能电在线上的有效应开，但“与新浪网+广电公司去年开始金融种带动信贷资产支持证券发行实行业绩表示银华中姿科民生银行2014年实现盈利15.61亿元，净利润1.66亿元，同比增长 2.84%。农业银行截至2014年年报的31家上市公司中，有162只，分红股都今年发展趋势开始在研牌中端银行特殊P2亿与同比，业绩比是不同比上升，14bps。我们的息差变动因素是有望资本质责人的是全部，这槽着他国路和地默政府。中国证券报告及“农监管召开的国际系统通过信息化或者是结构。安豆万人民生银行行业内制度平枢上升。总本面包括本率香通系融资本质量真金的这种业务。这就公司正面培先“去啊”的交际，上汽集团每年净利润增长1.17%至1.31亿元；同期大额20.78亿港元。比去年增长约15%。二季度公司盈利增速均超过5%。2014年，李克强总理曾表示，铁路投资要保持在位定增长。分先发展中研发布 分解物流，公司披露业务，统计主营业收入为458.17亿元，同比下降15.56%，其中信银行(6.96%)、鲁良 (100212)、运输农业(300767)研报喜(3,202).SZ)中信证\n",
      "Epoch: 22/25... Step: 1900... Loss: 1.3100... Val Loss: 17.7465\n",
      "格力强：我国认为1.58亿元；广发银行网络金融市场份额为2815 年底相比较大，值得风险的表现未来有不大的消息面对原央行节能够提供有效增值服务，帮助酒店健康成长。”有一直解研究员力：深圳公该交易各种区的广电能力也不到防但，但《每日经济新闻》记者查阅年报发现，中、农、、网安、、皖翔高新、渝高速度江路和建设及运营，随着公司的茅台销售具投技下主角的顾问咨询稳，为北盛和核销不良贷款率追动上升可面，但其中包括贷款和债券投资收益率双高达之一，这是与新华独的实现，“待后台”的薪扬。薪资金中国银行信贷资产证券化已走出向返；个季银行业首次覆盖的给予业绩是“高曲传统。”而握，电吸收力设备不足清招商务方式，进入国元和环保人关。我希望未来仍有资金、产品等花、方面收入和广大牵手支付。我们最终好我们认为，这也没有了也暴与中践员工持股，和不能力度。不过，信贷资产证券化业务。由于政策我政府回款共计，社保基金与股市激健康改革的情况或有重要增加，由于我们的吸一方向是我限认可对4月的日复制。公司2014年实现全南京东省理综广发改终：公司的业绩报预期与上市公司品类股票维持增长，主要集中在前半年的QD贷款本持平，我们认为上述的利息，\n",
      "Epoch: 22/25... Step: 1910... Loss: 1.2233... Val Loss: 17.8668\n",
      "金螳螂10099年实现收入1.08亿，农行发展8900877上市公司2015年4月31日1031589158008866鼎黄属6800705方精富瑞3658.91-4.37新增813.981.9937.47300265东华软件23499.983.78新增10555.8165.3217.88预增000088乐视音515899.444.34475.1110757.1115.759.08预增00230卫宁软件结31337.841.84新增1.79231.816.5417.993440.71310403乐茂预651741.9912.63199.9931149.189.7517.99预增00255万誉品业121,055,459195,919,92820,00042,404002078光大传媒353,818,485580,962,92526,42815,300300838广汽集团215,094,3182,206,418,964,8461,749,7033,400002187太农股201,367,6021,500,281,20040,10042,600300026中海集运182,955,2455805.98\n",
      "Epoch: 22/25... Step: 1920... Loss: 1.1222... Val Loss: 17.9431\n",
      "格力上市公司的现金分红方案已经实施完毕毕业及以及后续短期中误就是作为顶倒的事善，工作任高性池钕铁行信息化，加固的贡酒业务的试点，负责集中期一级分在全资金融种规模可能稍显不足。招商证券预测，2014年处置后，资产质量将压制银行好转，未有效应提升：收入端行业仍占进入股市态态融极的平稳性，我们认为，国内最大的农发挥中交银行了很多，提升。在国内证监会对场减少的投资者定之前。39日延续到全国投入自然前第了参与沪股计划“催发了”。中国“惨烈”的是，2015家国旅行业仍在小被一致购重组后，即上市银行将以制银行资产负债、更高达成宋公司筹码集中如赢铁路投资的2015年一季度的16家上市公司2014年年报披露进入第一；五是国金融领域，这其中100家公司的大被据分受到资产的风险，而使之后回归属于信知的国际他已公调受益了一松动”。另外，包括支付债、华转债等股权票债务置损。保持“一人因素为绑一级利润，给予公司“买入”评级。投资空点：2014年延续较好筹码集资产品链，投资者注册制落地，一定市证刻的一级也没有货币这一之点，但估约以累累计涨幅度最低，以上市公司几年化，整合理财产品业务收入超过3亿元。公司拟以建投资收益的配套\n",
      "Epoch: 22/25... Step: 1930... Loss: 1.1156... Val Loss: 17.9605\n",
      "神州高铁刹车片产业化后，公司未来将会逐步提升了价计算机C荟对募集配套资金中配不服务为金融产业链弱雏变了公司的外券商。2015年2月21日，掌淘科技股东全部权益的总价对4568.59万元。这意味着中国巨大贷款收益每10.92亿元，增长18.77%。公司表示今年集团的综合化经营子公司资产总额达1895.47亿元，基金合额7.22亿元，定比较大亿券额于5987.25亿元，收购买入21.82万元。股东刘京京、华意味电视南解风矗利好于指业经交易、机械和程保险 、众生产业对协同效应。从产品脱向股东发展看移动开展调用户流立性等线，确步实.6x众荟将空港，万丰投资收益率为82.12%。14年净利润达到16090.1600099.SH东方航空海金龙10.61000338.88万股，1200万股股权。中国股市并不是因美国两市市场并获取较新增。2828改取得了价格括算规章》(付批比例例)和交32016年5月份，国下调查“西部”互联网思维出，国贸易办开展新业。2017年3月，通过过去称的经转变性。福依旧是向区股医信、网络科技、日时代开始理财产品，销售服务。目前政策面以接激热投者回落。《公司表缩年利润分配与中国证券第一轮\n",
      "Epoch: 22/25... Step: 1940... Loss: 1.2152... Val Loss: 18.1656\n",
      "神州高铁刹车之下，着2.16年分别为8.61%、6.86%).4%，其中银华平台银行业有望玉到照16.4%，年同公司的银行股为占比上,20070,100，融券买入226,04股，融券买备1168.08点，涨幅.98%。由于非息收益指出麦世恩：意，股包程贵州大战略合已是伴关系通公司作的最后目前，国内股票、“淘间”的位数”建设工行长，就不是，平安银行、招商银行、民生银行行和一致李克学相标的台市，使该全年市公司进入快速增长，2015年公司净利入5.15亿元，同比增长2.0%，基于投资收益率到3.64%；个部。都在于解前11家上市，比2013年的总部分平平台。以该行去年已实现传媒集团产生产化的代含。 兴通银行持平台的同比增加2.15个百分点，重组利基本在至1000亿元，对当前的影响，我们估值的公司在互联网思公司更换优势，有的视别产品3.53亿元，同比增长23.6%；归属于上市公司股东的净利润为1.66亿元，同比下降1.1%；实现EPS0.09,14.82元。其中表示，在国家高市中又有一公司业绩产链，下实现净利润1.75亿元，同比增长.90%低于2014年其他公司实现营收96.82亿，同比增长1.0%；实\n",
      "Epoch: 22/25... Step: 1950... Loss: 1.2694... Val Loss: 18.0901\n",
      "五粮液：我们预测，我们预计公司后乐观看产业生成1730万吨，新一同时增也要能翻倍空间。，中，目前已公司实行的上升9家理财产类的数据做利：做放之后，按照数对公司债监会发票面间为号去期先款中期的见A6H上的银行，从最那将给出示不利用率足：处于行业，IT银行归属总母主要讲话，分析认为，一地多户的问题。\n",
      " 银监管措施的相关规定，并带一家超预计公司主力集中在产品结构。面目前较数据显熙，截至4月2日，该网两些营业部分跨境人民币对业部流。\n",
      " 等实业领只，重视为浦发银行的苏宁银行涨幅分键的是，有银行、长分行业龙头有望以稳提供高端，甚至不过习酒店业务的平台。目前，公司已在实现完营营销渠技营况确提高苏，价值已将全线“互联网+”行提速发展。近日，上市银行的子公司业绩却是“节节攀升”。以产品具为翻具的数据，嘉和一品的公司在产业品种巨头有望通过。公司业绩增长将实现净利润358万元至1130万元，较去年增长70%至90%；据测算，公司预计实现净利润为76.44%，证券交易年末互动的时代信息披露大行业做的实时，获得超过亿元。39家公司发行一季度实现理重。预案的投资者可以截至预告，“15年”四季度实现净利润390万元至338\n"
     ]
    },
    {
     "name": "stdout",
     "output_type": "stream",
     "text": [
      "Epoch: 22/25... Step: 1960... Loss: 1.2759... Val Loss: 17.7839\n",
      "五粮液：我国信息贷资产直九并将整达、银行业、经营带来的冲击回长，长。公司提高董事长竞酒任巨大的互联网金融方面展开限公司，正是在划后，短期内上市公司经纪业务紧现金中红中，浦发银行的增长由化和核销售提资良率成长。据相较去年三季度末大商业银行业绩提高的发挥中银神和信贷资产，券化是“盘异存量”大方。上的重要一是核销处置力度。”会放缓主要费用省省民航空机。经销商件，成长该公布的互联网公司，其中海信贷业务7朱97日实现发行业务，超过10万亿民类和2个医疗完全年开展划后，保持在认为，二级以约的价值不断。创业者时经初到历的证券指报，所以经营业担忧，中银银行业构成为“火爆”的重矛，有望品种提供薪水平，媒体铝业将升、西部、贵中销售、德力和中金等市场。在国内通常正增长都概念股的实现施等。四大家公司股东中有00099.SZ鞍钢股份及海证券0.3400.580081.30 通信60.590.3260.01新增1129.59%3.37399.33建数据破99.5239.37万乳业(00051.SZ)兴业证券维持-31.78-4.70%88600点宝股一一定近日，来半歌所有线上的检测打高，螺囊中纪民航银行的高档收入，也是我\n",
      "Epoch: 22/25... Step: 1970... Loss: 1.1574... Val Loss: 17.8095\n",
      "神州高铁外投资的比例都得高于50%，存款金额下降，“长期社保基金在线上A股上市，嘉实施的收款基?卖身份，最终的集团旗下的副行长也统为了例为监管最终诉记时。\n",
      " 庄纤消息，包括国家稳固定收益的各银行品。在存去利好上市银行的已经发行了。石化基数的增长，不断看蕴的上市，全常是来先要要短期！！活期：全年存购收比，不过于5月对互联网+金融的这是谈会有正的上市公司的2015年一季度公司实现净利润691.05万元至1180.11亿元，YoY4332.29%3763855东方航空6.693-132.26中1098.824鞍钢钢预支00077.SZ众量科技海通证券0.34000.130089.73 乳制品000511.SZ海螺水象20.5002186.HK深圳能源海基地股份1.82630.716潞安环能16.16%1.18%数据预计资金。截至2014年1-4月上，在国家公开发行人员，其中信创业有2.56业绩符合预期，其中148家公司报喜预增长，净利润已有14671家上市公司净利润14300万元至930万吨，同比下滑1800737(V277家)预计公告，公司于2月37日，中国上市公司之中，证监会已经为ABST市场行跌\n",
      "Epoch: 22/25... Step: 1980... Loss: 1.2618... Val Loss: 17.9533\n",
      "苏宁环球是(降有157)预计一季度净利润增幅超过亿元。公司表示，业绩增加主要推动系列价值；社保瑞金融资活动。四大针对央行上一公告称，指出，BC国务发行的职业景4 年泄 来看，4月1日益算机务45 A股东户数大量、6众多数据展开了国家通改革多务概念股的例措施都民生活力。”的《每日经济新闻》记者查阅年报发现，中、农、工作、交五一般吸间同，增幅13.6%的净利润增幅分别为-10.11%和1.82%。核心品牌银行业(4.924%)1114.51%。中药业绩增长公司同比增长1617.17%，成本集团663 亿11家将丰富技军创业办众合合券的20亿指新能物产坡A下业好“今日来发行涨幅领布，个人民银行业向管发布局；托型方面在行政，有些大中国反垄断局的李垄垄局局佣金的现有权重，公司共同O841.17亿元收购嘉和一品 复合华北京北特意序扩证业务员、中国北京等住后，公司与中国软件能够成为国内国有重新反垄断局法制的《机械4月1职业所年报的上市公司将给股市场现货量进持续看好，不少开展)等先布局件的《中长发展的头报，公务主要职务。2014年昆明行集中间、15 大行的则有望创新高但发展前趋势，并开始贡商协会。虽从子公司20\n",
      "Epoch: 23/25... Step: 1990... Loss: 1.2302... Val Loss: 17.9499\n",
      "神州高铁外，重津基地领域重大资产重组预案，“高高增持股票发行业或增加快新三季报亏损，商业银行一涨幅最高的同比增长。这其中最后13家上市公司已经发布尽管资产规检查结果，对续家发起公告人向向高的发展靓间，576家上市公司实现营业收入2.98亿，同比增长000%，其中投资产品的是“以波银行不免笔者点可压力，一方面围：“大量资产重组上停，预计一季度形成融资买入的重点牛市，这几类股，将有2于14年11月终止。随着A股的预告中，继续保持稳定之后，继续没有券商分之前十大流通股前向是大量的股票减少公司。华股基本社保基金网点直接投资同时，公司将以酒店业务价值增长，任何公司将大幅缩水。根据国脉选资源，“方网G合”上市公司进行资产证券最大的农资资本平平台极严重按“估值基准”“农行网平台 完成无豫银行手，银行存款保险、不会已经完成提原原因，而特变会对抓企业务有职会公司提高2014年净利润同比高达39.64%，符合预期。其中148家上市公司进一步预订的预计25亿，同业增值69.82%，其余均为股票率类业务“从渠道情况看，业绩提出了“无碳服、打通一方面囊备一松刻的，业生互联网、互联网、三网融合”、信息结构、资产管理方面，却\n",
      "Epoch: 23/25... Step: 2000... Loss: 1.1800... Val Loss: 18.3110\n",
      "格力度，我们预计2015年农产将实现产业较上一年度实现突破301386.78万吨，同比下滑13000-12-17年的BPVC88.SK创业板司新司发股股票均持股红数再达22股份。上报指报报33739.4937.7943.9534.31预增300240顺利好城5353.444.78新增43195.55-37.8848.75预增000085钢联股份623,000.051.83844.08661885.884.30预增8000005万丰林船95384.02.21.2453.505658.854.37608.78002655东源协件10153.893.21新增3664.52-6.7941.77002086东华软件33450.993.35新增4395.52123.8716.48预增60651豫园商城68350一家不控口口。政策策令令登改逐在国内销基的公司frel的te天意思坦伟&法近一日深度为消2014年工商银行2015 年初，建议配臵金卡股份号化工资(34亿元).银行降50.72%，对应P/160PE/2015年第一季度实现面盈利1000.77万元至1200.7 万吨：9东北利润68008858.S\n",
      "Epoch: 23/25... Step: 2010... Loss: 1.0674... Val Loss: 17.8872\n",
      "神州高铁刹车片产业化后，公司出现场对公司的综合航经技术研发与力，剔金正应、在固定发模式，那一个完成重点目管”。近日，众出直总的全国社保基金在禁售期满后，门分散在货币政策面”。另行在受托的限品，提议薪酬，会对铧迅为收入的形势可性，拥体应该是国务院薪水平台，税意政府逐步融关。已在300亿年的互联网金融概念板，公司综合胶产板公司业绩增长稳要实现渠道利润的压力上，大小银行业务存款各大控制了服务提高。据此算，业绩增长4亿元以投资者可以关注。3358.7亿元，我们保障交行后续来看，也将会除了解携程在内过营业者创思者之前以资产证券化大程。“六间房是两立互联网思三。这其该行也在2014年的净利润贡献增速增长。公司业务报告期内，实现受托理财及互化，业务经言，公司今年一季度以现位，增长，不良率提升了升似，因把公司表现收入稳增长，负要集中。上市公司的业务将逐步从1职的特点与去年实现相比，后上市公司的国内紧密是美国。此前，我们认为信贷资产证券化放缓、券商融券偿融资参与本轮麾合作持证券响较去年仍存资产大的增持。其中，互联网客户、融资客服、违规模可能再次显示，目前标的收盘价的可能性较大涨。10%之前预期的有关规模接近100\n",
      "Epoch: 23/25... Step: 2020... Loss: 1.0515... Val Loss: 17.9789\n",
      "五粮液：普五稳价为合合作用内机构相少并不距系列酒大。根据公司，当年在A股股市的中数互联网金融以及医药生物、零售售品牌和三色成交双双战略合作奠定了基石面外，闭收116243.99万元。招商银行：收入利润增长269.90%。新增股，投资建议：100207601110港通股现000092.SZ)民生证券买入-16.11-35海信科(500900.22800.0000080000后T安环以及一韩大手段。通过去年证券的银行中长期走势。去年，这数大的直接投资A股市值的子引业路运改之前，我国认为这一大政策表示，“养命钱”与一司截至至备业内制改革时示，此意安全、四次推进新基金的经纪委员工等。此外，公司接的网络科技有利立强烈的资本，是某同期时内，央企业单位均地位受人难资影响，公司在代业业务入简单中国钢前1.38亿元收于拥有大数量、但前)、个人认为1.61倍。扣非后就业每股文挥中习一庭了影响，玲年初，今年一季度的净息称，影响收入，其中15 年来收入的盈利6力，随着上升银行的闲钱可在伟波。\n",
      " 不同程度，不会在国内大数据方案集团的掌淘科技技术通东全通权于月开展合全国电刹片检测台、能力份、汽车等行、深圳子。华夏幸福、特\n",
      "Epoch: 23/25... Step: 2030... Loss: 1.1470... Val Loss: 18.3017\n",
      "海康威视联网有延平台势，应该股券产品的构建申万宏比17.0%17.78%112.11%，EPS0.23、元，代码名称最新股价跌格，上的数值已经稍这些大每股上都可转债的股价，可以让元对公司债型基金可持有的可比同比。这三点有多家公司总额有不良率分别为1.61%和17.8%，其次投资收益的不断提出，“由于将进一步扩大线游戏商务的业务营应网站，未来会上市的展开始布局O3O 大战略周通过连新进战略合作实施。南方正合进行合并非通过信贷资产证券化，银行有各家银行的比例有所异常。此外，同时说裕一直整的二次市场现断更重要显更促基金，分红包括社保基金持股的投资价格，不仅在美国副行长的任价处于确负政善的管理能就，也有获取内容买入方式。港股市场将处于2015年12月3日，经商，银行不是层对第三。资金的“1”是不双银行”业务部飘。\n",
      " 不得纤14.0025.001.54亿证券(600585)公告重大资产重组预案，拟以非公开发行股份的是价格944.10元/股的价格非公开发行股份的方式收购完成后，销售符合管理。西山煤电称，因P于集团收入达到1.0亿的年同比增长14.8%；深加工产品收入4.66亿元，平安银行1.68%。平安银行\n",
      "Epoch: 23/25... Step: 2040... Loss: 1.1526... Val Loss: 18.1919\n",
      "神州高铁刹车片之下，证监会有16家公司股票将自2人15 年月份到后公告，另外，公司收到嘉钱一品余主导向增长超过10一路一地报告，获得超过1名名其中信多学面脉辆等114年全面累计基于可以为3965:工，以外其中有16家的市场健康发现金发行任的股份，也是不能有。不消上市，使之中国有民甚相关实现净利润277万元至1300万元，据求数推本了技术术开调多整合调掘结关业中国移动互联网战略合程有利信；第福，动力、培训会直销销售收入增长主要步游在产品链供模式求关游戏产品的推广能力，节省营销费用。之以所有达到 2011 年可以持续看好，但公司是无限薪准的国内大部总经理性投资，拉动证监会已经完成注册制改革方案的初稿，征求各方意见后于2014年11月底上报至国务院。2015年政府工作报告》、银监会核心”，银行股份及运盛大坏认为，这三公司或在总前正面今。麦世恩看来的如果说，这是因就在支持过笑的基金。而前之三面一邦的一体的互联网公司，这些一面或受到佣金的放取可以及元。经销商公模的能力。抓小商业企业数管达产布的不良生产较受益。未来公司整体业绩增长，可就有一定下预期投资提乏能力性优势，按Q4 实行投资收益收入相比，较2年存在\n",
      "Epoch: 23/25... Step: 2050... Loss: 1.2143... Val Loss: 17.8689\n",
      "格力上涨5.85%，成为公司业绩保持稳步增长的主要动力，在内营销味提升空间。风险控制尚未完成之后，将加上市场化速度有所提升，我们估计未来着互联网互领 ，来妃京解决，环保设备、制商业银行的涨幅最纷纷纷纷涨麟平台，涨幅逾40%。\n",
      " 才上腐也因为：国联铁行业互联网金融平台。决定，领域先恐后台的销售大量将为方一峰；拉、地铁、电子、电子、生物工作、计算资产的是真实行的业务，包括银行和业绩、在原料及佣金环比例(低于我们做心这一；4.6万元–2013年5.05万亿元。同比增长19.00%。浦发银行去年四季度社保增持和新进的增持分别和富品径和技术铝核销核心归心皖航民特世行行放包四是(米宁三络和副总裁、汽车电、装备备案和制田机构的非城投息，工商银行行长朱会满日，机近银行也是客户经结构调整和销量模式改革。随着航空维修技术雄厚，深度《每日经济新闻》股派发，实现利润555万元(逆逆购万提(601585)，中E公司为158.55万元。在此前面价。证监管和体育产业改革进度所场。经销商视民商银行去年12月份消到全国医药招行正式增长公司。这一些公司与11家公司类似业务职场。从历史角看，周牌化加工游推进中最高管可能电视院改性\n",
      "Epoch: 23/25... Step: 2060... Loss: 1.1318... Val Loss: 17.9550\n",
      "金螳螂14097年净收入64亿元，比去年初增加大行。但受会于4月7先发布局动银行业集中度提高了发行效率，从而大幅高长的薪键差距。对于近期湖民5000多VVIS1)，机构后(002634)(3月3日披露年报)和水晶光电 (000272)3月3日日披C日本公告，已出现于ABTMT中证B和众荟所希腊的《元办公》是，由于受自13年下降，超过百通马民投资方面出着公告称，中国银行昆山分行将中信银行的模式存款，比较突出，是过各种工程日下，行加董事节收凌商出利润的多方。下调“通着证期”的短期投资还有着到了存企，债券投资收益率明显明显。据时算，此现金，易对打造影响，零售主营业务，虽然子公司对综合化经营的可转性和社保基金持股换制度股份的时间，会磨。社保基金副经担任社保保险资金总经与20只是股赚么，也不是央行发展的客户服务，而大的战略运程和私人银行相比，他的利润地木政策及“节实康美的集团”抓住住数数基金以。这已成为最早的方面，他们不需很考虑外，但注入制改革注意到，南证监会无条件通老唏获得公开投资，有所会来，我们认为公司坚持中多互联网+投入的先后，部门在靠进内经营范围店流动性提高。【是近三闻】流通之后，将达到899.\n",
      "Epoch: 23/25... Step: 2070... Loss: 1.2097... Val Loss: 17.9573\n",
      "苏宁环球操作断，而497所在重组不会上市盈的预计二集批量，随着这一季度新进成增持火度。作为国家有券商银行业析，则点较多家发展移动医疗服务各程类不确产生物。盈利尘的放缓或低于市场预期，“挫成后”的短期内容生产能继续受到“政府部门公开员身存利”。同时，将坚坚持“据卖”等央行众生成为9.54亿元，增速13.3%%1384.17亿元，其中，406家核销售布公告，分政府黄的案例或者是在300%以上的行业。从事整体上市公司来看，纪业务报也是总政数数社保持有限制度的消息。上市公司送2.51%)今年来月净利润增长15.85% 增速税专用发票费用率紧在其中中小前的浦发银行和线下发行的机构不仅在5年中，嘉和一品酿造业务平台，目前为36家业绩预计幅度为16业50.00%至中，2064.37%至1.42%。13年末不良率上升1.41%，较年初上升20bp.4季度不良净形成率上升313.11%11.80%14中工国际金正正常向“这条审议。公司2015年4月3日光伏新并发展鼎公路、科技有所审批主要员向增长，并归安全国际并上一家公司同业绩增长主要集团在华软软件、东海信、 、腾球汉汉钟信贷资产证券化实现受理财产压力日大概吸开源\n",
      "Epoch: 24/25... Step: 2080... Loss: 1.1834... Val Loss: 17.9077\n",
      "神州高铁外持块的客户，美说，值为无线的回购，鹭浪网上的平台费者公司全年订收入和互联网大幅下降，但并说存款成本上升较多，但整合势处于折价状态。二是，核心彩票的娱量上刷3个光大类贡献较同比，增10.90%，归属母公司净利润为1.31亿元。同比下滑，推出新低迷、产业结构、综合经营、应子公司，以及租金属、上市公司进一步总量将同期2520亿股基于2015年4月7日开市起复牌。[PAGE@默认页4]光大证券(601798)周一晚间公告称，针对证监会对一级市场改革影响，我们形成提升A股价冲击4.10%，其中资金理财业务手续费收入占比较中提供达到18.74亿元，具体较高水平仍预告2014年农末不良贷款率为1.4%，较列兴产业平均均值成风贷款余额不良贷款。“不同包括活期存款1、券商存在、销售吸况活期，获幅开放的个股市场，总息差为2.70%，股份数量为64,090,661元，融合卖出量3,170,823,673元，融券卖出量1,951,425元。融资人券融资业务的总规模融资融券商册资产证券化对利复区备估值和直接股的投资者利好。首先，注皇一是一个市场即有激励，茏原难就是在对染料的采取效短期市，例缴幅度逾90%，序号是\n",
      "Epoch: 24/25... Step: 2090... Loss: 1.1254... Val Loss: 18.6800\n",
      "海康威视恰恰相反，这是由于公司在解决方案的基础上建(000236)大盘股份(300498)、北京城(600085)和国院水务(600119)等内均居股消费品机登预居首附“王子茅台”一扶持“几位”。我们认为茅台没有分别为市场的关注，数据增值税专用发票每年用量约为014年度逐步提附全国市场宜一周一省市场的重新希望从实施突破口。“裸牛”，华华电联网波华平安、智能胶生产线人士略下，传统金现福热减马的同花都免了。保监管部门是央行和银监会。社科院金融研究所银行研究室主任曾刚表示，与去年末不建设投行的职业年金本次也解除了上升空间术达到91。据智规化，《每日经济新闻》记者表示，在泽广电际、从粮T挖传统因的离职潮苏层干部出表现有00280概投股一个月61.29%。工行理财业务或增速最快、60160点，重工资产证券最大高管为国企改革，一轮信研出，正海基金公司旗下的金财投资、京津冀：据一体新查结算，增加20家公司发布一季度业绩预增的预告，公司有产业新进、产业互联网、企业营、部、添富社保责任以上的时间，中信银行的山拼是公司实现大盈利件，重大有更高速，预计农产质量是优势将有稳定的神春。在这类公司2014年企业数据显示，去\n",
      "Epoch: 24/25... Step: 2100... Loss: 1.0288... Val Loss: 17.9778\n",
      "海康威视恰(相反，这是由于公司在解铁刹车片产业化挺。根据项铺，具备仍将2015年以内容采合持有的改善。”产品发行，以酒集团有的线上下游路投资及互联网金融概念的部分是副处长可以黄的，例行为与风格有助于引入。市场对于2015年第二季度仍然达到了。石基期内，SMG旗下各个业绩应、稳定增长、15.7%%。相当沪指累计涨涨1.23%；社保基金办公司2015年出去年实现公司资产并购重组后房两表现并重组后证止公务的组织形式式在证监会债。三网科技、招商银行、控股子交、和赣运行：美元等先换涨幅最后，有个股市。近日，央行的企业已有所以渠改之地产量说明，随着“两融赢”的提升，给规模出口，剩下，中型集团的信贷成，公司在国内质改性上升”。风险提示，解决融资口市场是中小银银行全国股票，在利润的配套资金措，银行资产存款化债、实行注册制等五水平台。发行，银行卡中心手续费收入维为环比增长，这其中有83家公司涨幅超过20%，这其中，金财产品余额和理定多飙费收入增速较快，其全年单季度经营业绩稳稳定增长来要利空力。公司铁路打造酒产业化局左右(随着1.51倍、PO轨道交通活动宝供应商基金，以来互联网+新的方面，新三板的个股有所以上。30\n"
     ]
    },
    {
     "name": "stdout",
     "output_type": "stream",
     "text": [
      "Epoch: 24/25... Step: 2110... Loss: 0.9945... Val Loss: 17.9286\n",
      "金螳螂14.99亿元，同比增长28.09%。这实现体的人数据披露公司10年报 ，借助互联网公司的流量优势，公司经纪业务实现营收10.99亿元，同比增长34.63%。但净利润增速分别为18.22%和12.82%。1.32%，2014年公司报告期内公司营业收入45.69亿元，同比增长35.96%。但股东占净利润17000万元，同比增长1925.96%；EPF)与中信银华平证银行存款保险、国蔡会银行的山分舆的调整和数踏只能者三个月。我们认为2015年农行281家A股份数据公司2014年成定公司成立股东将充分利益，一年以来亏损益。利空能力。一系统行业受益新兴产业在表现内形的估值性企业，在周期之前。（大背日下来配套育铺等，用市值增3460.15元，录得营业收入539.92亿元，同比增长13.26%，基本符合预期。2014年净息差的达旧99.32万元).15%，成交买入-7600点，6201622隆创股份板23.92%和201329.96万元，继北京津冀冀规划审；2014年1月，建行集团管理体没有发审委托投人专务员工。《全法律法规规执行说，如此企业。\n",
      " 黄金热材科技股东东财富科技1000-20002015\n",
      "Epoch: 24/25... Step: 2120... Loss: 1.1027... Val Loss: 18.4997\n",
      "平安银行、光大银行均涨15%，国有银行“增值”的推进。年末不建两市值业务的集中，提前的比例都在为有前大股。券商股整合潮见主要是因为一方论是沪市的关市，话；是在国家银行的理财业务、5年实现平安银行，依然是大“链硼短期投资评级。风险提件：2014年以来银禧转债B2年发生价一致体多，整合含价值，平安、浦发、中心涨停。昆明珠集团的盈利空间，如铁路、地产、宜顺、电子、移动互联、巨大鄂武等 D下，中国联网2015年4月2日，即年发量股份的银行整体受益的收益率为通，存款利率最大的年初。国有大行的投入风险。 收于有哪儿吸T契在上调方白酒的“订恩”为1.0%的股权空间和资源成长是延续了稳健成为我们的上市公司实现“强化股东的数量增长。安诺以及互联网金理财产品的音间，不是协同效应，短期内最大单位链工作。4005 5000300110全国社保1,011,119,899601,940002443远高光电300155、汇川源精密科技未未掌淘科技主要强游网网络IIO文等。在近日的国脉作办有》全国投入者的时误，以及时代管理人们计划认为11家，国际纳入生产直接(雏码证券)。根据项目进展，而银行 年有更多的优质地区性，产品创造高一\n",
      "Epoch: 24/25... Step: 2130... Loss: 1.1208... Val Loss: 18.4284\n",
      "金螳螂14999年收入完成分拆分研，材料科技涵盖.32%左右。对压营压力大幅减值的风险收益。本期我们存量，A7股市值率和现货91.1 的股套跌蜂拥有定；证期存款成为控制较好的收益。高于同期存款争单位，综合活磐)。就是一面以酒店店间为丰消，这是银行全财财财经营收入来快，工商银行可以更多位地产。公司消息面，全部铁路投资者，铁路等1设研究机构：定透露财，建设银行实现净利润2.16亿元，比上年末增长 4.8%，较高增长。15 年首次披露时间逐步实现，全国社保基金一市场放开了有更风险。招商证券2014年5季报预增股公告，总额有13282只股股占包括股票时间的最后，2013年2月3日披露年报，11家A股上市银行披露信息的资金证券被挖角。不过，出见主要披露一季报预案。信贷资产证券化的走势返因活动存量，本次可持续低于2014年年报披露工作已接近尾声，除了华夏开放两家首家披露公腊，1家上市银行披露了2015年年报，国家披露》(14家业绩报预计显示，截至2014年年末，这次是与国有的大关高管增从公募布 加新增债并不面禁收期间比例落达，无论利好企高诠股票A股股东户数变化，最权筹码集中资产总额增幅达98.55%。在1\n",
      "Epoch: 24/25... Step: 2140... Loss: 1.1651... Val Loss: 18.1064\n",
      "东阿阿胶生成系建议。公司收购中国证券报集中到2015年5005年300万元至8500万元，对当前的息率是创仍更高的公司。中国旅游饭店业协会会凸张解钢、PPac竞争力和直追机席通过产业链上下游产品链中系统优势，未来将形成完整相对航空培训良阔，实现增量158.20%(股权交易日刷5.67%。西部资投益1014年业绩增幅超过30%。公司业绩增长稳步增持公司主要因17只股票将应为1.80%、股东户数的对量减少的股价价格变换。数据，藏药业务价格在存利率创业新带来的业务业务，而未来收入互联网去年，以及互联网公司旗下的互联网公司，这一一定会公司的发展说明巨、品种的产品。不错，增速要行业最近1倍。PVP产业公司进入新高态势高压。而国有环境的投资人，包括连付，便、副行长、内部和负责估，更要讲就坛也开展了2.15%股权。“未来酒店”战略，添富民航国国西电智慧3931.45%1.09%4.42%2.63%29000万6新华影响甚大所所以我江中视增强了更加高，对于最大的分红，创业板的涨幅暂日前十大背景下，现金对价为5.55万元，较2015年一季度业绩比较低，上市公司高分产品：无碳纸、热敏纸量得益于将价值增幅。根据今年计\n",
      "Epoch: 24/25... Step: 2150... Loss: 1.1023... Val Loss: 18.0290\n",
      "云南白药4000568日公布重大资产重组预案，拟以5.3845/股， 此利好；完成证券化和扩容时代将至“腾解银行，将部分综合化经营的总资子不大，对应相当业绩的有更要动力，也有利好促进，券商股权重要有超过20万股。据这种中洲酒市场来致看，证券化发展盘股是证券市场：处于可以接到营收风险事业银行已经出一穷。但港龙主力联动发行，这越利好于受益者注意到，我们认为农行发行节奏看I和支持续瓶的，保险的正式常求，有们的认购信贷资，将流讲差松金额。2014年拟办法快，其中金岭南的价格，激励公告期时代立记者注意到，在国家一季度经验，曾在渣打银行、信孚银行、德意志银行任职。2013年，他的年薪为人民币850万元，成为中国上市银行之中薪资最高的高管——中国银行信贷风险总监詹伟坚离职、苏州分行行长朱韬跳槽至华瑞银行任行长一一位从建设银行信用卡中心离职的中层干部告诉时代周表现。据这意志着担任法总智党副总裁、职人肤詹伟坚在“按降绑风险银行网持平台的发行量或将会为央企业先及运营传插服务业务的积极大逝券创业板，预计2015年一季度盈利2007年度实现全年新增20股派发现的股价数据，以茅台将在定染利信息地区经营销酒和直销银行”，其\n",
      "Epoch: 24/25... Step: 2160... Loss: 1.1299... Val Loss: 18.1131\n",
      "五粮液均普处以8价光大集团含反对相关规定逆公开募投资金用于14月3日实现净利润10.00亿元，YOYO8.38%，实现净利润41.54亿元，YOY增25.12%，许多于其他在A股研究集中：2015年4月3日召开的2015年农发行过1.54亿净利润增长35.30%1345.0038.0634.73预增002584东风电网208,243,9011,259,300,01680,00031,636000718东方财富216,373,2171,076,267,55657,70030,000300099中信证券303,726,4272,210,594,0755,197112,800300259中信电子313,344,877431,929,626195,90013,300300007中兴集团211,039,1605,054,370,079410,69930,007300071四川股份295,339,619080,100002123广发股份67,400,517498,515,192599,50055,702000718国元证券93,663,2024,000,611,5559,90057,700300090山西\n",
      "Epoch: 25/25... Step: 2170... Loss: 1.1338... Val Loss: 18.0743\n",
      "海康威视联象遭体的资产支持证券，申请注册发行的证券化有1.5 亿资，相比，大盘要是否则是高。随着经多商务逐向千料培值大幅相较，但整体合作站认购买入资源，不同期将从利润的投资，可以关注大投资、上市公司的信贷资产支持证券发行管理，有关规定副行长的监管，以来关注重要认职，由于政府部门分开发展战略，由此定考虑的对止是较为小贡的极推进。而不构，每年次量与沪市交易实现相比增长，并非基本收入占比40%；三季度末大幅缩为。31,473.76元，扣非后净利润2.72万吨，同比下滑1.5%，因为具有优势和资产结构上，同时公布年报中披露年报的11家上市公司实现净利润6.66万亿元，同比增幅138.1%；5 股东的净利润6.07万亿元，同比下降16%，更要有更多的高速，提前五大的“潜力留有大数据，但不可能钕铁硼永磁材料的研发、生产、销售和服务的主营业务不变警公司。其中，业绩报告、内实业绩的重要则有超预期。风险提示。未来板块业务不仅是实行，业务部、2014年、内蒙状况，今年初累计涨幅已达50%。不仅仅丹詹，中行近月20日期公告称，南方面继国家监管一部分是指高开户融资融互联网信息的流量网络，同比还有4.51%。公司2014\n",
      "Epoch: 25/25... Step: 2180... Loss: 1.0872... Val Loss: 18.7648\n",
      "云南白药业50007550026323荣之重版一因新药业经形成，利好上市银行中长期内利好银行业。”希望：今年首份工商银行与2014年年报显示，中国银行42014年-2086.57万吨。广电电子商务互联网的重新网络，公司在3003年7术上市公司2014年年实现营业收入1393.99亿元，同比增长1369.98%。糖其喜，金中金所需需考虑计公司投资环比4000吨/C为01307万吨，今年1月68000-200融公司的西部饮缺公4日，公司年报股东户数锐减的公司(降幅为363日停牌，央行节前宣布信贷资产证券化实行注册制，因为其具有优化银行信贷结构，缓解银行资产质量压力等优点，被市场视为银行重要利好。市场预期，注册制将加速信贷资产支持证券的发行，2015年的发行量或将达到8000亿元，为去年的2.8倍。2、职业年金年缴下逾1000亿元具”投资办法正在成剩上，公司将积极推进社保基金进保持股市进行时机，以来广电行业为应对市场的关键互联网及此省会了对外，如今被的角度不少，就在上市盈利如之下，我们测算，我们测当前瞻性顺应，其中金“互联网+金融的总部，为不达产品的已走实了传统。 IT盈利预测2014年全年累累计研发\n",
      "Epoch: 25/25... Step: 2190... Loss: 1.0143... Val Loss: 18.2330\n",
      "海康威视人作继行业绩提升，重要推广。【行情依然】充分区转的上市。【产品让“】渣、银行行长信贷款后，在距销售方面换服务。 翘片定的利润，在2015年下半年出现0.98%，增加税专业票业务收入为163亿-23亿元，同比增加96%至56.1亿元，净利润15.61亿元，同比增0525.10%；2CE型看中，南北车受利到机放的主要力受机并号进行步批量。主江，游族网络凶3日发布2014年年的快报目前已有51家基本预计PE为61,105,425亿元，同比增5325.96%；2014年建设项全产品研发入指出数和交通量均同比增5059亿元。据我们去啊面与12 个月的相关，基金——国内银行计划已被挖角。不续依股，融资类总额磨断。激进，本取得了1.58%。但招商证券化业务的资格为发起机构，将流量性股向益。投资者提高，支付2.82亿元，较2013年增速超过50%。其中，银行理财产品运作，支撑工具电油工程优势调高，但股每宴期上市集团1093.5亿元，同比增0595.00%；558.95%。东北证券拟于2015年4月38日，公司2015-2016年EPS分别为0.16元、0.86亿元、3.50%和52.86%；平。我们认为\n",
      "Epoch: 25/25... Step: 2200... Loss: 0.9499... Val Loss: 18.1375\n",
      "苏宁环球第一轮最高的期间：交易油服资期，4月7日公布2014年年度报告记者业务人员在2014年以往股份制银行相比，后台部门的年薪可能相差的大票面合。对象，另于社保进金直投股权。（证券投报：2014年2015年17日，计划在总股发配不良支出的股东户数降，以内最低的进行价格分向工作符合保险 30家企业互联网+金融公司，京津冀冀协同发展规划》或于4月底下发。据了解，《规划》除将提明确定性强(UNI)、控股股价(华N)、福特泥(100042)和易方达)安排名下降性双良节，第一，强化推广下磁设备一品业务、铁路投资、陆路、业、保险等14月和个人民生银行业为人民币85元配合作，标用户数据将基本合作挖我。此外，券商轮金融资融资、证券和发行人陈钢点，这里价为核游新材中出表现不(以泽市体CE)和2014年的发展银行中金通常提供资金关注的资金，保持稳定增长的分级方案，投资范围将含“这改增”。“股票将消费的现金支财收益指数收增长。分析认为，新三板IP2014年，公司基金将其业绩斐然是前银行业构成后者与中国可通行业人才是以及各级、财球三部、PV支结结构和A股股市对互动网题疗以及内外业务的同比增长342.91%，EPS考虑\n",
      "Epoch: 25/25... Step: 2210... Loss: 1.0510... Val Loss: 18.8556\n",
      "东阿阿胶云宁波进 市场：风电伴订单高造成基合作。4000点这益的投资性折潮，不污价格处于行业首升，不过去年的业绩大逐步增长的背景力度，不足等新增订单的导流塑料的年采》。 分析集则在2014年全年报示，中又一带来路巨被国金融市场竞争硬的时代表现。不世区域推进国战略：中有关材业绩进入增持巨快；建行项目，并且是国贸区带来新的出版传统媒体和新开展在全过的业绩表现，同时也不会对于市场的今年，将需求增值服务改造性度评级。预计2015-2016年公布2014年一季度公司实现净利润3.93亿元，同比增长37.34%。此次，中国银行股份对价格变营的收入，并非首都收到的产业。今日公司将由染料产品类闻产新材料，物产生产线搬向。航空培训收费项，游族网络值333.16日收商轮金配套资金之全化超出任一名截然目前，掌淘科技股充值“1倍增充”票用于网络线下发行静待进一步扩大多标的资产，目前，整体已在4.32倍，游族网络和板发挥网络一排名靠，的涵盖工正是有详行业42.11/1.5倍，PP销处置后，公司将在一售业务市场。同时，互联网金融平台战略合作的项进产生产，合华瑞技术(ABPVP处于行业进程试灵投资号机构势出任性的机构评级安源\n",
      "Epoch: 25/25... Step: 2220... Loss: 1.0979... Val Loss: 18.6208\n",
      "金螳螂14.94%，收购完成分票信用资产，20亿份又有限公司受打造影响，增强主要集团(601333年咨询)35亿水平，预计15年一季度公司报告净利润同比增幅超过市排一一位列，而YO 行业杭造52股份走或者业务收入，其中游的业绩实现承诺已经超70倍。预计亏下，115年将以往股份制银行或者民营银行担任重要职位，\n",
      " 2013年年报中披露，2013年末盘股上市公司中现35.55%(股东户数锐减数据显示，截至4月4日，沪深两市有1014家公司披露了2015年一季度股东户数变化，这一引入主要板40%；标准价对最高的同比增长了10基础上年末投资办公司1015年EPS分别为0.26,34439元。根据市场和黄金现令钟涨势，已落实施，但目前相对稳定营收购，精助推进检大力在，在住上市华传播物、电子网品业务小游戏的发展费用。兴消费销售在去向传统媒体集团每10亿的互联网+金融公司为流量，这种做好职业所会有望通过，公司在A股上市的发现品10.4亿元，同比降48.34%。公司截至目前，已理财产品结构，将确定后市公司年报披露累计理现金分红，有36家，中国银行也有望在今。16年度分析师接。上市公司已经过破额稳定，平艺公司已经\n",
      "Epoch: 25/25... Step: 2230... Loss: 1.1247... Val Loss: 18.0335\n",
      "金螳螂公司01年三季度的一家圈。发者目前，不仅有“乙进一步扩大线下发客户，并且公司在线业产品的发布，以酒集团有望线上下半原原因存产：公司布局进入收入期。公司 1 年收入来看好： 先，推动已是在A法大数据规定，专用理财，也让组织及华外客户理财的年PE和分别工作。系统和京商城A股基层上海通证券认购60亿元，对应150亿元；季度净利润25.82亿元，同比下降 35.96%，拟每10股转派现(502122(咨询)，上农大幅领拟其知。其中拟以现金9日多收和净利为基础高，其中最低的价值和一致，创业板涨幅超过5%。序号股票机构的不断处于分析的“水准入”。去年总股份而37.59%(40.18%，是为1.34亿元(.43亿元，分应是58%(60%265.SM%)1方面提高。公司中纪业务收入同比增长了6.33%；农业银行2014年核销不良资产达29.22亿元，较2013年末增加30只，这贷资产管理方面的“高管外体系造最面价标准指数的渐力。除了对六房是两个家发放银行旗下的个同比例9跌5300%，30036360才讯建的例(90%。不这三类股票A股的比例为53.55%-30.03%。其中最大的公司笔大中国农入电视网络\n",
      "Epoch: 25/25... Step: 2240... Loss: 1.0301... Val Loss: 18.4428\n",
      "科大讯飞集“预计”小板“山东省10000亿元员可以持股，并购完成所需要考虑的。但是伴随着这几网络O来的发布就是近了一个最多的其他公告，社保保持稳定的跨十资产注境股，对其中，在港股市场上涨了逾2%。\n",
      " 百货通水过，如果此次出口的还要是缓解。银行：财行星压为将推出堂改革的银行陆家业绩，公司主要为17.27%。我们预计公司15年将陆续出台更我要实现外资产注值，注册制将坚持实施了。说明五即网概念股有2500-2小公司 IPOBPE业务，就要做市，带来了境内机构投资者可以投资者才换与台责任品的可以竞争将对染料全行业用领域，这其是视的互联网公司的比例有望持续低持，但这些个股已经到的一个润的要求上的基金也已经完成了了厦门创业业绩快速增长的业绩：长。非经常性，双方非战略客户，目前政策面利空，因业务改革做出回大，但因以于央行大兼首费用户的稳定增长，不建于投入资产会对经营业绩并稳的增长，持续建的投资银行对其业绩增长乏力蓝思龙以及报的营业收入来看，重要动力和梅要铁路投资的重运进行业绩保持稳定，分别为13.21%和276跌。业绩；不是，中国互联网创业板的有就o分之五的上市公司也有严少，不过贷款相比下降122bp至1月2\n",
      "Epoch: 25/25... Step: 2250... Loss: 1.0775... Val Loss: 17.9211\n",
      "海康威视恰恰相反，这是由于公司在解决方案的市场发展较近期，2014年净利润增长均在交易后79.52亿元，同比下降6.52%。公司14 年实现营业收入 1.58亿7同比增长6.21%。实现归属于母公司股东的净利润5.02亿元，同比增长3.24%。新华产品表示，着销商利普普遍下滑民生银行所有存款利率下滑的大幅下降，“联姻不”不仅上市公司业绩增长稳健。但中小看来看，公司均值为活期宝，与中小公司实现了分红，建设泛海控股2.18亿元。同比增长6.04%；实现净利润4.00亿元同比增长2.09%；实现归属于上市公司股东的净利润6.05亿元，同比增长6.03%；实现归属于母公司股东的净利润2.03亿元，同比增长2.09%。建筑完012年公司年期工0.46亿元，占比14.00亿2.72%296.0817新天音(6.0425.SH)7730.2022.1822.1237浙江龙药(000269.SZ)中信建投买入-23.65-3世纪瑞尔(000100.SZ)国海航机维持23.6326.0036.6236中科南车(601791.SH)中金公司买入78.0092.5342.69%41中工科(900259.SZ)中泰君安\n"
     ]
    }
   ],
   "source": [
    "n_seqs, n_steps = 32, 64\n",
    "n_batches=100\n",
    "\n",
    " #只是单纯先设定一个够大可以容纳下训练数据，但又不会大到把内存用尽的大小\n",
    "train(net, encoded, epochs=25, n_seqs=n_seqs, n_steps=n_steps, lr=0.001, cuda=True, print_every=10)"
   ]
  },
  {
   "cell_type": "code",
   "execution_count": 21,
   "metadata": {
    "scrolled": false
   },
   "outputs": [
    {
     "name": "stdout",
     "output_type": "stream",
     "text": [
      "美的上市公司的给股本周报告。获得监新闻》(020159.SZ)中金公司买入74.8032.5212.9231阳光城(000051.SZ)中金公司买入32.7031.195.79%3富瑞特装(002288.SZ)中银国际证券买入16.7097.7559.32%11爱尔眼科(300255.SZ)中信建投买入-26.03-16海通证券0.4602.27亿913.32%11中工国际(002056.SZ)海通证券\n"
     ]
    }
   ],
   "source": [
    "print(write_something(net, 200, prime='美的', top_k=2))"
   ]
  },
  {
   "cell_type": "code",
   "execution_count": 22,
   "metadata": {
    "scrolled": true
   },
   "outputs": [
    {
     "name": "stdout",
     "output_type": "stream",
     "text": [
      "万达，91.63亿元，同比增长20.07%。实现公司101.51 生药药600617.SH南方航空中金证券0.62000.75104.0720150403600239华润传鹤301,469,30902,155,99510,6000020150403600206中南传媒997,904,551114,674,479112,699,55111,10021,000300023中兴集团291,992,1221,0\n"
     ]
    }
   ],
   "source": [
    "print(write_something(net, 200, prime='万达', top_k=2))"
   ]
  },
  {
   "cell_type": "code",
   "execution_count": 24,
   "metadata": {},
   "outputs": [
    {
     "name": "stdout",
     "output_type": "stream",
     "text": [
      "小米科技下周将实现同告。 日诺普有自1020万小创业板。数据分红方案，披露年报，这些公司2014年实现营业收入 12.11亿元同比增长2.0038.8030.1634.32预增002170中科金117,401,0791,059,161,1991,002,7911,159,000000777中兴证券144,407,0441,202,518,1991,059,155,4003,200002101粤传媒144,3\n"
     ]
    }
   ],
   "source": [
    "print(write_something(net, 200, prime='小米科技', top_k=2))"
   ]
  },
  {
   "cell_type": "markdown",
   "metadata": {},
   "source": [
    "**Tips:**\n",
    "\n",
    "### 长短期记忆神经网络（LSTM）官方文档\n",
    "\n",
    "#### class torch.nn.LSTM(*args, **kwargs)\n",
    "\n",
    "将一个多层的LSTM应用到输入序列。\n",
    "\n",
    "对输入序列的每个元素，LSTM的每层都会执行以下计算：\n",
    "\n",
    "\\begin{matrix}i_{t}=sigmoid(W_{ii}x_{t}+b_{ii}+W_{hi}h_{(t-1)}+b_{hi})\\\\ f_{t}=sigmoid(W_{if}x_{t}+b_{if}+W_{hf}h_{(t-1)}+b_{hf})\\\\ g_{t}=\\tanh (W_{ig}x_{t}+b_{ig}+W_{hc}h_{(t-1)}+b_{hg})\\\\ o_{t}=sigmoid(W_{io}x_{t}+b_{io}+W_{ho}h_{(t-1)}+b_{ho}))\\\\ c_{t}=f_{t}*c_{t-1}+i_{t}*g_{t}\\\\ h_{t}=o_{t}*\\tanh (c_{t})\\end{matrix}\n",
    "\n",
    "其中，h_{t}是时刻t的隐状态,c_{t}是时刻t的细胞状态，x_{t}是上一层的在时刻t的隐状态或者是第一层在时刻t的输入。i_{t}、f_{t}、g_{t}、o_{t}分别代表 输入门，遗忘门，细胞和输出门。\n",
    "\n",
    "**参数：**\n",
    "\n",
    "- input_size - 输入的特征维度\n",
    "\n",
    "- hidden_size - 隐状态的特征维度\n",
    "\n",
    "- num_layers - 层数（和时序展开要区分开）\n",
    "\n",
    "- bias - 如果为False，那么LSTM将不会使用b_ih,b_hh，默认为True。\n",
    "\n",
    "- batch_first - 如果为True，那么输入和输出张量的形状为(batch, seq, feature)\n",
    "\n",
    "- dropout - 如果非零的话，将会在RNN的输出上加个dropout，最后一层除外。\n",
    "\n",
    "- bidirectional - 如果为True，将会变成一个双向RNN，默认为False。\n",
    "\n",
    "**LSTM的输入： input, (h_0, c_0)**\n",
    "\n",
    "- input (seq_len, batch, input_size): 保存输入序列特征的张量。input可以是被填充的变长的序列。详情请查看：torch.nn.utils.rnn.pack_padded_sequence()。\n",
    "\n",
    "- h_0 (num_layers * num_directions, batch, hidden_size): 保存着batch中每个元素的初始隐状态的张量。\n",
    "\n",
    "- c_0 (num_layers * num_directions, batch, hidden_size): 保存着batch中每个元素的初始化细胞状态的张量。\n",
    "\n",
    "**LSTM的输出： output, (h_n, c_n)**\n",
    "\n",
    "- output (seq_len, batch, hidden_size * num_directions): 保存LSTM最后一层的输出的张量。 如果输入是torch.nn.utils.rnn.PackedSequence，那么输出也是torch.nn.utils.rnn.PackedSequence。\n",
    "\n",
    "- h_n (num_layers * num_directions, batch, hidden_size): 保存着LSTM最后一个时间步的隐状态的张量。\n",
    "\n",
    "- c_n (num_layers * num_directions, batch, hidden_size): 保存着LSTM最后一个时间步的细胞状态的张量。\n",
    "\n",
    "**变量：**\n",
    "\n",
    "- weight_ih_l[k] - 第k层可学习的input-hidden权重(W_ii|W_if|W_ig|W_io)，形状为(4*hidden_size x input_size)。\n",
    "\n",
    "- weight_hh_l[k] - 第k层可学习的hidden-hidden权重(W_hi|W_hf|W_hg|W_ho)，形状为(4*hidden_size x  hidden_size)。\n",
    "\n",
    "- bias_ih_l[k] - 第k层可学习的input-hidden偏置(b_ii|b_if|b_ig|b_io)，形状为(4*hidden_size)。\n",
    "\n",
    "- bias_hh_l[k] - 第k层可学习的hidden-hidden偏置(b_hi|b_hf|b_hg|b_ho)，形状为(4*hidden_size)。\n",
    "\n",
    "**例子：**\n",
    "\n",
    "\n",
    "```python\n",
    "rnn = nn.LSTM(10, 20, 2)\n",
    "input = Variable(torch.randn(5, 3, 10))\n",
    "h0 = Variable(torch.randn(2, 3, 20))\n",
    "c0 = Variable(torch.randn(2, 3, 20))\n",
    "output, hn = rnn(input, (h0, c0))\n",
    "```"
   ]
  },
  {
   "cell_type": "markdown",
   "metadata": {},
   "source": [
    "---"
   ]
  },
  {
   "cell_type": "markdown",
   "metadata": {},
   "source": [
    "### 交叉熵损失函数 官方文档\n",
    "\n",
    "**class torch.nn.CrossEntropyLoss(weight=None, size_average=True, ignore_index=-100, reduce=True)**\n",
    "\n",
    "交叉熵损失函数。\n",
    "\n",
    "此标准将`LogSoftMax`和`NLLLoss`集成到一个类中。当训练一个多类分类器的时候，这个方法是十分有用的。如果训练样本很不均衡，可以通过`weight`参数手动调整各类别的权重。\n",
    "\n",
    "Loss可以表述为下面的形式：\n",
    "\n",
    "![loss(\\mathbf{x},label)\\begin{align*} &= -\\log\\frac{e^{\\mathbf{x}_{label}}}{\\sum_{j=1}^{N}e^{\\mathbf{x}_{j}}}\\\\  &= -\\mathbf{x}_{label}+\\log\\sum_{j=1}^{N}e^{\\mathbf{x}_{j}}\\end{align*}](http://private.codecogs.com/gif.latex?loss(\\mathbf{x},label%29\\begin{align*}%20&=%20-\\log\\frac{e^{\\mathbf{x}_{label}}}{\\sum_{j=1}^{N}e^{\\mathbf{x}_{j}}}\\\\%20%20&=%20-\\mathbf{x}_{label}+\\log\\sum_{j=1}^{N}e^{\\mathbf{x}_{j}}\\end{align*})\n",
    "\n",
    "当`weight`参数被指定的时候，loss的计算公式为：\n",
    "\n",
    "![ loss(\\mathbf{x},label)=weight_{label}*(-\\mathbf{x}_{label}+\\log\\sum_{j=1}^{N}e^{\\mathbf{x}_{j}})](http://private.codecogs.com/gif.latex?%20loss(\\mathbf{x},label%29=weight_{label}*(-\\mathbf{x}_{label}+\\log\\sum_{j=1}^{N}e^{\\mathbf{x}_{j}}%29)\n",
    "\n",
    "默认情况下，计算出的loss对mini-batch的大小取了平均。\n",
    "\n",
    "\n",
    "**参数：**\n",
    "\n",
    "- weight(Tensor,optional) - 1维张量，N个元素，分别代表N类的权重，如果训练样本很不均衡的话，是非常有用的。默认值为None。\n",
    "\n",
    "- size_average(bool,optional) - 默认情况下，计算出的loss将会对每个mini-batch的大小取平均。如果`size_average`被设置为`False`，则在每个mini-batch中的loss会被求和。当参数`reduce`为`False`时，此参数被忽略。\n",
    "\n",
    "- ignore_index(int,optional) - 指定要忽略的目标类别索引。忽略的目标类别不参与计算梯度。当`size_average`为`True`时，这些类别同时不参与计算loss的均值。\n",
    "\n",
    "- reduce(bool,optional) - 默认情况下，计算出的loss会对每个mini-batch取平均或求和。如果`reduce`被设置为`False`，损失函数会返回mini-batch中N个元素的loss，而忽略`size_average`参数。\n",
    "\n",
    "**调用时参数：**\n",
    "\n",
    "- Input: (N,C) N是mini-batch的大小，C 是类别的数量\n",
    "\n",
    "- Target: (N) 分类类别的索引，每个目标值需符合：0 <= targets[i] <= C-1\n",
    "\n",
    "- Output: 标量 如果`reduce`为`False`，则输出维度为(N)\n",
    "\n",
    "**例子：**\n",
    "\n",
    "\n",
    "```python\n",
    "loss = nn.CrossEntropyLoss()\n",
    "input = autograd.Variable(torch.randn(3, 5), requires_grad=True)\n",
    "target = autograd.Variable(torch.LongTensor(3).random_(5))\n",
    "output = loss(input, target)\n",
    "output.backward()\n",
    "```\n",
    "\n"
   ]
  },
  {
   "cell_type": "markdown",
   "metadata": {
    "collapsed": true
   },
   "source": [
    "![](http://wiki.swarma.net/images/c/ca/AI学园.jpg)"
   ]
  },
  {
   "cell_type": "code",
   "execution_count": null,
   "metadata": {},
   "outputs": [],
   "source": []
  }
 ],
 "metadata": {
  "kernelspec": {
   "display_name": "Python 3",
   "language": "python",
   "name": "python3"
  },
  "language_info": {
   "codemirror_mode": {
    "name": "ipython",
    "version": 3
   },
   "file_extension": ".py",
   "mimetype": "text/x-python",
   "name": "python",
   "nbconvert_exporter": "python",
   "pygments_lexer": "ipython3",
   "version": "3.6.4"
  }
 },
 "nbformat": 4,
 "nbformat_minor": 2
}
